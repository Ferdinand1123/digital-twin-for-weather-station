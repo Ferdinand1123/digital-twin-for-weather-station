{
 "cells": [
  {
   "cell_type": "code",
   "execution_count": 2,
   "metadata": {},
   "outputs": [],
   "source": [
    "import os\n",
    "import numpy as np\n",
    "import pandas as pd\n",
    "import xarray as xr\n",
    "import tempfile\n",
    "import matplotlib.pyplot as plt\n",
    "import cartopy.crs as ccrs\n",
    "from tempfile import TemporaryDirectory"
   ]
  },
  {
   "cell_type": "code",
   "execution_count": 1,
   "metadata": {},
   "outputs": [],
   "source": [
    "# Example from cds very large request because of timeframe \n",
    "# year for year \n",
    "# month for month might be faster"
   ]
  },
  {
   "cell_type": "code",
   "execution_count": 3,
   "metadata": {},
   "outputs": [
    {
     "ename": "HTTPError",
     "evalue": "403 Client Error: Forbidden for url: https://cds.climate.copernicus.eu/api/retrieve/v1/processes/derived-era5-single-levels-daily-statistics/execution\ncost limits exceeded\nYour request is too large, please reduce your selection.",
     "output_type": "error",
     "traceback": [
      "\u001b[0;31m---------------------------------------------------------------------------\u001b[0m",
      "\u001b[0;31mHTTPError\u001b[0m                                 Traceback (most recent call last)",
      "\u001b[1;32m/Users/ferdinand/Desktop/MasterThesis/digital-twin-for-weather-station/era5/era_example.ipynb Cell 3\u001b[0m line \u001b[0;36m4\n\u001b[1;32m      <a href='vscode-notebook-cell:/Users/ferdinand/Desktop/MasterThesis/digital-twin-for-weather-station/era5/era_example.ipynb#W2sZmlsZQ%3D%3D?line=3'>4</a>\u001b[0m request \u001b[39m=\u001b[39m {\n\u001b[1;32m      <a href='vscode-notebook-cell:/Users/ferdinand/Desktop/MasterThesis/digital-twin-for-weather-station/era5/era_example.ipynb#W2sZmlsZQ%3D%3D?line=4'>5</a>\u001b[0m     \u001b[39m\"\u001b[39m\u001b[39mproduct_type\u001b[39m\u001b[39m\"\u001b[39m: \u001b[39m\"\u001b[39m\u001b[39mreanalysis\u001b[39m\u001b[39m\"\u001b[39m,\n\u001b[1;32m      <a href='vscode-notebook-cell:/Users/ferdinand/Desktop/MasterThesis/digital-twin-for-weather-station/era5/era_example.ipynb#W2sZmlsZQ%3D%3D?line=5'>6</a>\u001b[0m     \u001b[39m\"\u001b[39m\u001b[39mvariable\u001b[39m\u001b[39m\"\u001b[39m: [\n\u001b[0;32m   (...)\u001b[0m\n\u001b[1;32m     <a href='vscode-notebook-cell:/Users/ferdinand/Desktop/MasterThesis/digital-twin-for-weather-station/era5/era_example.ipynb#W2sZmlsZQ%3D%3D?line=36'>37</a>\u001b[0m     \u001b[39m\"\u001b[39m\u001b[39marea\u001b[39m\u001b[39m\"\u001b[39m: [\u001b[39m15\u001b[39m, \u001b[39m-\u001b[39m\u001b[39m58\u001b[39m, \u001b[39m11\u001b[39m, \u001b[39m62\u001b[39m]\n\u001b[1;32m     <a href='vscode-notebook-cell:/Users/ferdinand/Desktop/MasterThesis/digital-twin-for-weather-station/era5/era_example.ipynb#W2sZmlsZQ%3D%3D?line=37'>38</a>\u001b[0m }\n\u001b[1;32m     <a href='vscode-notebook-cell:/Users/ferdinand/Desktop/MasterThesis/digital-twin-for-weather-station/era5/era_example.ipynb#W2sZmlsZQ%3D%3D?line=39'>40</a>\u001b[0m client \u001b[39m=\u001b[39m cdsapi\u001b[39m.\u001b[39mClient()\n\u001b[0;32m---> <a href='vscode-notebook-cell:/Users/ferdinand/Desktop/MasterThesis/digital-twin-for-weather-station/era5/era_example.ipynb#W2sZmlsZQ%3D%3D?line=40'>41</a>\u001b[0m client\u001b[39m.\u001b[39;49mretrieve(dataset, request)\u001b[39m.\u001b[39mdownload()\n",
      "File \u001b[0;32m~/anaconda3/envs/crai/lib/python3.10/site-packages/cads_api_client/legacy_api_client.py:160\u001b[0m, in \u001b[0;36mLegacyApiClient.retrieve\u001b[0;34m(self, name, request, target)\u001b[0m\n\u001b[1;32m    158\u001b[0m submitted: processing\u001b[39m.\u001b[39mRemote \u001b[39m|\u001b[39m processing\u001b[39m.\u001b[39mResults\n\u001b[1;32m    159\u001b[0m \u001b[39mif\u001b[39;00m \u001b[39mself\u001b[39m\u001b[39m.\u001b[39mwait_until_complete:\n\u001b[0;32m--> 160\u001b[0m     submitted \u001b[39m=\u001b[39m \u001b[39mself\u001b[39;49m\u001b[39m.\u001b[39;49mlogging_decorator(\u001b[39mself\u001b[39;49m\u001b[39m.\u001b[39;49mclient\u001b[39m.\u001b[39;49msubmit_and_wait_on_result)(\n\u001b[1;32m    161\u001b[0m         collection_id\u001b[39m=\u001b[39;49mname,\n\u001b[1;32m    162\u001b[0m         \u001b[39m*\u001b[39;49m\u001b[39m*\u001b[39;49mrequest,\n\u001b[1;32m    163\u001b[0m     )\n\u001b[1;32m    164\u001b[0m \u001b[39melse\u001b[39;00m:\n\u001b[1;32m    165\u001b[0m     submitted \u001b[39m=\u001b[39m \u001b[39mself\u001b[39m\u001b[39m.\u001b[39mlogging_decorator(\u001b[39mself\u001b[39m\u001b[39m.\u001b[39mclient\u001b[39m.\u001b[39msubmit)(\n\u001b[1;32m    166\u001b[0m         collection_id\u001b[39m=\u001b[39mname,\n\u001b[1;32m    167\u001b[0m         \u001b[39m*\u001b[39m\u001b[39m*\u001b[39mrequest,\n\u001b[1;32m    168\u001b[0m     )\n",
      "File \u001b[0;32m~/anaconda3/envs/crai/lib/python3.10/site-packages/cads_api_client/legacy_api_client.py:143\u001b[0m, in \u001b[0;36mLegacyApiClient.logging_decorator.<locals>.wrapper\u001b[0;34m(*args, **kwargs)\u001b[0m\n\u001b[1;32m    138\u001b[0m \u001b[39m@functools\u001b[39m\u001b[39m.\u001b[39mwraps(func)\n\u001b[1;32m    139\u001b[0m \u001b[39mdef\u001b[39;00m \u001b[39mwrapper\u001b[39m(\u001b[39m*\u001b[39margs: Any, \u001b[39m*\u001b[39m\u001b[39m*\u001b[39mkwargs: Any) \u001b[39m-\u001b[39m\u001b[39m>\u001b[39m Any:\n\u001b[1;32m    140\u001b[0m     \u001b[39mwith\u001b[39;00m LoggingContext(\n\u001b[1;32m    141\u001b[0m         logger\u001b[39m=\u001b[39mprocessing\u001b[39m.\u001b[39mlogger, quiet\u001b[39m=\u001b[39m\u001b[39mself\u001b[39m\u001b[39m.\u001b[39mquiet, debug\u001b[39m=\u001b[39m\u001b[39mself\u001b[39m\u001b[39m.\u001b[39m_debug\n\u001b[1;32m    142\u001b[0m     ):\n\u001b[0;32m--> 143\u001b[0m         \u001b[39mreturn\u001b[39;00m func(\u001b[39m*\u001b[39;49margs, \u001b[39m*\u001b[39;49m\u001b[39m*\u001b[39;49mkwargs)\n",
      "File \u001b[0;32m~/anaconda3/envs/crai/lib/python3.10/site-packages/cads_api_client/api_client.py:132\u001b[0m, in \u001b[0;36mApiClient.submit_and_wait_on_result\u001b[0;34m(self, collection_id, **request)\u001b[0m\n\u001b[1;32m    129\u001b[0m \u001b[39mdef\u001b[39;00m \u001b[39msubmit_and_wait_on_result\u001b[39m(\n\u001b[1;32m    130\u001b[0m     \u001b[39mself\u001b[39m, collection_id: \u001b[39mstr\u001b[39m, \u001b[39m*\u001b[39m\u001b[39m*\u001b[39mrequest: Any\n\u001b[1;32m    131\u001b[0m ) \u001b[39m-\u001b[39m\u001b[39m>\u001b[39m processing\u001b[39m.\u001b[39mResults:\n\u001b[0;32m--> 132\u001b[0m     \u001b[39mreturn\u001b[39;00m \u001b[39mself\u001b[39;49m\u001b[39m.\u001b[39;49mretrieve_api\u001b[39m.\u001b[39;49msubmit_and_wait_on_result(collection_id, \u001b[39m*\u001b[39;49m\u001b[39m*\u001b[39;49mrequest)\n",
      "File \u001b[0;32m~/anaconda3/envs/crai/lib/python3.10/site-packages/cads_api_client/processing.py:555\u001b[0m, in \u001b[0;36mProcessing.submit_and_wait_on_result\u001b[0;34m(self, collection_id, **request)\u001b[0m\n\u001b[1;32m    554\u001b[0m \u001b[39mdef\u001b[39;00m \u001b[39msubmit_and_wait_on_result\u001b[39m(\u001b[39mself\u001b[39m, collection_id: \u001b[39mstr\u001b[39m, \u001b[39m*\u001b[39m\u001b[39m*\u001b[39mrequest: Any) \u001b[39m-\u001b[39m\u001b[39m>\u001b[39m Results:\n\u001b[0;32m--> 555\u001b[0m     remote \u001b[39m=\u001b[39m \u001b[39mself\u001b[39;49m\u001b[39m.\u001b[39;49msubmit(collection_id, \u001b[39m*\u001b[39;49m\u001b[39m*\u001b[39;49mrequest)\n\u001b[1;32m    556\u001b[0m     remote\u001b[39m.\u001b[39mwait_on_result()\n\u001b[1;32m    557\u001b[0m     \u001b[39mreturn\u001b[39;00m remote\u001b[39m.\u001b[39mmake_results()\n",
      "File \u001b[0;32m~/anaconda3/envs/crai/lib/python3.10/site-packages/cads_api_client/processing.py:551\u001b[0m, in \u001b[0;36mProcessing.submit\u001b[0;34m(self, collection_id, **request)\u001b[0m\n\u001b[1;32m    550\u001b[0m \u001b[39mdef\u001b[39;00m \u001b[39msubmit\u001b[39m(\u001b[39mself\u001b[39m, collection_id: \u001b[39mstr\u001b[39m, \u001b[39m*\u001b[39m\u001b[39m*\u001b[39mrequest: Any) \u001b[39m-\u001b[39m\u001b[39m>\u001b[39m Remote:\n\u001b[0;32m--> 551\u001b[0m     status_info \u001b[39m=\u001b[39m \u001b[39mself\u001b[39;49m\u001b[39m.\u001b[39;49mprocess_execute(collection_id, request)\n\u001b[1;32m    552\u001b[0m     \u001b[39mreturn\u001b[39;00m status_info\u001b[39m.\u001b[39mmake_remote()\n",
      "File \u001b[0;32m~/anaconda3/envs/crai/lib/python3.10/site-packages/cads_api_client/processing.py:532\u001b[0m, in \u001b[0;36mProcessing.process_execute\u001b[0;34m(self, process_id, inputs)\u001b[0m\n\u001b[1;32m    526\u001b[0m \u001b[39mdef\u001b[39;00m \u001b[39mprocess_execute\u001b[39m(\n\u001b[1;32m    527\u001b[0m     \u001b[39mself\u001b[39m,\n\u001b[1;32m    528\u001b[0m     process_id: \u001b[39mstr\u001b[39m,\n\u001b[1;32m    529\u001b[0m     inputs: \u001b[39mdict\u001b[39m[\u001b[39mstr\u001b[39m, Any],\n\u001b[1;32m    530\u001b[0m ) \u001b[39m-\u001b[39m\u001b[39m>\u001b[39m StatusInfo:\n\u001b[1;32m    531\u001b[0m     url \u001b[39m=\u001b[39m \u001b[39mf\u001b[39m\u001b[39m\"\u001b[39m\u001b[39m{\u001b[39;00m\u001b[39mself\u001b[39m\u001b[39m.\u001b[39murl\u001b[39m}\u001b[39;00m\u001b[39m/processes/\u001b[39m\u001b[39m{\u001b[39;00mprocess_id\u001b[39m}\u001b[39;00m\u001b[39m/execution\u001b[39m\u001b[39m\"\u001b[39m\n\u001b[0;32m--> 532\u001b[0m     \u001b[39mreturn\u001b[39;00m StatusInfo\u001b[39m.\u001b[39;49mfrom_request(\n\u001b[1;32m    533\u001b[0m         \u001b[39m\"\u001b[39;49m\u001b[39mpost\u001b[39;49m\u001b[39m\"\u001b[39;49m, url, json\u001b[39m=\u001b[39;49m{\u001b[39m\"\u001b[39;49m\u001b[39minputs\u001b[39;49m\u001b[39m\"\u001b[39;49m: inputs}, \u001b[39m*\u001b[39;49m\u001b[39m*\u001b[39;49m\u001b[39mself\u001b[39;49m\u001b[39m.\u001b[39;49mrequest_kwargs\n\u001b[1;32m    534\u001b[0m     )\n",
      "File \u001b[0;32m~/anaconda3/envs/crai/lib/python3.10/site-packages/cads_api_client/processing.py:133\u001b[0m, in \u001b[0;36mApiResponse.from_request\u001b[0;34m(cls, method, url, headers, session, retry_options, request_options, download_options, sleep_max, cleanup, **kwargs)\u001b[0m\n\u001b[1;32m    128\u001b[0m response \u001b[39m=\u001b[39m robust_request(\n\u001b[1;32m    129\u001b[0m     method, url, headers\u001b[39m=\u001b[39mheaders, \u001b[39m*\u001b[39m\u001b[39m*\u001b[39mrequest_options, \u001b[39m*\u001b[39m\u001b[39m*\u001b[39mkwargs\n\u001b[1;32m    130\u001b[0m )\n\u001b[1;32m    131\u001b[0m logger\u001b[39m.\u001b[39mdebug(\u001b[39mf\u001b[39m\u001b[39m\"\u001b[39m\u001b[39mREPLY \u001b[39m\u001b[39m{\u001b[39;00mresponse\u001b[39m.\u001b[39mtext\u001b[39m}\u001b[39;00m\u001b[39m\"\u001b[39m)\n\u001b[0;32m--> 133\u001b[0m cads_raise_for_status(response)\n\u001b[1;32m    135\u001b[0m \u001b[39mself\u001b[39m \u001b[39m=\u001b[39m \u001b[39mcls\u001b[39m(\n\u001b[1;32m    136\u001b[0m     response,\n\u001b[1;32m    137\u001b[0m     headers\u001b[39m=\u001b[39mheaders,\n\u001b[0;32m   (...)\u001b[0m\n\u001b[1;32m    143\u001b[0m     cleanup\u001b[39m=\u001b[39mcleanup,\n\u001b[1;32m    144\u001b[0m )\n\u001b[1;32m    145\u001b[0m \u001b[39mself\u001b[39m\u001b[39m.\u001b[39mlog_messages()\n",
      "File \u001b[0;32m~/anaconda3/envs/crai/lib/python3.10/site-packages/cads_api_client/processing.py:71\u001b[0m, in \u001b[0;36mcads_raise_for_status\u001b[0;34m(response)\u001b[0m\n\u001b[1;32m     64\u001b[0m     \u001b[39melse\u001b[39;00m:\n\u001b[1;32m     65\u001b[0m         message \u001b[39m=\u001b[39m \u001b[39m\"\u001b[39m\u001b[39m\\n\u001b[39;00m\u001b[39m\"\u001b[39m\u001b[39m.\u001b[39mjoin(\n\u001b[1;32m     66\u001b[0m             [\n\u001b[1;32m     67\u001b[0m                 \u001b[39mf\u001b[39m\u001b[39m\"\u001b[39m\u001b[39m{\u001b[39;00mresponse\u001b[39m.\u001b[39mstatus_code\u001b[39m}\u001b[39;00m\u001b[39m Client Error: \u001b[39m\u001b[39m{\u001b[39;00mresponse\u001b[39m.\u001b[39mreason\u001b[39m}\u001b[39;00m\u001b[39m for url: \u001b[39m\u001b[39m{\u001b[39;00mresponse\u001b[39m.\u001b[39murl\u001b[39m}\u001b[39;00m\u001b[39m\"\u001b[39m,\n\u001b[1;32m     68\u001b[0m                 error_json_to_message(error_json),\n\u001b[1;32m     69\u001b[0m             ]\n\u001b[1;32m     70\u001b[0m         )\n\u001b[0;32m---> 71\u001b[0m         \u001b[39mraise\u001b[39;00m requests\u001b[39m.\u001b[39mexceptions\u001b[39m.\u001b[39mHTTPError(message, response\u001b[39m=\u001b[39mresponse)\n\u001b[1;32m     72\u001b[0m response\u001b[39m.\u001b[39mraise_for_status()\n",
      "\u001b[0;31mHTTPError\u001b[0m: 403 Client Error: Forbidden for url: https://cds.climate.copernicus.eu/api/retrieve/v1/processes/derived-era5-single-levels-daily-statistics/execution\ncost limits exceeded\nYour request is too large, please reduce your selection."
     ]
    }
   ],
   "source": [
    "import cdsapi\n",
    "\n",
    "dataset = \"derived-era5-single-levels-daily-statistics\"\n",
    "request = {\n",
    "    \"product_type\": \"reanalysis\",\n",
    "    \"variable\": [\n",
    "        \"10m_u_component_of_wind\",\n",
    "        \"10m_v_component_of_wind\",\n",
    "        \"2m_dewpoint_temperature\",\n",
    "        \"2m_temperature\",\n",
    "        \"surface_pressure\",\n",
    "        \"total_precipitation\"\n",
    "    ],\n",
    "    \"year\": \"2018\",\n",
    "    \"month\": [\n",
    "        \"01\", \"02\", \"03\",\n",
    "        \"04\", \"05\", \"06\",\n",
    "        \"07\", \"08\", \"09\",\n",
    "        \"10\", \"11\", \"12\"\n",
    "    ],\n",
    "    \"day\": [\n",
    "        \"01\", \"02\", \"03\",\n",
    "        \"04\", \"05\", \"06\",\n",
    "        \"07\", \"08\", \"09\",\n",
    "        \"10\", \"11\", \"12\",\n",
    "        \"13\", \"14\", \"15\",\n",
    "        \"16\", \"17\", \"18\",\n",
    "        \"19\", \"20\", \"21\",\n",
    "        \"22\", \"23\", \"24\",\n",
    "        \"25\", \"26\", \"27\",\n",
    "        \"28\", \"29\", \"30\",\n",
    "        \"31\"\n",
    "    ],\n",
    "    \"daily_statistic\": \"daily_mean\",\n",
    "    \"time_zone\": \"utc+00:00\",\n",
    "    \"frequency\": \"1_hourly\",\n",
    "    \"area\": [15, -58, 11, 62]\n",
    "}\n",
    "\n",
    "client = cdsapi.Client()\n",
    "client.retrieve(dataset, request).download()\n"
   ]
  },
  {
   "cell_type": "code",
   "execution_count": 4,
   "metadata": {},
   "outputs": [],
   "source": [
    "from era5_download_hook_copy import Era5DownloadHook\n"
   ]
  },
  {
   "cell_type": "code",
   "execution_count": 5,
   "metadata": {},
   "outputs": [
    {
     "ename": "ValueError",
     "evalue": "API URL and key must be set in the environment file",
     "output_type": "error",
     "traceback": [
      "\u001b[0;31m---------------------------------------------------------------------------\u001b[0m",
      "\u001b[0;31mValueError\u001b[0m                                Traceback (most recent call last)",
      "\u001b[1;32m/Users/ferdinand/Desktop/MasterThesis/digital-twin-for-weather-station/era5/era_example.ipynb Cell 5\u001b[0m line \u001b[0;36m6\n\u001b[1;32m      <a href='vscode-notebook-cell:/Users/ferdinand/Desktop/MasterThesis/digital-twin-for-weather-station/era5/era_example.ipynb#W4sZmlsZQ%3D%3D?line=0'>1</a>\u001b[0m \u001b[39m# Marshall Station but passing lat lon and year month to the hook \u001b[39;00m\n\u001b[1;32m      <a href='vscode-notebook-cell:/Users/ferdinand/Desktop/MasterThesis/digital-twin-for-weather-station/era5/era_example.ipynb#W4sZmlsZQ%3D%3D?line=1'>2</a>\u001b[0m \u001b[39m# Hook provides different methods to download data for a station, + bounding box\u001b[39;00m\n\u001b[1;32m      <a href='vscode-notebook-cell:/Users/ferdinand/Desktop/MasterThesis/digital-twin-for-weather-station/era5/era_example.ipynb#W4sZmlsZQ%3D%3D?line=2'>3</a>\u001b[0m \u001b[39m# donwload hous in day, months, years\u001b[39;00m\n\u001b[1;32m      <a href='vscode-notebook-cell:/Users/ferdinand/Desktop/MasterThesis/digital-twin-for-weather-station/era5/era_example.ipynb#W4sZmlsZQ%3D%3D?line=3'>4</a>\u001b[0m \u001b[39m# cds.api retireive \u001b[39;00m\n\u001b[0;32m----> <a href='vscode-notebook-cell:/Users/ferdinand/Desktop/MasterThesis/digital-twin-for-weather-station/era5/era_example.ipynb#W4sZmlsZQ%3D%3D?line=5'>6</a>\u001b[0m era5_hook \u001b[39m=\u001b[39m Era5DownloadHook(lat\u001b[39m=\u001b[39;49m\u001b[39m39.9496\u001b[39;49m, lon\u001b[39m=\u001b[39;49m\u001b[39m-\u001b[39;49m\u001b[39m105.196\u001b[39;49m)\n\u001b[1;32m      <a href='vscode-notebook-cell:/Users/ferdinand/Desktop/MasterThesis/digital-twin-for-weather-station/era5/era_example.ipynb#W4sZmlsZQ%3D%3D?line=7'>8</a>\u001b[0m start_year \u001b[39m=\u001b[39m \u001b[39m2020\u001b[39m\n\u001b[1;32m      <a href='vscode-notebook-cell:/Users/ferdinand/Desktop/MasterThesis/digital-twin-for-weather-station/era5/era_example.ipynb#W4sZmlsZQ%3D%3D?line=8'>9</a>\u001b[0m end_year \u001b[39m=\u001b[39m \u001b[39m2021\u001b[39m\n",
      "File \u001b[0;32m~/Desktop/MasterThesis/digital-twin-for-weather-station/era5/era5_download_hook_copy.py:18\u001b[0m, in \u001b[0;36mEra5DownloadHook.__init__\u001b[0;34m(self, lat, lon)\u001b[0m\n\u001b[1;32m     15\u001b[0m key \u001b[39m=\u001b[39m os\u001b[39m.\u001b[39mgetenv(\u001b[39m'\u001b[39m\u001b[39mkey\u001b[39m\u001b[39m'\u001b[39m)  \u001b[39m# API key\u001b[39;00m\n\u001b[1;32m     17\u001b[0m \u001b[39mif\u001b[39;00m \u001b[39mnot\u001b[39;00m url \u001b[39mor\u001b[39;00m \u001b[39mnot\u001b[39;00m key:\n\u001b[0;32m---> 18\u001b[0m     \u001b[39mraise\u001b[39;00m \u001b[39mValueError\u001b[39;00m(\u001b[39m\"\u001b[39m\u001b[39mAPI URL and key must be set in the environment file\u001b[39m\u001b[39m\"\u001b[39m)\n\u001b[1;32m     20\u001b[0m \u001b[39mprint\u001b[39m(\u001b[39m\"\u001b[39m\u001b[39mUsing URL:\u001b[39m\u001b[39m\"\u001b[39m, url)\n\u001b[1;32m     22\u001b[0m \u001b[39m# Initialize the cdsapi Client using the url and key from the .env file\u001b[39;00m\n",
      "\u001b[0;31mValueError\u001b[0m: API URL and key must be set in the environment file"
     ]
    }
   ],
   "source": [
    "# Marshall Station but passing lat lon and year month to the hook \n",
    "# Hook provides different methods to download data for a station, + bounding box\n",
    "# donwload hous in day, months, years\n",
    "# cds.api retireive \n",
    "\n",
    "era5_hook = Era5DownloadHook(lat=39.9496, lon=-105.196)\n",
    "\n",
    "start_year = 2020\n",
    "end_year = 2021\n",
    "target_folder = \"era5_data/er5_newhook\"\n",
    "\n",
    "# Download data for a station months\n",
    "era5_hook.download_period(start_year, end_year, target_folder)\n",
    "\n"
   ]
  },
  {
   "cell_type": "code",
   "execution_count": null,
   "metadata": {},
   "outputs": [],
   "source": []
  }
 ],
 "metadata": {
  "kernelspec": {
   "display_name": "crai",
   "language": "python",
   "name": "python3"
  },
  "language_info": {
   "codemirror_mode": {
    "name": "ipython",
    "version": 3
   },
   "file_extension": ".py",
   "mimetype": "text/x-python",
   "name": "python",
   "nbconvert_exporter": "python",
   "pygments_lexer": "ipython3",
   "version": "3.10.14"
  }
 },
 "nbformat": 4,
 "nbformat_minor": 2
}
