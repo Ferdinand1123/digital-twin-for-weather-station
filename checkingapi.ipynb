{
 "cells": [
  {
   "cell_type": "code",
   "execution_count": 2,
   "metadata": {},
   "outputs": [],
   "source": [
    "from era5.era5_download_hook_new import Era5DownloadHook\n"
   ]
  },
  {
   "cell_type": "code",
   "execution_count": 5,
   "metadata": {},
   "outputs": [
    {
     "name": "stdout",
     "output_type": "stream",
     "text": [
      "Using URL: https://cds-beta.climate.copernicus.eu/api\n",
      "Downloading 2020-6-23 [18]\n"
     ]
    },
    {
     "name": "stderr",
     "output_type": "stream",
     "text": [
      "2024-09-19 18:41:39,659 INFO Request ID is 5f32cd8b-abe4-442b-93d6-ea153822648e\n",
      "INFO:cads_api_client.processing:Request ID is 5f32cd8b-abe4-442b-93d6-ea153822648e\n",
      "2024-09-19 18:41:39,729 INFO status has been updated to accepted\n",
      "INFO:cads_api_client.processing:status has been updated to accepted\n",
      "2024-09-19 18:47:57,479 INFO status has been updated to successful\n",
      "INFO:cads_api_client.processing:status has been updated to successful\n",
      "INFO:multiurl.base:Downloading https://object-store.os-api.cci2.ecmwf.int:443/cci2-prod-cache/40ba586915c204fb6eec46885e4ec0f7.grib\n",
      "                                                                                           \r"
     ]
    }
   ],
   "source": [
    "era5_hook_vienna = Era5DownloadHook(lat=48.2303, lon=16.3609)\n",
    "\n",
    "start_year = 2021\n",
    "end_year = 2021\n",
    "target_folder = \"era5_data/er5_newhook\"\n",
    "\n",
    "# Download data for a station months\n",
    "era5_hook_vienna.download_period_parallel(start_year, end_year, target_folder)\n"
   ]
  },
  {
   "cell_type": "code",
   "execution_count": 7,
   "metadata": {},
   "outputs": [
    {
     "name": "stdout",
     "output_type": "stream",
     "text": [
      "Found 2020_6_23.grib\n",
      "Merging files...\n"
     ]
    },
    {
     "name": "stderr",
     "output_type": "stream",
     "text": [
      "\n",
      "cdo    mergetime (Abort): Outputfile testing/era5.nc already exists!\n"
     ]
    },
    {
     "ename": "CalledProcessError",
     "evalue": "Command 'cdo mergetime /var/folders/lj/q1ndb2493275c2y0vzyplnk00000gn/T/tmpftgfivx2/*.nc testing/era5.nc' returned non-zero exit status 1.",
     "output_type": "error",
     "traceback": [
      "\u001b[0;31m---------------------------------------------------------------------------\u001b[0m",
      "\u001b[0;31mCalledProcessError\u001b[0m                        Traceback (most recent call last)",
      "\u001b[1;32m/Users/ferdinand/Desktop/MasterThesis/digital-twin-for-weather-station/checkingapi.ipynb Cell 3\u001b[0m line \u001b[0;36m5\n\u001b[1;32m      <a href='vscode-notebook-cell:/Users/ferdinand/Desktop/MasterThesis/digital-twin-for-weather-station/checkingapi.ipynb#W2sZmlsZQ%3D%3D?line=0'>1</a>\u001b[0m \u001b[39mfrom\u001b[39;00m \u001b[39mera5\u001b[39;00m\u001b[39m.\u001b[39;00m\u001b[39mera5_from_grib_to_nc\u001b[39;00m \u001b[39mimport\u001b[39;00m Era5DataFromGribToNc\n\u001b[1;32m      <a href='vscode-notebook-cell:/Users/ferdinand/Desktop/MasterThesis/digital-twin-for-weather-station/checkingapi.ipynb#W2sZmlsZQ%3D%3D?line=3'>4</a>\u001b[0m \u001b[39m# conversion\u001b[39;00m\n\u001b[0;32m----> <a href='vscode-notebook-cell:/Users/ferdinand/Desktop/MasterThesis/digital-twin-for-weather-station/checkingapi.ipynb#W2sZmlsZQ%3D%3D?line=4'>5</a>\u001b[0m Era5DataFromGribToNc(\n\u001b[1;32m      <a href='vscode-notebook-cell:/Users/ferdinand/Desktop/MasterThesis/digital-twin-for-weather-station/checkingapi.ipynb#W2sZmlsZQ%3D%3D?line=5'>6</a>\u001b[0m     folder_path\u001b[39m=\u001b[39;49mfolder,\n\u001b[1;32m      <a href='vscode-notebook-cell:/Users/ferdinand/Desktop/MasterThesis/digital-twin-for-weather-station/checkingapi.ipynb#W2sZmlsZQ%3D%3D?line=6'>7</a>\u001b[0m     era5_target_file_path\u001b[39m=\u001b[39;49mera5_target_file_path\n\u001b[1;32m      <a href='vscode-notebook-cell:/Users/ferdinand/Desktop/MasterThesis/digital-twin-for-weather-station/checkingapi.ipynb#W2sZmlsZQ%3D%3D?line=7'>8</a>\u001b[0m )\n\u001b[1;32m     <a href='vscode-notebook-cell:/Users/ferdinand/Desktop/MasterThesis/digital-twin-for-weather-station/checkingapi.ipynb#W2sZmlsZQ%3D%3D?line=10'>11</a>\u001b[0m \u001b[39mprint\u001b[39m(xr\u001b[39m.\u001b[39mopen_dataset(era5_target_file_path))\n\u001b[1;32m     <a href='vscode-notebook-cell:/Users/ferdinand/Desktop/MasterThesis/digital-twin-for-weather-station/checkingapi.ipynb#W2sZmlsZQ%3D%3D?line=12'>13</a>\u001b[0m \u001b[39m# plot the data\u001b[39;00m\n",
      "File \u001b[0;32m~/Desktop/MasterThesis/digital-twin-for-weather-station/era5/era5_from_grib_to_nc.py:12\u001b[0m, in \u001b[0;36mEra5DataFromGribToNc.__init__\u001b[0;34m(self, folder_path, era5_target_file_path)\u001b[0m\n\u001b[1;32m     10\u001b[0m \u001b[39mself\u001b[39m\u001b[39m.\u001b[39mtemp_dir_path \u001b[39m=\u001b[39m \u001b[39mself\u001b[39m\u001b[39m.\u001b[39mtemp_dir\u001b[39m.\u001b[39mname\n\u001b[1;32m     11\u001b[0m \u001b[39mself\u001b[39m\u001b[39m.\u001b[39m_convert(folder_path)\n\u001b[0;32m---> 12\u001b[0m \u001b[39mself\u001b[39;49m\u001b[39m.\u001b[39;49m_merge(era5_target_file_path)\n\u001b[1;32m     13\u001b[0m \u001b[39mself\u001b[39m\u001b[39m.\u001b[39mtemp_dir\u001b[39m.\u001b[39mcleanup()\n",
      "File \u001b[0;32m~/Desktop/MasterThesis/digital-twin-for-weather-station/era5/era5_from_grib_to_nc.py:54\u001b[0m, in \u001b[0;36mEra5DataFromGribToNc._merge\u001b[0;34m(self, era5_file_path)\u001b[0m\n\u001b[1;32m     52\u001b[0m \u001b[39mprint\u001b[39m(\u001b[39m\"\u001b[39m\u001b[39mMerging files...\u001b[39m\u001b[39m\"\u001b[39m)\n\u001b[1;32m     53\u001b[0m cdo_command \u001b[39m=\u001b[39m \u001b[39mf\u001b[39m\u001b[39m\"\u001b[39m\u001b[39mcdo mergetime \u001b[39m\u001b[39m{\u001b[39;00m\u001b[39mself\u001b[39m\u001b[39m.\u001b[39mtemp_dir_path\u001b[39m}\u001b[39;00m\u001b[39m/*.nc \u001b[39m\u001b[39m{\u001b[39;00mera5_file_path\u001b[39m}\u001b[39;00m\u001b[39m\"\u001b[39m\n\u001b[0;32m---> 54\u001b[0m subprocess\u001b[39m.\u001b[39;49mrun(cdo_command, shell\u001b[39m=\u001b[39;49m\u001b[39mTrue\u001b[39;49;00m, check\u001b[39m=\u001b[39;49m\u001b[39mTrue\u001b[39;49;00m)\n\u001b[1;32m     55\u001b[0m \u001b[39massert\u001b[39;00m os\u001b[39m.\u001b[39mpath\u001b[39m.\u001b[39mexists(era5_file_path), \u001b[39m\"\u001b[39m\u001b[39mMerging failed\u001b[39m\u001b[39m\"\u001b[39m\n\u001b[1;32m     56\u001b[0m \u001b[39mprint\u001b[39m(\u001b[39mf\u001b[39m\u001b[39m\"\u001b[39m\u001b[39mMerged ERA5 file saved into \u001b[39m\u001b[39m{\u001b[39;00mera5_file_path\u001b[39m}\u001b[39;00m\u001b[39m\"\u001b[39m)\n",
      "File \u001b[0;32m~/anaconda3/envs/crai/lib/python3.10/subprocess.py:526\u001b[0m, in \u001b[0;36mrun\u001b[0;34m(input, capture_output, timeout, check, *popenargs, **kwargs)\u001b[0m\n\u001b[1;32m    524\u001b[0m     retcode \u001b[39m=\u001b[39m process\u001b[39m.\u001b[39mpoll()\n\u001b[1;32m    525\u001b[0m     \u001b[39mif\u001b[39;00m check \u001b[39mand\u001b[39;00m retcode:\n\u001b[0;32m--> 526\u001b[0m         \u001b[39mraise\u001b[39;00m CalledProcessError(retcode, process\u001b[39m.\u001b[39margs,\n\u001b[1;32m    527\u001b[0m                                  output\u001b[39m=\u001b[39mstdout, stderr\u001b[39m=\u001b[39mstderr)\n\u001b[1;32m    528\u001b[0m \u001b[39mreturn\u001b[39;00m CompletedProcess(process\u001b[39m.\u001b[39margs, retcode, stdout, stderr)\n",
      "\u001b[0;31mCalledProcessError\u001b[0m: Command 'cdo mergetime /var/folders/lj/q1ndb2493275c2y0vzyplnk00000gn/T/tmpftgfivx2/*.nc testing/era5.nc' returned non-zero exit status 1."
     ]
    }
   ],
   "source": [
    "from era5.era5_from_grib_to_nc import Era5DataFromGribToNc\n",
    "\n",
    "\n",
    "# conversion\n",
    "Era5DataFromGribToNc(\n",
    "    folder_path=folder,\n",
    "    era5_target_file_path=era5_target_file_path\n",
    ")\n",
    "\n",
    "\n",
    "print(xr.open_dataset(era5_target_file_path))\n",
    "\n",
    "# plot the data\n",
    "plot_n_steps_of_area_from_nc_file(\n",
    "    path=era5_target_file_path,\n",
    "    n=3,\n",
    "    vars=\"tp\",\n",
    "    title=\"ERA5 temperature\",\n",
    "    vmin=300.6,\n",
    "    vmax=301.1\n",
    ")"
   ]
  },
  {
   "cell_type": "code",
   "execution_count": 4,
   "metadata": {},
   "outputs": [
    {
     "name": "stdout",
     "output_type": "stream",
     "text": [
      "Using URL: https://cds-beta.climate.copernicus.eu/api\n"
     ]
    }
   ],
   "source": [
    "download_hook = Era5DownloadHook(lat=50, lon=10)\n"
   ]
  },
  {
   "cell_type": "code",
   "execution_count": 10,
   "metadata": {},
   "outputs": [
    {
     "name": "stderr",
     "output_type": "stream",
     "text": [
      "2024-09-19 17:50:27,201 INFO Request ID is aa5fbe56-9b25-4e36-b0e1-688f1caa9325\n",
      "INFO:cads_api_client.processing:Request ID is aa5fbe56-9b25-4e36-b0e1-688f1caa9325\n",
      "2024-09-19 17:50:27,286 INFO status has been updated to accepted\n",
      "INFO:cads_api_client.processing:status has been updated to accepted\n",
      "2024-09-19 17:54:44,799 INFO status has been updated to successful\n",
      "INFO:cads_api_client.processing:status has been updated to successful\n",
      "INFO:multiurl.base:Downloading https://object-store.os-api.cci2.ecmwf.int:443/cci2-prod-cache/7bc8dae330b944be482ec2a2f7255f0.grib\n",
      "                                                                                          \r"
     ]
    },
    {
     "data": {
      "text/plain": [
       "'download.grib'"
      ]
     },
     "execution_count": 10,
     "metadata": {},
     "output_type": "execute_result"
    }
   ],
   "source": [
    "import cdsapi\n",
    "\n",
    "client = cdsapi.Client()\n",
    "\n",
    "dataset = 'reanalysis-era5-pressure-levels'\n",
    "request = {\n",
    "    'product_type': ['reanalysis'],\n",
    "    'variable': ['geopotential'],\n",
    "    'year': ['2024'],\n",
    "    'month': ['03'],\n",
    "    'day': ['01'],\n",
    "    'time': ['13:00'],\n",
    "    'pressure_level': ['1000'],\n",
    "    'data_format': 'grib',\n",
    "}\n",
    "target = 'download.grib'\n",
    "\n",
    "client.retrieve(dataset, request, target)"
   ]
  },
  {
   "cell_type": "code",
   "execution_count": 1,
   "metadata": {},
   "outputs": [],
   "source": [
    "from era5.era5_download_hook_copy import Era5DownloadHook\n"
   ]
  },
  {
   "cell_type": "code",
   "execution_count": 2,
   "metadata": {},
   "outputs": [
    {
     "name": "stdout",
     "output_type": "stream",
     "text": [
      "Using URL: https://cds-beta.climate.copernicus.eu/api\n",
      "Downloading 2020-01\n",
      "Downloading 2020-02\n",
      "Downloading 2020-03\n",
      "Downloading 2020-04\n"
     ]
    },
    {
     "name": "stderr",
     "output_type": "stream",
     "text": [
      "2024-11-05 11:06:12,731 WARNING [2024-10-10T00:00:00] The final validated ERA5 differs from ERA5T in July 2024 - please refer to our\n",
      "[Forum announcement](https://forum.ecmwf.int/t/final-validated-era5-product-to-differ-from-era5t-in-july-2024/6685)\n",
      "for details and watch it for further updates on this.\n",
      "2024-11-05 11:06:12,732 INFO Request ID is 19a8afc5-bf62-4682-abd8-3456bd892713\n",
      "2024-11-05 11:06:12,813 INFO status has been updated to accepted\n",
      "2024-11-05 11:06:13,003 WARNING [2024-10-10T00:00:00] The final validated ERA5 differs from ERA5T in July 2024 - please refer to our\n",
      "[Forum announcement](https://forum.ecmwf.int/t/final-validated-era5-product-to-differ-from-era5t-in-july-2024/6685)\n",
      "for details and watch it for further updates on this.\n",
      "2024-11-05 11:06:13,004 INFO Request ID is 947325c4-4050-4e15-8e60-a25031115ee2\n",
      "2024-11-05 11:06:13,724 INFO status has been updated to accepted\n",
      "2024-11-05 11:06:24,966 WARNING [2024-10-10T00:00:00] The final validated ERA5 differs from ERA5T in July 2024 - please refer to our\n",
      "[Forum announcement](https://forum.ecmwf.int/t/final-validated-era5-product-to-differ-from-era5t-in-july-2024/6685)\n",
      "for details and watch it for further updates on this.\n",
      "2024-11-05 11:06:24,971 INFO Request ID is c061048c-3c96-4010-b60e-6b9e9bb01b3e\n",
      "2024-11-05 11:06:25,003 WARNING [2024-10-10T00:00:00] The final validated ERA5 differs from ERA5T in July 2024 - please refer to our\n",
      "[Forum announcement](https://forum.ecmwf.int/t/final-validated-era5-product-to-differ-from-era5t-in-july-2024/6685)\n",
      "for details and watch it for further updates on this.\n",
      "2024-11-05 11:06:25,005 INFO Request ID is c55551b9-7ebc-44cb-9752-bf1cd4b35c0e\n",
      "2024-11-05 11:06:25,105 INFO status has been updated to accepted\n",
      "2024-11-05 11:06:25,320 INFO status has been updated to accepted\n"
     ]
    },
    {
     "ename": "KeyboardInterrupt",
     "evalue": "",
     "output_type": "error",
     "traceback": [
      "\u001b[0;31m---------------------------------------------------------------------------\u001b[0m",
      "\u001b[0;31mKeyboardInterrupt\u001b[0m                         Traceback (most recent call last)",
      "\u001b[1;32m/Users/ferdinand/Desktop/MasterThesis/digital-twin-for-weather-station/checkingapi.ipynb Cell 7\u001b[0m line \u001b[0;36m1\n\u001b[1;32m     <a href='vscode-notebook-cell:/Users/ferdinand/Desktop/MasterThesis/digital-twin-for-weather-station/checkingapi.ipynb#W6sZmlsZQ%3D%3D?line=9'>10</a>\u001b[0m target_folder \u001b[39m=\u001b[39m \u001b[39m\"\u001b[39m\u001b[39mera5_data/er5_newhook\u001b[39m\u001b[39m\"\u001b[39m\n\u001b[1;32m     <a href='vscode-notebook-cell:/Users/ferdinand/Desktop/MasterThesis/digital-twin-for-weather-station/checkingapi.ipynb#W6sZmlsZQ%3D%3D?line=11'>12</a>\u001b[0m \u001b[39m# Download data for a station months\u001b[39;00m\n\u001b[0;32m---> <a href='vscode-notebook-cell:/Users/ferdinand/Desktop/MasterThesis/digital-twin-for-weather-station/checkingapi.ipynb#W6sZmlsZQ%3D%3D?line=12'>13</a>\u001b[0m era5_hook\u001b[39m.\u001b[39;49mdownload_period_parallel(start_year, end_year, target_folder)\n",
      "File \u001b[0;32m~/Desktop/MasterThesis/digital-twin-for-weather-station/era5/era5_download_hook_copy.py:53\u001b[0m, in \u001b[0;36mEra5DownloadHook.download_period_parallel\u001b[0;34m(self, start_year, end_year, target_folder)\u001b[0m\n\u001b[1;32m     52\u001b[0m \u001b[39mdef\u001b[39;00m \u001b[39mdownload_period_parallel\u001b[39m(\u001b[39mself\u001b[39m, start_year, end_year, target_folder):\n\u001b[0;32m---> 53\u001b[0m     \u001b[39mwith\u001b[39;00m ThreadPoolExecutor(max_workers\u001b[39m=\u001b[39m\u001b[39m4\u001b[39m) \u001b[39mas\u001b[39;00m executor:  \u001b[39m# Adjust max_workers based on system capacity\u001b[39;00m\n\u001b[1;32m     54\u001b[0m         futures \u001b[39m=\u001b[39m [\n\u001b[1;32m     55\u001b[0m             executor\u001b[39m.\u001b[39msubmit(\u001b[39mself\u001b[39m\u001b[39m.\u001b[39mdownload_month_parallel, year, month, target_folder)\n\u001b[1;32m     56\u001b[0m             \u001b[39mfor\u001b[39;00m year \u001b[39min\u001b[39;00m \u001b[39mrange\u001b[39m(start_year, end_year \u001b[39m+\u001b[39m \u001b[39m1\u001b[39m)\n\u001b[1;32m     57\u001b[0m             \u001b[39mfor\u001b[39;00m month \u001b[39min\u001b[39;00m \u001b[39mrange\u001b[39m(\u001b[39m1\u001b[39m, \u001b[39m13\u001b[39m)\n\u001b[1;32m     58\u001b[0m         ]\n",
      "File \u001b[0;32m~/anaconda3/envs/crai/lib/python3.10/concurrent/futures/_base.py:649\u001b[0m, in \u001b[0;36mExecutor.__exit__\u001b[0;34m(self, exc_type, exc_val, exc_tb)\u001b[0m\n\u001b[1;32m    648\u001b[0m \u001b[39mdef\u001b[39;00m \u001b[39m__exit__\u001b[39m(\u001b[39mself\u001b[39m, exc_type, exc_val, exc_tb):\n\u001b[0;32m--> 649\u001b[0m     \u001b[39mself\u001b[39;49m\u001b[39m.\u001b[39;49mshutdown(wait\u001b[39m=\u001b[39;49m\u001b[39mTrue\u001b[39;49;00m)\n\u001b[1;32m    650\u001b[0m     \u001b[39mreturn\u001b[39;00m \u001b[39mFalse\u001b[39;00m\n",
      "File \u001b[0;32m~/anaconda3/envs/crai/lib/python3.10/concurrent/futures/thread.py:235\u001b[0m, in \u001b[0;36mThreadPoolExecutor.shutdown\u001b[0;34m(self, wait, cancel_futures)\u001b[0m\n\u001b[1;32m    233\u001b[0m \u001b[39mif\u001b[39;00m wait:\n\u001b[1;32m    234\u001b[0m     \u001b[39mfor\u001b[39;00m t \u001b[39min\u001b[39;00m \u001b[39mself\u001b[39m\u001b[39m.\u001b[39m_threads:\n\u001b[0;32m--> 235\u001b[0m         t\u001b[39m.\u001b[39;49mjoin()\n",
      "File \u001b[0;32m~/anaconda3/envs/crai/lib/python3.10/threading.py:1096\u001b[0m, in \u001b[0;36mThread.join\u001b[0;34m(self, timeout)\u001b[0m\n\u001b[1;32m   1093\u001b[0m     \u001b[39mraise\u001b[39;00m \u001b[39mRuntimeError\u001b[39;00m(\u001b[39m\"\u001b[39m\u001b[39mcannot join current thread\u001b[39m\u001b[39m\"\u001b[39m)\n\u001b[1;32m   1095\u001b[0m \u001b[39mif\u001b[39;00m timeout \u001b[39mis\u001b[39;00m \u001b[39mNone\u001b[39;00m:\n\u001b[0;32m-> 1096\u001b[0m     \u001b[39mself\u001b[39;49m\u001b[39m.\u001b[39;49m_wait_for_tstate_lock()\n\u001b[1;32m   1097\u001b[0m \u001b[39melse\u001b[39;00m:\n\u001b[1;32m   1098\u001b[0m     \u001b[39m# the behavior of a negative timeout isn't documented, but\u001b[39;00m\n\u001b[1;32m   1099\u001b[0m     \u001b[39m# historically .join(timeout=x) for x<0 has acted as if timeout=0\u001b[39;00m\n\u001b[1;32m   1100\u001b[0m     \u001b[39mself\u001b[39m\u001b[39m.\u001b[39m_wait_for_tstate_lock(timeout\u001b[39m=\u001b[39m\u001b[39mmax\u001b[39m(timeout, \u001b[39m0\u001b[39m))\n",
      "File \u001b[0;32m~/anaconda3/envs/crai/lib/python3.10/threading.py:1116\u001b[0m, in \u001b[0;36mThread._wait_for_tstate_lock\u001b[0;34m(self, block, timeout)\u001b[0m\n\u001b[1;32m   1113\u001b[0m     \u001b[39mreturn\u001b[39;00m\n\u001b[1;32m   1115\u001b[0m \u001b[39mtry\u001b[39;00m:\n\u001b[0;32m-> 1116\u001b[0m     \u001b[39mif\u001b[39;00m lock\u001b[39m.\u001b[39;49macquire(block, timeout):\n\u001b[1;32m   1117\u001b[0m         lock\u001b[39m.\u001b[39mrelease()\n\u001b[1;32m   1118\u001b[0m         \u001b[39mself\u001b[39m\u001b[39m.\u001b[39m_stop()\n",
      "\u001b[0;31mKeyboardInterrupt\u001b[0m: "
     ]
    }
   ],
   "source": [
    "# Marshall Station but passing lat lon and year month to the hook \n",
    "# Hook provides different methods to download data for a station, + bounding box\n",
    "# donwload hous in day, months, years\n",
    "# cds.api retireive \n",
    "\n",
    "era5_hook = Era5DownloadHook(lat=39.9496, lon=-105.196)\n",
    "\n",
    "start_year = 2020\n",
    "end_year = 2021\n",
    "target_folder = \"era5_data/er5_newhook\"\n",
    "\n",
    "# Download data for a station months\n",
    "era5_hook.download_period_parallel(start_year, end_year, target_folder)"
   ]
  },
  {
   "cell_type": "code",
   "execution_count": null,
   "metadata": {},
   "outputs": [],
   "source": []
  }
 ],
 "metadata": {
  "kernelspec": {
   "display_name": "crai",
   "language": "python",
   "name": "python3"
  },
  "language_info": {
   "codemirror_mode": {
    "name": "ipython",
    "version": 3
   },
   "file_extension": ".py",
   "mimetype": "text/x-python",
   "name": "python",
   "nbconvert_exporter": "python",
   "pygments_lexer": "ipython3",
   "version": "3.10.14"
  }
 },
 "nbformat": 4,
 "nbformat_minor": 2
}
