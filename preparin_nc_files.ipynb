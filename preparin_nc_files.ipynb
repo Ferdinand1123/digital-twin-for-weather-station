{
 "cells": [
  {
   "cell_type": "code",
   "execution_count": 1,
   "metadata": {},
   "outputs": [],
   "source": [
    "import xarray as xr"
   ]
  },
  {
   "cell_type": "code",
   "execution_count": 2,
   "metadata": {},
   "outputs": [],
   "source": [
    "# Load ERA5 Data\n",
    "# this covers the period 2020-2023 and is in 9x9 grid\n",
    "era5 = xr.open_dataset('era5_data/era5_barbados_allvar/barbados_all_var_2020_2024.nc')\n",
    "era5_renamed = era5.rename({'var165': '10u', 'var166': '10v', 'var167': '2t', 'var168': '2d', 'var134': 'sp', 'var228': 'tp'})"
   ]
  },
  {
   "cell_type": "code",
   "execution_count": 4,
   "metadata": {},
   "outputs": [],
   "source": [
    "era5_renamed[\"tp\"] = era5_renamed[\"tp\"] * 1000"
   ]
  },
  {
   "cell_type": "code",
   "execution_count": 5,
   "metadata": {},
   "outputs": [],
   "source": [
    "era5_renamed.to_netcdf('era5_data/era5_barbados_allvar/barbados_all_var_2020_2024_renamed.nc')"
   ]
  },
  {
   "cell_type": "code",
   "execution_count": null,
   "metadata": {},
   "outputs": [],
   "source": []
  }
 ],
 "metadata": {
  "kernelspec": {
   "display_name": "base",
   "language": "python",
   "name": "python3"
  },
  "language_info": {
   "codemirror_mode": {
    "name": "ipython",
    "version": 3
   },
   "file_extension": ".py",
   "mimetype": "text/x-python",
   "name": "python",
   "nbconvert_exporter": "python",
   "pygments_lexer": "ipython3",
   "version": "3.11.6"
  }
 },
 "nbformat": 4,
 "nbformat_minor": 2
}
