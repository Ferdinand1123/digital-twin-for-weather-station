{
 "cells": [
  {
   "cell_type": "code",
   "execution_count": 3,
   "metadata": {},
   "outputs": [],
   "source": [
    "from era5.era5_download_hook_copy import Era5DownloadHook\n"
   ]
  },
  {
   "cell_type": "code",
   "execution_count": 4,
   "metadata": {},
   "outputs": [
    {
     "name": "stdout",
     "output_type": "stream",
     "text": [
      "Using URL: https://cds-beta.climate.copernicus.eu/api\n",
      "Downloading 2023-01\n"
     ]
    },
    {
     "name": "stderr",
     "output_type": "stream",
     "text": [
      "2024-11-22 11:36:49,202 WARNING [2024-10-10T00:00:00] The final validated ERA5 differs from ERA5T from July 2024 until further notice - please refer to our\n",
      "[Forum announcement](https://forum.ecmwf.int/t/final-validated-era5-product-to-differ-from-era5t-in-july-2024/6685)\n",
      "for details and watch it for further updates on this.\n",
      "2024-11-22 11:36:49,206 INFO Request ID is f0648a2a-1c9c-4c00-ac45-1c25b8d1b7bb\n",
      "2024-11-22 11:36:49,351 INFO status has been updated to accepted\n",
      "2024-11-22 11:36:51,458 INFO status has been updated to running\n",
      "2024-11-22 11:43:11,337 INFO status has been updated to successful\n",
      "                                                                                           \r"
     ]
    },
    {
     "name": "stdout",
     "output_type": "stream",
     "text": [
      "Downloading 2023-02\n"
     ]
    },
    {
     "name": "stderr",
     "output_type": "stream",
     "text": [
      "2024-11-22 11:43:13,382 WARNING [2024-10-10T00:00:00] The final validated ERA5 differs from ERA5T from July 2024 until further notice - please refer to our\n",
      "[Forum announcement](https://forum.ecmwf.int/t/final-validated-era5-product-to-differ-from-era5t-in-july-2024/6685)\n",
      "for details and watch it for further updates on this.\n",
      "2024-11-22 11:43:13,383 INFO Request ID is f99687f8-3801-439c-8ac8-1fa5cfb4d088\n",
      "2024-11-22 11:43:13,513 INFO status has been updated to accepted\n",
      "2024-11-22 11:43:17,645 INFO status has been updated to running\n",
      "2024-11-22 11:47:33,021 INFO status has been updated to successful\n",
      "                                                                                           \r"
     ]
    },
    {
     "name": "stdout",
     "output_type": "stream",
     "text": [
      "Downloading 2023-03\n"
     ]
    },
    {
     "name": "stderr",
     "output_type": "stream",
     "text": [
      "2024-11-22 11:47:34,602 WARNING [2024-10-10T00:00:00] The final validated ERA5 differs from ERA5T from July 2024 until further notice - please refer to our\n",
      "[Forum announcement](https://forum.ecmwf.int/t/final-validated-era5-product-to-differ-from-era5t-in-july-2024/6685)\n",
      "for details and watch it for further updates on this.\n",
      "2024-11-22 11:47:34,603 INFO Request ID is 3a052492-c3c9-4e25-ac90-67a5b80f9588\n",
      "2024-11-22 11:47:34,665 INFO status has been updated to accepted\n",
      "2024-11-22 11:47:36,720 INFO status has been updated to running\n",
      "2024-11-22 11:51:54,220 INFO status has been updated to successful\n",
      "                                                                                           \r"
     ]
    },
    {
     "name": "stdout",
     "output_type": "stream",
     "text": [
      "Downloading 2023-04\n"
     ]
    },
    {
     "name": "stderr",
     "output_type": "stream",
     "text": [
      "2024-11-22 11:51:55,685 WARNING [2024-10-10T00:00:00] The final validated ERA5 differs from ERA5T from July 2024 until further notice - please refer to our\n",
      "[Forum announcement](https://forum.ecmwf.int/t/final-validated-era5-product-to-differ-from-era5t-in-july-2024/6685)\n",
      "for details and watch it for further updates on this.\n",
      "2024-11-22 11:51:55,686 INFO Request ID is 5f322f01-2ff9-4eea-b66e-dd1d1ffe32de\n",
      "2024-11-22 11:51:55,886 INFO status has been updated to accepted\n",
      "2024-11-22 11:51:57,478 INFO status has been updated to running\n",
      "2024-11-22 11:56:15,577 INFO status has been updated to successful\n",
      "                                                                                           \r"
     ]
    },
    {
     "name": "stdout",
     "output_type": "stream",
     "text": [
      "Downloading 2023-05\n"
     ]
    },
    {
     "name": "stderr",
     "output_type": "stream",
     "text": [
      "2024-11-22 11:56:17,627 WARNING [2024-10-10T00:00:00] The final validated ERA5 differs from ERA5T from July 2024 until further notice - please refer to our\n",
      "[Forum announcement](https://forum.ecmwf.int/t/final-validated-era5-product-to-differ-from-era5t-in-july-2024/6685)\n",
      "for details and watch it for further updates on this.\n",
      "2024-11-22 11:56:17,627 INFO Request ID is fb100e78-95a9-4368-b69e-1271cac6d551\n",
      "2024-11-22 11:56:17,690 INFO status has been updated to accepted\n",
      "2024-11-22 11:56:22,295 INFO status has been updated to running\n",
      "2024-11-22 12:00:37,047 INFO status has been updated to successful\n",
      "                                                                                           \r"
     ]
    },
    {
     "name": "stdout",
     "output_type": "stream",
     "text": [
      "Downloading 2023-06\n"
     ]
    },
    {
     "name": "stderr",
     "output_type": "stream",
     "text": [
      "2024-11-22 12:00:39,747 WARNING [2024-10-10T00:00:00] The final validated ERA5 differs from ERA5T from July 2024 until further notice - please refer to our\n",
      "[Forum announcement](https://forum.ecmwf.int/t/final-validated-era5-product-to-differ-from-era5t-in-july-2024/6685)\n",
      "for details and watch it for further updates on this.\n",
      "2024-11-22 12:00:39,763 INFO Request ID is e659e17b-1543-478f-a383-e70b3d17ad52\n",
      "2024-11-22 12:00:39,884 INFO status has been updated to accepted\n",
      "2024-11-22 12:00:43,822 INFO status has been updated to running\n",
      "2024-11-22 12:05:04,182 INFO status has been updated to successful\n",
      "                                                                                           \r"
     ]
    },
    {
     "name": "stdout",
     "output_type": "stream",
     "text": [
      "Downloading 2023-07\n"
     ]
    },
    {
     "name": "stderr",
     "output_type": "stream",
     "text": [
      "2024-11-22 12:05:08,194 WARNING [2024-10-10T00:00:00] The final validated ERA5 differs from ERA5T from July 2024 until further notice - please refer to our\n",
      "[Forum announcement](https://forum.ecmwf.int/t/final-validated-era5-product-to-differ-from-era5t-in-july-2024/6685)\n",
      "for details and watch it for further updates on this.\n",
      "2024-11-22 12:05:08,195 INFO Request ID is 6202882c-b20b-4fc9-a9a8-93b1a751b000\n",
      "2024-11-22 12:05:08,259 INFO status has been updated to accepted\n",
      "2024-11-22 12:05:09,886 INFO status has been updated to running\n",
      "2024-11-22 12:09:26,481 INFO status has been updated to successful\n",
      "                                                                                           \r"
     ]
    },
    {
     "name": "stdout",
     "output_type": "stream",
     "text": [
      "Downloading 2023-08\n"
     ]
    },
    {
     "name": "stderr",
     "output_type": "stream",
     "text": [
      "2024-11-22 12:09:28,836 WARNING [2024-10-10T00:00:00] The final validated ERA5 differs from ERA5T from July 2024 until further notice - please refer to our\n",
      "[Forum announcement](https://forum.ecmwf.int/t/final-validated-era5-product-to-differ-from-era5t-in-july-2024/6685)\n",
      "for details and watch it for further updates on this.\n",
      "2024-11-22 12:09:28,837 INFO Request ID is 13341281-c765-46a7-98f2-fca86781003e\n",
      "2024-11-22 12:09:28,914 INFO status has been updated to accepted\n",
      "2024-11-22 12:09:30,579 INFO status has been updated to running\n",
      "2024-11-22 12:15:49,190 INFO status has been updated to successful\n",
      "                                                                                           \r"
     ]
    },
    {
     "name": "stdout",
     "output_type": "stream",
     "text": [
      "Downloading 2023-09\n"
     ]
    },
    {
     "name": "stderr",
     "output_type": "stream",
     "text": [
      "2024-11-22 12:15:57,619 WARNING [2024-10-10T00:00:00] The final validated ERA5 differs from ERA5T from July 2024 until further notice - please refer to our\n",
      "[Forum announcement](https://forum.ecmwf.int/t/final-validated-era5-product-to-differ-from-era5t-in-july-2024/6685)\n",
      "for details and watch it for further updates on this.\n",
      "2024-11-22 12:15:57,624 INFO Request ID is a2877807-d9df-44a2-a951-8864471570bf\n",
      "2024-11-22 12:15:57,784 INFO status has been updated to accepted\n",
      "2024-11-22 12:16:02,222 INFO status has been updated to running\n",
      "2024-11-22 12:20:18,339 INFO status has been updated to successful\n",
      "                                                                                           \r"
     ]
    },
    {
     "name": "stdout",
     "output_type": "stream",
     "text": [
      "Downloading 2023-10\n"
     ]
    },
    {
     "name": "stderr",
     "output_type": "stream",
     "text": [
      "2024-11-22 12:20:20,882 WARNING [2024-10-10T00:00:00] The final validated ERA5 differs from ERA5T from July 2024 until further notice - please refer to our\n",
      "[Forum announcement](https://forum.ecmwf.int/t/final-validated-era5-product-to-differ-from-era5t-in-july-2024/6685)\n",
      "for details and watch it for further updates on this.\n",
      "2024-11-22 12:20:20,884 INFO Request ID is 04cc1949-55b9-4fec-9dcd-be5551446405\n",
      "2024-11-22 12:20:20,973 INFO status has been updated to accepted\n",
      "2024-11-22 12:20:22,908 INFO status has been updated to running\n",
      "2024-11-22 12:24:39,649 INFO status has been updated to successful\n",
      "                                                                                           \r"
     ]
    },
    {
     "name": "stdout",
     "output_type": "stream",
     "text": [
      "Downloading 2023-11\n"
     ]
    },
    {
     "name": "stderr",
     "output_type": "stream",
     "text": [
      "2024-11-22 12:24:41,596 WARNING [2024-10-10T00:00:00] The final validated ERA5 differs from ERA5T from July 2024 until further notice - please refer to our\n",
      "[Forum announcement](https://forum.ecmwf.int/t/final-validated-era5-product-to-differ-from-era5t-in-july-2024/6685)\n",
      "for details and watch it for further updates on this.\n",
      "2024-11-22 12:24:41,598 INFO Request ID is 494493bd-ed62-47a2-a2a0-6127f8861bd9\n",
      "2024-11-22 12:24:41,687 INFO status has been updated to accepted\n",
      "2024-11-22 12:24:43,373 INFO status has been updated to running\n",
      "2024-11-22 12:29:02,234 INFO status has been updated to successful\n",
      "                                                                                           \r"
     ]
    },
    {
     "name": "stdout",
     "output_type": "stream",
     "text": [
      "Downloading 2023-12\n"
     ]
    },
    {
     "name": "stderr",
     "output_type": "stream",
     "text": [
      "2024-11-22 12:29:03,664 WARNING [2024-10-10T00:00:00] The final validated ERA5 differs from ERA5T from July 2024 until further notice - please refer to our\n",
      "[Forum announcement](https://forum.ecmwf.int/t/final-validated-era5-product-to-differ-from-era5t-in-july-2024/6685)\n",
      "for details and watch it for further updates on this.\n",
      "2024-11-22 12:29:03,666 INFO Request ID is 1c2e7f01-e848-4ecd-ab98-841d1fb19912\n",
      "2024-11-22 12:29:03,861 INFO status has been updated to accepted\n",
      "2024-11-22 12:29:05,601 INFO status has been updated to running\n",
      "2024-11-22 12:33:22,085 INFO status has been updated to successful\n",
      "                                                                                           \r"
     ]
    },
    {
     "name": "stdout",
     "output_type": "stream",
     "text": [
      "Downloading 2024-01\n"
     ]
    },
    {
     "name": "stderr",
     "output_type": "stream",
     "text": [
      "2024-11-22 12:33:25,748 WARNING [2024-10-10T00:00:00] The final validated ERA5 differs from ERA5T from July 2024 until further notice - please refer to our\n",
      "[Forum announcement](https://forum.ecmwf.int/t/final-validated-era5-product-to-differ-from-era5t-in-july-2024/6685)\n",
      "for details and watch it for further updates on this.\n",
      "2024-11-22 12:33:25,756 INFO Request ID is 4cd416c7-75b6-4f08-95e8-28a1033390ea\n",
      "2024-11-22 12:33:25,896 INFO status has been updated to accepted\n",
      "2024-11-22 12:33:27,554 INFO status has been updated to running\n",
      "2024-11-22 12:37:44,179 INFO status has been updated to successful\n",
      "                                                                                           \r"
     ]
    },
    {
     "name": "stdout",
     "output_type": "stream",
     "text": [
      "Downloading 2024-02\n"
     ]
    },
    {
     "name": "stderr",
     "output_type": "stream",
     "text": [
      "2024-11-22 12:37:45,955 WARNING [2024-10-10T00:00:00] The final validated ERA5 differs from ERA5T from July 2024 until further notice - please refer to our\n",
      "[Forum announcement](https://forum.ecmwf.int/t/final-validated-era5-product-to-differ-from-era5t-in-july-2024/6685)\n",
      "for details and watch it for further updates on this.\n",
      "2024-11-22 12:37:45,955 INFO Request ID is 7c8b419a-662c-4fd8-80b1-dd734fbc7484\n",
      "2024-11-22 12:37:46,059 INFO status has been updated to accepted\n",
      "2024-11-22 12:37:47,649 INFO status has been updated to running\n",
      "2024-11-22 12:42:06,172 INFO status has been updated to successful\n",
      "                                                                                           \r"
     ]
    },
    {
     "name": "stdout",
     "output_type": "stream",
     "text": [
      "Downloading 2024-03\n"
     ]
    },
    {
     "name": "stderr",
     "output_type": "stream",
     "text": [
      "2024-11-22 12:42:09,083 WARNING [2024-10-10T00:00:00] The final validated ERA5 differs from ERA5T from July 2024 until further notice - please refer to our\n",
      "[Forum announcement](https://forum.ecmwf.int/t/final-validated-era5-product-to-differ-from-era5t-in-july-2024/6685)\n",
      "for details and watch it for further updates on this.\n",
      "2024-11-22 12:42:09,087 INFO Request ID is 7c8bfb5e-0436-4b1c-940e-3fa7373f86ca\n",
      "2024-11-22 12:42:09,231 INFO status has been updated to accepted\n",
      "2024-11-22 12:42:13,199 INFO status has been updated to running\n",
      "2024-11-22 12:46:27,330 INFO status has been updated to successful\n",
      "                                                                                           \r"
     ]
    },
    {
     "name": "stdout",
     "output_type": "stream",
     "text": [
      "Downloading 2024-04\n"
     ]
    },
    {
     "name": "stderr",
     "output_type": "stream",
     "text": [
      "2024-11-22 12:46:29,691 WARNING [2024-10-10T00:00:00] The final validated ERA5 differs from ERA5T from July 2024 until further notice - please refer to our\n",
      "[Forum announcement](https://forum.ecmwf.int/t/final-validated-era5-product-to-differ-from-era5t-in-july-2024/6685)\n",
      "for details and watch it for further updates on this.\n",
      "2024-11-22 12:46:29,693 INFO Request ID is 21d81613-1dd3-432c-9cc7-46dbe075ea2c\n",
      "2024-11-22 12:46:29,865 INFO status has been updated to accepted\n",
      "2024-11-22 12:46:34,741 INFO status has been updated to running\n",
      "2024-11-22 12:50:50,257 INFO status has been updated to successful\n",
      "                                                                                           \r"
     ]
    },
    {
     "name": "stdout",
     "output_type": "stream",
     "text": [
      "Downloading 2024-05\n"
     ]
    },
    {
     "name": "stderr",
     "output_type": "stream",
     "text": [
      "2024-11-22 12:50:52,802 WARNING [2024-10-10T00:00:00] The final validated ERA5 differs from ERA5T from July 2024 until further notice - please refer to our\n",
      "[Forum announcement](https://forum.ecmwf.int/t/final-validated-era5-product-to-differ-from-era5t-in-july-2024/6685)\n",
      "for details and watch it for further updates on this.\n",
      "2024-11-22 12:50:52,806 INFO Request ID is b17a067d-b61e-4880-9f5c-6aa88c0d9a69\n",
      "2024-11-22 12:50:52,926 INFO status has been updated to accepted\n",
      "2024-11-22 12:51:00,419 INFO status has been updated to running\n",
      "2024-11-22 12:55:10,948 INFO status has been updated to successful\n",
      "                                                                                           \r"
     ]
    },
    {
     "name": "stdout",
     "output_type": "stream",
     "text": [
      "Downloading 2024-06\n"
     ]
    },
    {
     "name": "stderr",
     "output_type": "stream",
     "text": [
      "2024-11-22 12:55:13,025 WARNING [2024-10-10T00:00:00] The final validated ERA5 differs from ERA5T from July 2024 until further notice - please refer to our\n",
      "[Forum announcement](https://forum.ecmwf.int/t/final-validated-era5-product-to-differ-from-era5t-in-july-2024/6685)\n",
      "for details and watch it for further updates on this.\n",
      "2024-11-22 12:55:13,030 INFO Request ID is 2e6f7eed-7f99-43b6-bc88-b27e4857155f\n",
      "2024-11-22 12:55:13,255 INFO status has been updated to accepted\n",
      "2024-11-22 12:55:20,731 INFO status has been updated to running\n",
      "Recovering from connection error [('Connection aborted.', RemoteDisconnected('Remote end closed connection without response'))], attemps 1 of 500\n",
      "Retrying in 120 seconds\n",
      "2024-11-22 14:31:30,313 INFO status has been updated to successful\n",
      "                                                                                           \r"
     ]
    },
    {
     "name": "stdout",
     "output_type": "stream",
     "text": [
      "Downloading 2024-07\n"
     ]
    },
    {
     "name": "stderr",
     "output_type": "stream",
     "text": [
      "2024-11-22 14:31:33,489 WARNING [2024-10-10T00:00:00] The final validated ERA5 differs from ERA5T from July 2024 until further notice - please refer to our\n",
      "[Forum announcement](https://forum.ecmwf.int/t/final-validated-era5-product-to-differ-from-era5t-in-july-2024/6685)\n",
      "for details and watch it for further updates on this.\n",
      "2024-11-22 14:31:33,491 INFO Request ID is 9d68cdff-498f-47cf-94c4-0d399e59db55\n",
      "2024-11-22 14:31:33,672 INFO status has been updated to accepted\n",
      "2024-11-22 14:31:36,009 INFO status has been updated to running\n",
      "2024-11-22 14:31:47,031 INFO status has been updated to accepted\n",
      "2024-11-22 14:31:54,707 INFO status has been updated to running\n",
      "2024-11-22 14:37:59,455 INFO status has been updated to successful\n",
      "                                                                                           \r"
     ]
    },
    {
     "name": "stdout",
     "output_type": "stream",
     "text": [
      "Downloading 2024-08\n"
     ]
    },
    {
     "name": "stderr",
     "output_type": "stream",
     "text": [
      "2024-11-22 14:38:07,343 WARNING [2024-10-10T00:00:00] The final validated ERA5 differs from ERA5T from July 2024 until further notice - please refer to our\n",
      "[Forum announcement](https://forum.ecmwf.int/t/final-validated-era5-product-to-differ-from-era5t-in-july-2024/6685)\n",
      "for details and watch it for further updates on this.\n",
      "2024-11-22 14:38:07,347 INFO Request ID is b98f1df4-c722-470c-8d76-5401677167f0\n",
      "2024-11-22 14:38:07,431 INFO status has been updated to accepted\n",
      "2024-11-22 14:38:13,655 INFO status has been updated to running\n",
      "2024-11-22 14:38:18,152 INFO status has been updated to accepted\n",
      "2024-11-22 14:38:23,366 INFO status has been updated to running\n",
      "2024-11-22 14:46:37,283 INFO status has been updated to successful\n",
      "                                                                                           \r"
     ]
    },
    {
     "name": "stdout",
     "output_type": "stream",
     "text": [
      "Downloading 2024-09\n"
     ]
    },
    {
     "name": "stderr",
     "output_type": "stream",
     "text": [
      "2024-11-22 14:46:42,640 WARNING [2024-10-10T00:00:00] The final validated ERA5 differs from ERA5T from July 2024 until further notice - please refer to our\n",
      "[Forum announcement](https://forum.ecmwf.int/t/final-validated-era5-product-to-differ-from-era5t-in-july-2024/6685)\n",
      "for details and watch it for further updates on this.\n",
      "2024-11-22 14:46:42,642 INFO Request ID is 4ed17ed4-f05f-453a-a00b-fb7fc5e1f479\n",
      "2024-11-22 14:46:42,706 INFO status has been updated to accepted\n",
      "2024-11-22 14:46:48,864 INFO status has been updated to running\n",
      "2024-11-22 14:53:28,919 INFO status has been updated to successful\n",
      "                                                                                           \r"
     ]
    },
    {
     "name": "stdout",
     "output_type": "stream",
     "text": [
      "Downloading 2024-10\n"
     ]
    },
    {
     "name": "stderr",
     "output_type": "stream",
     "text": [
      "2024-11-22 14:53:34,625 WARNING [2024-10-10T00:00:00] The final validated ERA5 differs from ERA5T from July 2024 until further notice - please refer to our\n",
      "[Forum announcement](https://forum.ecmwf.int/t/final-validated-era5-product-to-differ-from-era5t-in-july-2024/6685)\n",
      "for details and watch it for further updates on this.\n",
      "2024-11-22 14:53:34,644 INFO Request ID is 98714772-f3d4-4fb5-bd22-5ff3889727c1\n",
      "2024-11-22 14:53:34,827 INFO status has been updated to accepted\n",
      "2024-11-22 14:53:43,856 INFO status has been updated to running\n",
      "2024-11-22 15:02:00,164 INFO status has been updated to successful\n",
      "                                                                                           \r"
     ]
    },
    {
     "name": "stdout",
     "output_type": "stream",
     "text": [
      "Downloading 2024-11\n"
     ]
    },
    {
     "name": "stderr",
     "output_type": "stream",
     "text": [
      "2024-11-22 15:02:03,284 WARNING [2024-10-10T00:00:00] The final validated ERA5 differs from ERA5T from July 2024 until further notice - please refer to our\n",
      "[Forum announcement](https://forum.ecmwf.int/t/final-validated-era5-product-to-differ-from-era5t-in-july-2024/6685)\n",
      "for details and watch it for further updates on this.\n",
      "2024-11-22 15:02:03,289 INFO Request ID is 85339f2e-014b-4605-9f28-c5b7ef65ffa7\n",
      "2024-11-22 15:02:05,104 INFO status has been updated to accepted\n",
      "2024-11-22 15:02:15,432 INFO status has been updated to running\n",
      "2024-11-22 15:08:33,594 INFO status has been updated to successful\n",
      "                                                                                           \r"
     ]
    },
    {
     "name": "stdout",
     "output_type": "stream",
     "text": [
      "Downloading 2024-12\n"
     ]
    },
    {
     "ename": "HTTPError",
     "evalue": "400 Client Error: Bad Request for url: https://cds.climate.copernicus.eu/api/retrieve/v1/processes/reanalysis-era5-single-levels/execution\ninvalid request\nNone of the data you have requested is available yet, please revise the period requested. The latest date available for this dataset is: 2024-11-17 14:00",
     "output_type": "error",
     "traceback": [
      "\u001b[0;31m---------------------------------------------------------------------------\u001b[0m",
      "\u001b[0;31mHTTPError\u001b[0m                                 Traceback (most recent call last)",
      "\u001b[1;32m/Users/ferdinand/Desktop/MasterThesis/digital-twin-for-weather-station/new_era5_download.ipynb Cell 2\u001b[0m line \u001b[0;36m8\n\u001b[1;32m      <a href='vscode-notebook-cell:/Users/ferdinand/Desktop/MasterThesis/digital-twin-for-weather-station/new_era5_download.ipynb#W1sZmlsZQ%3D%3D?line=4'>5</a>\u001b[0m target_folder \u001b[39m=\u001b[39m \u001b[39m\"\u001b[39m\u001b[39mera5_data/era5_barbados_allvar\u001b[39m\u001b[39m\"\u001b[39m\n\u001b[1;32m      <a href='vscode-notebook-cell:/Users/ferdinand/Desktop/MasterThesis/digital-twin-for-weather-station/new_era5_download.ipynb#W1sZmlsZQ%3D%3D?line=6'>7</a>\u001b[0m \u001b[39m# Download data for a station months\u001b[39;00m\n\u001b[0;32m----> <a href='vscode-notebook-cell:/Users/ferdinand/Desktop/MasterThesis/digital-twin-for-weather-station/new_era5_download.ipynb#W1sZmlsZQ%3D%3D?line=7'>8</a>\u001b[0m era5_hook_vienna\u001b[39m.\u001b[39;49mdownload_period(years, months, target_folder)\n",
      "File \u001b[0;32m~/Desktop/MasterThesis/digital-twin-for-weather-station/era5/era5_download_hook_copy.py:54\u001b[0m, in \u001b[0;36mEra5DownloadHook.download_period\u001b[0;34m(self, years, months, target_folder)\u001b[0m\n\u001b[1;32m     52\u001b[0m \u001b[39mfor\u001b[39;00m year \u001b[39min\u001b[39;00m years:\n\u001b[1;32m     53\u001b[0m     \u001b[39mfor\u001b[39;00m month \u001b[39min\u001b[39;00m months:\n\u001b[0;32m---> 54\u001b[0m         \u001b[39mself\u001b[39;49m\u001b[39m.\u001b[39;49mdownload_month(year, month, target_folder)\n",
      "File \u001b[0;32m~/Desktop/MasterThesis/digital-twin-for-weather-station/era5/era5_download_hook_copy.py:58\u001b[0m, in \u001b[0;36mEra5DownloadHook.download_month\u001b[0;34m(self, year, month, target_folder)\u001b[0m\n\u001b[1;32m     56\u001b[0m \u001b[39mdef\u001b[39;00m \u001b[39mdownload_month\u001b[39m(\u001b[39mself\u001b[39m, year, month, target_folder):\n\u001b[1;32m     57\u001b[0m     \u001b[39mprint\u001b[39m(\u001b[39mf\u001b[39m\u001b[39m\"\u001b[39m\u001b[39mDownloading \u001b[39m\u001b[39m{\u001b[39;00myear\u001b[39m}\u001b[39;00m\u001b[39m-\u001b[39m\u001b[39m{\u001b[39;00mmonth\u001b[39m:\u001b[39;00m\u001b[39m02d\u001b[39m\u001b[39m}\u001b[39;00m\u001b[39m\"\u001b[39m)\n\u001b[0;32m---> 58\u001b[0m     \u001b[39mself\u001b[39;49m\u001b[39m.\u001b[39;49m_download({\n\u001b[1;32m     59\u001b[0m         \u001b[39m\"\u001b[39;49m\u001b[39myears\u001b[39;49m\u001b[39m\"\u001b[39;49m: [year],\n\u001b[1;32m     60\u001b[0m         \u001b[39m\"\u001b[39;49m\u001b[39mmonths\u001b[39;49m\u001b[39m\"\u001b[39;49m: [month],\n\u001b[1;32m     61\u001b[0m         \u001b[39m\"\u001b[39;49m\u001b[39mdays\u001b[39;49m\u001b[39m\"\u001b[39;49m: \u001b[39mrange\u001b[39;49m(\u001b[39m1\u001b[39;49m, \u001b[39m32\u001b[39;49m),\n\u001b[1;32m     62\u001b[0m         \u001b[39m\"\u001b[39;49m\u001b[39mhours\u001b[39;49m\u001b[39m\"\u001b[39;49m: \u001b[39mrange\u001b[39;49m(\u001b[39m0\u001b[39;49m, \u001b[39m24\u001b[39;49m)\n\u001b[1;32m     63\u001b[0m     }, \u001b[39mf\u001b[39;49m\u001b[39m\"\u001b[39;49m\u001b[39m{\u001b[39;49;00mtarget_folder\u001b[39m}\u001b[39;49;00m\u001b[39m/\u001b[39;49m\u001b[39m{\u001b[39;49;00myear\u001b[39m}\u001b[39;49;00m\u001b[39m_\u001b[39;49m\u001b[39m{\u001b[39;49;00mmonth\u001b[39m:\u001b[39;49;00m\u001b[39m02d\u001b[39;49m\u001b[39m}\u001b[39;49;00m\u001b[39m.grib\u001b[39;49m\u001b[39m\"\u001b[39;49m)\n",
      "File \u001b[0;32m~/Desktop/MasterThesis/digital-twin-for-weather-station/era5/era5_download_hook_copy.py:66\u001b[0m, in \u001b[0;36mEra5DownloadHook._download\u001b[0;34m(self, date_info, save_to_file_path)\u001b[0m\n\u001b[1;32m     65\u001b[0m \u001b[39mdef\u001b[39;00m \u001b[39m_download\u001b[39m(\u001b[39mself\u001b[39m, date_info, save_to_file_path):\n\u001b[0;32m---> 66\u001b[0m     response \u001b[39m=\u001b[39m \u001b[39mself\u001b[39;49m\u001b[39m.\u001b[39;49mcds\u001b[39m.\u001b[39;49mretrieve(\n\u001b[1;32m     67\u001b[0m         \u001b[39m'\u001b[39;49m\u001b[39mreanalysis-era5-single-levels\u001b[39;49m\u001b[39m'\u001b[39;49m,\n\u001b[1;32m     68\u001b[0m         {\n\u001b[1;32m     69\u001b[0m             \u001b[39m\"\u001b[39;49m\u001b[39mproduct_type\u001b[39;49m\u001b[39m\"\u001b[39;49m: \u001b[39m\"\u001b[39;49m\u001b[39mreanalysis\u001b[39;49m\u001b[39m\"\u001b[39;49m,\n\u001b[1;32m     70\u001b[0m             \u001b[39m\"\u001b[39;49m\u001b[39mformat\u001b[39;49m\u001b[39m\"\u001b[39;49m: \u001b[39m\"\u001b[39;49m\u001b[39mgrib\u001b[39;49m\u001b[39m\"\u001b[39;49m,\n\u001b[1;32m     71\u001b[0m             \u001b[39m\"\u001b[39;49m\u001b[39mvariable\u001b[39;49m\u001b[39m\"\u001b[39;49m: [\n\u001b[1;32m     72\u001b[0m                 \u001b[39m\"\u001b[39;49m\u001b[39m10m_u_component_of_wind\u001b[39;49m\u001b[39m\"\u001b[39;49m,\n\u001b[1;32m     73\u001b[0m                 \u001b[39m\"\u001b[39;49m\u001b[39m10m_v_component_of_wind\u001b[39;49m\u001b[39m\"\u001b[39;49m,\n\u001b[1;32m     74\u001b[0m                 \u001b[39m\"\u001b[39;49m\u001b[39m2m_dewpoint_temperature\u001b[39;49m\u001b[39m\"\u001b[39;49m,\n\u001b[1;32m     75\u001b[0m                 \u001b[39m\"\u001b[39;49m\u001b[39m2m_temperature\u001b[39;49m\u001b[39m\"\u001b[39;49m,\n\u001b[1;32m     76\u001b[0m                 \u001b[39m\"\u001b[39;49m\u001b[39msurface_pressure\u001b[39;49m\u001b[39m\"\u001b[39;49m,\n\u001b[1;32m     77\u001b[0m                 \u001b[39m\"\u001b[39;49m\u001b[39mtotal_precipitation\u001b[39;49m\u001b[39m\"\u001b[39;49m\n\u001b[1;32m     78\u001b[0m             ],\n\u001b[1;32m     79\u001b[0m             \u001b[39m\"\u001b[39;49m\u001b[39marea\u001b[39;49m\u001b[39m\"\u001b[39;49m: [\n\u001b[1;32m     80\u001b[0m                 \u001b[39mself\u001b[39;49m\u001b[39m.\u001b[39;49mcoordinate_limits[\u001b[39m\"\u001b[39;49m\u001b[39mnorth\u001b[39;49m\u001b[39m\"\u001b[39;49m],\n\u001b[1;32m     81\u001b[0m                 \u001b[39mself\u001b[39;49m\u001b[39m.\u001b[39;49mcoordinate_limits[\u001b[39m\"\u001b[39;49m\u001b[39mwest\u001b[39;49m\u001b[39m\"\u001b[39;49m] \u001b[39m%\u001b[39;49m \u001b[39m360\u001b[39;49m,\n\u001b[1;32m     82\u001b[0m                 \u001b[39mself\u001b[39;49m\u001b[39m.\u001b[39;49mcoordinate_limits[\u001b[39m\"\u001b[39;49m\u001b[39msouth\u001b[39;49m\u001b[39m\"\u001b[39;49m],\n\u001b[1;32m     83\u001b[0m                 \u001b[39mself\u001b[39;49m\u001b[39m.\u001b[39;49mcoordinate_limits[\u001b[39m\"\u001b[39;49m\u001b[39meast\u001b[39;49m\u001b[39m\"\u001b[39;49m] \u001b[39m%\u001b[39;49m \u001b[39m360\u001b[39;49m,\n\u001b[1;32m     84\u001b[0m             ],\n\u001b[1;32m     85\u001b[0m             \u001b[39m\"\u001b[39;49m\u001b[39myear\u001b[39;49m\u001b[39m\"\u001b[39;49m: [\u001b[39mstr\u001b[39;49m(year) \u001b[39mfor\u001b[39;49;00m year \u001b[39min\u001b[39;49;00m date_info\u001b[39m.\u001b[39;49mget(\u001b[39m\"\u001b[39;49m\u001b[39myears\u001b[39;49m\u001b[39m\"\u001b[39;49m)],\n\u001b[1;32m     86\u001b[0m             \u001b[39m\"\u001b[39;49m\u001b[39mmonth\u001b[39;49m\u001b[39m\"\u001b[39;49m: [\u001b[39mf\u001b[39;49m\u001b[39m\"\u001b[39;49m\u001b[39m{\u001b[39;49;00mmonth\u001b[39m:\u001b[39;49;00m\u001b[39m02d\u001b[39;49m\u001b[39m}\u001b[39;49;00m\u001b[39m\"\u001b[39;49m \u001b[39mfor\u001b[39;49;00m month \u001b[39min\u001b[39;49;00m date_info\u001b[39m.\u001b[39;49mget(\u001b[39m\"\u001b[39;49m\u001b[39mmonths\u001b[39;49m\u001b[39m\"\u001b[39;49m)],\n\u001b[1;32m     87\u001b[0m             \u001b[39m\"\u001b[39;49m\u001b[39mday\u001b[39;49m\u001b[39m\"\u001b[39;49m: [\u001b[39mf\u001b[39;49m\u001b[39m\"\u001b[39;49m\u001b[39m{\u001b[39;49;00mday\u001b[39m:\u001b[39;49;00m\u001b[39m02d\u001b[39;49m\u001b[39m}\u001b[39;49;00m\u001b[39m\"\u001b[39;49m \u001b[39mfor\u001b[39;49;00m day \u001b[39min\u001b[39;49;00m date_info\u001b[39m.\u001b[39;49mget(\u001b[39m\"\u001b[39;49m\u001b[39mdays\u001b[39;49m\u001b[39m\"\u001b[39;49m)],\n\u001b[1;32m     88\u001b[0m             \u001b[39m\"\u001b[39;49m\u001b[39mtime\u001b[39;49m\u001b[39m\"\u001b[39;49m: [\u001b[39mf\u001b[39;49m\u001b[39m\"\u001b[39;49m\u001b[39m{\u001b[39;49;00mhour\u001b[39m:\u001b[39;49;00m\u001b[39m02d\u001b[39;49m\u001b[39m}\u001b[39;49;00m\u001b[39m:00\u001b[39;49m\u001b[39m\"\u001b[39;49m \u001b[39mfor\u001b[39;49;00m hour \u001b[39min\u001b[39;49;00m date_info\u001b[39m.\u001b[39;49mget(\u001b[39m\"\u001b[39;49m\u001b[39mhours\u001b[39;49m\u001b[39m\"\u001b[39;49m)]\n\u001b[1;32m     89\u001b[0m         },\n\u001b[1;32m     90\u001b[0m         save_to_file_path\n\u001b[1;32m     91\u001b[0m     )\n",
      "File \u001b[0;32m~/anaconda3/envs/crai/lib/python3.10/site-packages/cads_api_client/legacy_api_client.py:160\u001b[0m, in \u001b[0;36mLegacyApiClient.retrieve\u001b[0;34m(self, name, request, target)\u001b[0m\n\u001b[1;32m    158\u001b[0m submitted: processing\u001b[39m.\u001b[39mRemote \u001b[39m|\u001b[39m processing\u001b[39m.\u001b[39mResults\n\u001b[1;32m    159\u001b[0m \u001b[39mif\u001b[39;00m \u001b[39mself\u001b[39m\u001b[39m.\u001b[39mwait_until_complete:\n\u001b[0;32m--> 160\u001b[0m     submitted \u001b[39m=\u001b[39m \u001b[39mself\u001b[39;49m\u001b[39m.\u001b[39;49mlogging_decorator(\u001b[39mself\u001b[39;49m\u001b[39m.\u001b[39;49mclient\u001b[39m.\u001b[39;49msubmit_and_wait_on_result)(\n\u001b[1;32m    161\u001b[0m         collection_id\u001b[39m=\u001b[39;49mname,\n\u001b[1;32m    162\u001b[0m         \u001b[39m*\u001b[39;49m\u001b[39m*\u001b[39;49mrequest,\n\u001b[1;32m    163\u001b[0m     )\n\u001b[1;32m    164\u001b[0m \u001b[39melse\u001b[39;00m:\n\u001b[1;32m    165\u001b[0m     submitted \u001b[39m=\u001b[39m \u001b[39mself\u001b[39m\u001b[39m.\u001b[39mlogging_decorator(\u001b[39mself\u001b[39m\u001b[39m.\u001b[39mclient\u001b[39m.\u001b[39msubmit)(\n\u001b[1;32m    166\u001b[0m         collection_id\u001b[39m=\u001b[39mname,\n\u001b[1;32m    167\u001b[0m         \u001b[39m*\u001b[39m\u001b[39m*\u001b[39mrequest,\n\u001b[1;32m    168\u001b[0m     )\n",
      "File \u001b[0;32m~/anaconda3/envs/crai/lib/python3.10/site-packages/cads_api_client/legacy_api_client.py:143\u001b[0m, in \u001b[0;36mLegacyApiClient.logging_decorator.<locals>.wrapper\u001b[0;34m(*args, **kwargs)\u001b[0m\n\u001b[1;32m    138\u001b[0m \u001b[39m@functools\u001b[39m\u001b[39m.\u001b[39mwraps(func)\n\u001b[1;32m    139\u001b[0m \u001b[39mdef\u001b[39;00m \u001b[39mwrapper\u001b[39m(\u001b[39m*\u001b[39margs: Any, \u001b[39m*\u001b[39m\u001b[39m*\u001b[39mkwargs: Any) \u001b[39m-\u001b[39m\u001b[39m>\u001b[39m Any:\n\u001b[1;32m    140\u001b[0m     \u001b[39mwith\u001b[39;00m LoggingContext(\n\u001b[1;32m    141\u001b[0m         logger\u001b[39m=\u001b[39mprocessing\u001b[39m.\u001b[39mlogger, quiet\u001b[39m=\u001b[39m\u001b[39mself\u001b[39m\u001b[39m.\u001b[39mquiet, debug\u001b[39m=\u001b[39m\u001b[39mself\u001b[39m\u001b[39m.\u001b[39m_debug\n\u001b[1;32m    142\u001b[0m     ):\n\u001b[0;32m--> 143\u001b[0m         \u001b[39mreturn\u001b[39;00m func(\u001b[39m*\u001b[39;49margs, \u001b[39m*\u001b[39;49m\u001b[39m*\u001b[39;49mkwargs)\n",
      "File \u001b[0;32m~/anaconda3/envs/crai/lib/python3.10/site-packages/cads_api_client/api_client.py:132\u001b[0m, in \u001b[0;36mApiClient.submit_and_wait_on_result\u001b[0;34m(self, collection_id, **request)\u001b[0m\n\u001b[1;32m    129\u001b[0m \u001b[39mdef\u001b[39;00m \u001b[39msubmit_and_wait_on_result\u001b[39m(\n\u001b[1;32m    130\u001b[0m     \u001b[39mself\u001b[39m, collection_id: \u001b[39mstr\u001b[39m, \u001b[39m*\u001b[39m\u001b[39m*\u001b[39mrequest: Any\n\u001b[1;32m    131\u001b[0m ) \u001b[39m-\u001b[39m\u001b[39m>\u001b[39m processing\u001b[39m.\u001b[39mResults:\n\u001b[0;32m--> 132\u001b[0m     \u001b[39mreturn\u001b[39;00m \u001b[39mself\u001b[39;49m\u001b[39m.\u001b[39;49mretrieve_api\u001b[39m.\u001b[39;49msubmit_and_wait_on_result(collection_id, \u001b[39m*\u001b[39;49m\u001b[39m*\u001b[39;49mrequest)\n",
      "File \u001b[0;32m~/anaconda3/envs/crai/lib/python3.10/site-packages/cads_api_client/processing.py:555\u001b[0m, in \u001b[0;36mProcessing.submit_and_wait_on_result\u001b[0;34m(self, collection_id, **request)\u001b[0m\n\u001b[1;32m    554\u001b[0m \u001b[39mdef\u001b[39;00m \u001b[39msubmit_and_wait_on_result\u001b[39m(\u001b[39mself\u001b[39m, collection_id: \u001b[39mstr\u001b[39m, \u001b[39m*\u001b[39m\u001b[39m*\u001b[39mrequest: Any) \u001b[39m-\u001b[39m\u001b[39m>\u001b[39m Results:\n\u001b[0;32m--> 555\u001b[0m     remote \u001b[39m=\u001b[39m \u001b[39mself\u001b[39;49m\u001b[39m.\u001b[39;49msubmit(collection_id, \u001b[39m*\u001b[39;49m\u001b[39m*\u001b[39;49mrequest)\n\u001b[1;32m    556\u001b[0m     remote\u001b[39m.\u001b[39mwait_on_result()\n\u001b[1;32m    557\u001b[0m     \u001b[39mreturn\u001b[39;00m remote\u001b[39m.\u001b[39mmake_results()\n",
      "File \u001b[0;32m~/anaconda3/envs/crai/lib/python3.10/site-packages/cads_api_client/processing.py:551\u001b[0m, in \u001b[0;36mProcessing.submit\u001b[0;34m(self, collection_id, **request)\u001b[0m\n\u001b[1;32m    550\u001b[0m \u001b[39mdef\u001b[39;00m \u001b[39msubmit\u001b[39m(\u001b[39mself\u001b[39m, collection_id: \u001b[39mstr\u001b[39m, \u001b[39m*\u001b[39m\u001b[39m*\u001b[39mrequest: Any) \u001b[39m-\u001b[39m\u001b[39m>\u001b[39m Remote:\n\u001b[0;32m--> 551\u001b[0m     status_info \u001b[39m=\u001b[39m \u001b[39mself\u001b[39;49m\u001b[39m.\u001b[39;49mprocess_execute(collection_id, request)\n\u001b[1;32m    552\u001b[0m     \u001b[39mreturn\u001b[39;00m status_info\u001b[39m.\u001b[39mmake_remote()\n",
      "File \u001b[0;32m~/anaconda3/envs/crai/lib/python3.10/site-packages/cads_api_client/processing.py:532\u001b[0m, in \u001b[0;36mProcessing.process_execute\u001b[0;34m(self, process_id, inputs)\u001b[0m\n\u001b[1;32m    526\u001b[0m \u001b[39mdef\u001b[39;00m \u001b[39mprocess_execute\u001b[39m(\n\u001b[1;32m    527\u001b[0m     \u001b[39mself\u001b[39m,\n\u001b[1;32m    528\u001b[0m     process_id: \u001b[39mstr\u001b[39m,\n\u001b[1;32m    529\u001b[0m     inputs: \u001b[39mdict\u001b[39m[\u001b[39mstr\u001b[39m, Any],\n\u001b[1;32m    530\u001b[0m ) \u001b[39m-\u001b[39m\u001b[39m>\u001b[39m StatusInfo:\n\u001b[1;32m    531\u001b[0m     url \u001b[39m=\u001b[39m \u001b[39mf\u001b[39m\u001b[39m\"\u001b[39m\u001b[39m{\u001b[39;00m\u001b[39mself\u001b[39m\u001b[39m.\u001b[39murl\u001b[39m}\u001b[39;00m\u001b[39m/processes/\u001b[39m\u001b[39m{\u001b[39;00mprocess_id\u001b[39m}\u001b[39;00m\u001b[39m/execution\u001b[39m\u001b[39m\"\u001b[39m\n\u001b[0;32m--> 532\u001b[0m     \u001b[39mreturn\u001b[39;00m StatusInfo\u001b[39m.\u001b[39;49mfrom_request(\n\u001b[1;32m    533\u001b[0m         \u001b[39m\"\u001b[39;49m\u001b[39mpost\u001b[39;49m\u001b[39m\"\u001b[39;49m, url, json\u001b[39m=\u001b[39;49m{\u001b[39m\"\u001b[39;49m\u001b[39minputs\u001b[39;49m\u001b[39m\"\u001b[39;49m: inputs}, \u001b[39m*\u001b[39;49m\u001b[39m*\u001b[39;49m\u001b[39mself\u001b[39;49m\u001b[39m.\u001b[39;49mrequest_kwargs\n\u001b[1;32m    534\u001b[0m     )\n",
      "File \u001b[0;32m~/anaconda3/envs/crai/lib/python3.10/site-packages/cads_api_client/processing.py:133\u001b[0m, in \u001b[0;36mApiResponse.from_request\u001b[0;34m(cls, method, url, headers, session, retry_options, request_options, download_options, sleep_max, cleanup, **kwargs)\u001b[0m\n\u001b[1;32m    128\u001b[0m response \u001b[39m=\u001b[39m robust_request(\n\u001b[1;32m    129\u001b[0m     method, url, headers\u001b[39m=\u001b[39mheaders, \u001b[39m*\u001b[39m\u001b[39m*\u001b[39mrequest_options, \u001b[39m*\u001b[39m\u001b[39m*\u001b[39mkwargs\n\u001b[1;32m    130\u001b[0m )\n\u001b[1;32m    131\u001b[0m logger\u001b[39m.\u001b[39mdebug(\u001b[39mf\u001b[39m\u001b[39m\"\u001b[39m\u001b[39mREPLY \u001b[39m\u001b[39m{\u001b[39;00mresponse\u001b[39m.\u001b[39mtext\u001b[39m}\u001b[39;00m\u001b[39m\"\u001b[39m)\n\u001b[0;32m--> 133\u001b[0m cads_raise_for_status(response)\n\u001b[1;32m    135\u001b[0m \u001b[39mself\u001b[39m \u001b[39m=\u001b[39m \u001b[39mcls\u001b[39m(\n\u001b[1;32m    136\u001b[0m     response,\n\u001b[1;32m    137\u001b[0m     headers\u001b[39m=\u001b[39mheaders,\n\u001b[0;32m   (...)\u001b[0m\n\u001b[1;32m    143\u001b[0m     cleanup\u001b[39m=\u001b[39mcleanup,\n\u001b[1;32m    144\u001b[0m )\n\u001b[1;32m    145\u001b[0m \u001b[39mself\u001b[39m\u001b[39m.\u001b[39mlog_messages()\n",
      "File \u001b[0;32m~/anaconda3/envs/crai/lib/python3.10/site-packages/cads_api_client/processing.py:71\u001b[0m, in \u001b[0;36mcads_raise_for_status\u001b[0;34m(response)\u001b[0m\n\u001b[1;32m     64\u001b[0m     \u001b[39melse\u001b[39;00m:\n\u001b[1;32m     65\u001b[0m         message \u001b[39m=\u001b[39m \u001b[39m\"\u001b[39m\u001b[39m\\n\u001b[39;00m\u001b[39m\"\u001b[39m\u001b[39m.\u001b[39mjoin(\n\u001b[1;32m     66\u001b[0m             [\n\u001b[1;32m     67\u001b[0m                 \u001b[39mf\u001b[39m\u001b[39m\"\u001b[39m\u001b[39m{\u001b[39;00mresponse\u001b[39m.\u001b[39mstatus_code\u001b[39m}\u001b[39;00m\u001b[39m Client Error: \u001b[39m\u001b[39m{\u001b[39;00mresponse\u001b[39m.\u001b[39mreason\u001b[39m}\u001b[39;00m\u001b[39m for url: \u001b[39m\u001b[39m{\u001b[39;00mresponse\u001b[39m.\u001b[39murl\u001b[39m}\u001b[39;00m\u001b[39m\"\u001b[39m,\n\u001b[1;32m     68\u001b[0m                 error_json_to_message(error_json),\n\u001b[1;32m     69\u001b[0m             ]\n\u001b[1;32m     70\u001b[0m         )\n\u001b[0;32m---> 71\u001b[0m         \u001b[39mraise\u001b[39;00m requests\u001b[39m.\u001b[39mexceptions\u001b[39m.\u001b[39mHTTPError(message, response\u001b[39m=\u001b[39mresponse)\n\u001b[1;32m     72\u001b[0m response\u001b[39m.\u001b[39mraise_for_status()\n",
      "\u001b[0;31mHTTPError\u001b[0m: 400 Client Error: Bad Request for url: https://cds.climate.copernicus.eu/api/retrieve/v1/processes/reanalysis-era5-single-levels/execution\ninvalid request\nNone of the data you have requested is available yet, please revise the period requested. The latest date available for this dataset is: 2024-11-17 14:00"
     ]
    }
   ],
   "source": [
    "era5_hook_vienna = Era5DownloadHook(lat=13.16443,  lon=-59.54316 )\n",
    "\n",
    "years = [2023, 2024]\n",
    "months = [1,2,3,4,5,6,7,8,9,10,11,12]\n",
    "target_folder = \"era5_data/era5_barbados_allvar\"\n",
    "\n",
    "# Download data for a station months\n",
    "era5_hook_vienna.download_period(years, months, target_folder)"
   ]
  },
  {
   "cell_type": "code",
   "execution_count": 9,
   "metadata": {},
   "outputs": [
    {
     "name": "stdout",
     "output_type": "stream",
     "text": [
      "Using URL: https://cds-beta.climate.copernicus.eu/api\n",
      "Downloading 2017-01\n",
      "Downloading 2017-02\n",
      "Downloading 2017-03\n",
      "Downloading 2017-04\n",
      "Downloading 2017-05\n",
      "Downloading 2017-06\n"
     ]
    },
    {
     "name": "stderr",
     "output_type": "stream",
     "text": [
      "2024-11-12 09:40:51,525 WARNING [2024-10-10T00:00:00] The final validated ERA5 differs from ERA5T from July 2024 until further notice - please refer to our\n",
      "[Forum announcement](https://forum.ecmwf.int/t/final-validated-era5-product-to-differ-from-era5t-in-july-2024/6685)\n",
      "for details and watch it for further updates on this.\n",
      "2024-11-12 09:40:51,529 INFO Request ID is 834f1929-4598-4ad4-9d04-6dd1e452ae62\n",
      "2024-11-12 09:40:51,617 WARNING [2024-10-10T00:00:00] The final validated ERA5 differs from ERA5T from July 2024 until further notice - please refer to our\n",
      "[Forum announcement](https://forum.ecmwf.int/t/final-validated-era5-product-to-differ-from-era5t-in-july-2024/6685)\n",
      "for details and watch it for further updates on this.\n",
      "2024-11-12 09:40:51,618 INFO Request ID is 42bc138b-011c-4271-a2fa-52f9c9ba3732\n",
      "2024-11-12 09:40:51,651 WARNING [2024-10-10T00:00:00] The final validated ERA5 differs from ERA5T from July 2024 until further notice - please refer to our\n",
      "[Forum announcement](https://forum.ecmwf.int/t/final-validated-era5-product-to-differ-from-era5t-in-july-2024/6685)\n",
      "for details and watch it for further updates on this.\n",
      "2024-11-12 09:40:51,652 WARNING [2024-10-10T00:00:00] The final validated ERA5 differs from ERA5T from July 2024 until further notice - please refer to our\n",
      "[Forum announcement](https://forum.ecmwf.int/t/final-validated-era5-product-to-differ-from-era5t-in-july-2024/6685)\n",
      "for details and watch it for further updates on this.\n",
      "2024-11-12 09:40:51,652 INFO Request ID is b257664a-c4c3-4a12-a178-0d28521b827d\n",
      "2024-11-12 09:40:51,653 INFO Request ID is 7d636717-b100-40c0-9992-8a5354c4d382\n",
      "2024-11-12 09:40:51,706 INFO status has been updated to accepted\n",
      "2024-11-12 09:40:51,778 WARNING [2024-10-10T00:00:00] The final validated ERA5 differs from ERA5T from July 2024 until further notice - please refer to our\n",
      "[Forum announcement](https://forum.ecmwf.int/t/final-validated-era5-product-to-differ-from-era5t-in-july-2024/6685)\n",
      "for details and watch it for further updates on this.\n",
      "2024-11-12 09:40:51,779 INFO Request ID is c755a54d-be1e-40a4-8eaa-50b8b1a10ba1\n",
      "2024-11-12 09:40:51,791 INFO status has been updated to accepted\n",
      "2024-11-12 09:40:51,842 INFO status has been updated to accepted\n",
      "2024-11-12 09:40:52,055 INFO status has been updated to accepted\n",
      "2024-11-12 09:40:58,777 WARNING [2024-10-10T00:00:00] The final validated ERA5 differs from ERA5T from July 2024 until further notice - please refer to our\n",
      "[Forum announcement](https://forum.ecmwf.int/t/final-validated-era5-product-to-differ-from-era5t-in-july-2024/6685)\n",
      "for details and watch it for further updates on this.\n",
      "2024-11-12 09:40:58,781 INFO Request ID is 14e02bb1-f80b-42ed-a8a6-b455d39a2748\n",
      "2024-11-12 09:40:58,789 INFO status has been updated to accepted\n",
      "2024-11-12 09:40:58,865 INFO status has been updated to accepted\n",
      "Recovering from connection error [('Connection aborted.', RemoteDisconnected('Remote end closed connection without response'))], attemps 1 of 500\n",
      "Retrying in 120 seconds\n",
      "Recovering from connection error [('Connection aborted.', RemoteDisconnected('Remote end closed connection without response'))], attemps 1 of 500\n",
      "Retrying in 120 seconds\n",
      "Recovering from connection error [('Connection aborted.', RemoteDisconnected('Remote end closed connection without response'))], attemps 1 of 500\n",
      "Retrying in 120 seconds\n",
      "Recovering from connection error [('Connection aborted.', RemoteDisconnected('Remote end closed connection without response'))], attemps 1 of 500\n",
      "Retrying in 120 seconds\n"
     ]
    },
    {
     "ename": "KeyboardInterrupt",
     "evalue": "",
     "output_type": "error",
     "traceback": [
      "\u001b[0;31m---------------------------------------------------------------------------\u001b[0m",
      "\u001b[0;31mKeyboardInterrupt\u001b[0m                         Traceback (most recent call last)",
      "\u001b[1;32m/Users/ferdinand/Desktop/MasterThesis/digital-twin-for-weather-station/new_era5_download.ipynb Cell 3\u001b[0m line \u001b[0;36m8\n\u001b[1;32m      <a href='vscode-notebook-cell:/Users/ferdinand/Desktop/MasterThesis/digital-twin-for-weather-station/new_era5_download.ipynb#W2sZmlsZQ%3D%3D?line=4'>5</a>\u001b[0m target_folder \u001b[39m=\u001b[39m \u001b[39m\"\u001b[39m\u001b[39mera5_data/nerwhook_marshall\u001b[39m\u001b[39m\"\u001b[39m\n\u001b[1;32m      <a href='vscode-notebook-cell:/Users/ferdinand/Desktop/MasterThesis/digital-twin-for-weather-station/new_era5_download.ipynb#W2sZmlsZQ%3D%3D?line=6'>7</a>\u001b[0m \u001b[39m# Download data for a station months\u001b[39;00m\n\u001b[0;32m----> <a href='vscode-notebook-cell:/Users/ferdinand/Desktop/MasterThesis/digital-twin-for-weather-station/new_era5_download.ipynb#W2sZmlsZQ%3D%3D?line=7'>8</a>\u001b[0m era5_hook_vienna\u001b[39m.\u001b[39;49mdownload_period_parallel(start_year, end_year, target_folder)\n",
      "File \u001b[0;32m~/Desktop/MasterThesis/digital-twin-for-weather-station/era5/era5_download_hook_copy.py:47\u001b[0m, in \u001b[0;36mEra5DownloadHook.download_period_parallel\u001b[0;34m(self, start_year, end_year, target_folder)\u001b[0m\n\u001b[1;32m     46\u001b[0m \u001b[39mdef\u001b[39;00m \u001b[39mdownload_period_parallel\u001b[39m(\u001b[39mself\u001b[39m, start_year, end_year, target_folder):\n\u001b[0;32m---> 47\u001b[0m     \u001b[39mwith\u001b[39;00m ThreadPoolExecutor(max_workers\u001b[39m=\u001b[39m\u001b[39m6\u001b[39m) \u001b[39mas\u001b[39;00m executor:  \u001b[39m# Adjust max_workers based on system capacity\u001b[39;00m\n\u001b[1;32m     48\u001b[0m         futures \u001b[39m=\u001b[39m [\n\u001b[1;32m     49\u001b[0m             executor\u001b[39m.\u001b[39msubmit(\u001b[39mself\u001b[39m\u001b[39m.\u001b[39mdownload_month_parallel, year, month, target_folder)\n\u001b[1;32m     50\u001b[0m             \u001b[39mfor\u001b[39;00m year \u001b[39min\u001b[39;00m \u001b[39mrange\u001b[39m(start_year, end_year \u001b[39m+\u001b[39m \u001b[39m1\u001b[39m)\n\u001b[1;32m     51\u001b[0m             \u001b[39mfor\u001b[39;00m month \u001b[39min\u001b[39;00m \u001b[39mrange\u001b[39m(\u001b[39m1\u001b[39m, \u001b[39m13\u001b[39m)\n\u001b[1;32m     52\u001b[0m         ]\n",
      "File \u001b[0;32m~/anaconda3/envs/crai/lib/python3.10/concurrent/futures/_base.py:649\u001b[0m, in \u001b[0;36mExecutor.__exit__\u001b[0;34m(self, exc_type, exc_val, exc_tb)\u001b[0m\n\u001b[1;32m    648\u001b[0m \u001b[39mdef\u001b[39;00m \u001b[39m__exit__\u001b[39m(\u001b[39mself\u001b[39m, exc_type, exc_val, exc_tb):\n\u001b[0;32m--> 649\u001b[0m     \u001b[39mself\u001b[39;49m\u001b[39m.\u001b[39;49mshutdown(wait\u001b[39m=\u001b[39;49m\u001b[39mTrue\u001b[39;49;00m)\n\u001b[1;32m    650\u001b[0m     \u001b[39mreturn\u001b[39;00m \u001b[39mFalse\u001b[39;00m\n",
      "File \u001b[0;32m~/anaconda3/envs/crai/lib/python3.10/concurrent/futures/thread.py:235\u001b[0m, in \u001b[0;36mThreadPoolExecutor.shutdown\u001b[0;34m(self, wait, cancel_futures)\u001b[0m\n\u001b[1;32m    233\u001b[0m \u001b[39mif\u001b[39;00m wait:\n\u001b[1;32m    234\u001b[0m     \u001b[39mfor\u001b[39;00m t \u001b[39min\u001b[39;00m \u001b[39mself\u001b[39m\u001b[39m.\u001b[39m_threads:\n\u001b[0;32m--> 235\u001b[0m         t\u001b[39m.\u001b[39;49mjoin()\n",
      "File \u001b[0;32m~/anaconda3/envs/crai/lib/python3.10/threading.py:1096\u001b[0m, in \u001b[0;36mThread.join\u001b[0;34m(self, timeout)\u001b[0m\n\u001b[1;32m   1093\u001b[0m     \u001b[39mraise\u001b[39;00m \u001b[39mRuntimeError\u001b[39;00m(\u001b[39m\"\u001b[39m\u001b[39mcannot join current thread\u001b[39m\u001b[39m\"\u001b[39m)\n\u001b[1;32m   1095\u001b[0m \u001b[39mif\u001b[39;00m timeout \u001b[39mis\u001b[39;00m \u001b[39mNone\u001b[39;00m:\n\u001b[0;32m-> 1096\u001b[0m     \u001b[39mself\u001b[39;49m\u001b[39m.\u001b[39;49m_wait_for_tstate_lock()\n\u001b[1;32m   1097\u001b[0m \u001b[39melse\u001b[39;00m:\n\u001b[1;32m   1098\u001b[0m     \u001b[39m# the behavior of a negative timeout isn't documented, but\u001b[39;00m\n\u001b[1;32m   1099\u001b[0m     \u001b[39m# historically .join(timeout=x) for x<0 has acted as if timeout=0\u001b[39;00m\n\u001b[1;32m   1100\u001b[0m     \u001b[39mself\u001b[39m\u001b[39m.\u001b[39m_wait_for_tstate_lock(timeout\u001b[39m=\u001b[39m\u001b[39mmax\u001b[39m(timeout, \u001b[39m0\u001b[39m))\n",
      "File \u001b[0;32m~/anaconda3/envs/crai/lib/python3.10/threading.py:1116\u001b[0m, in \u001b[0;36mThread._wait_for_tstate_lock\u001b[0;34m(self, block, timeout)\u001b[0m\n\u001b[1;32m   1113\u001b[0m     \u001b[39mreturn\u001b[39;00m\n\u001b[1;32m   1115\u001b[0m \u001b[39mtry\u001b[39;00m:\n\u001b[0;32m-> 1116\u001b[0m     \u001b[39mif\u001b[39;00m lock\u001b[39m.\u001b[39;49macquire(block, timeout):\n\u001b[1;32m   1117\u001b[0m         lock\u001b[39m.\u001b[39mrelease()\n\u001b[1;32m   1118\u001b[0m         \u001b[39mself\u001b[39m\u001b[39m.\u001b[39m_stop()\n",
      "\u001b[0;31mKeyboardInterrupt\u001b[0m: "
     ]
    },
    {
     "name": "stdout",
     "output_type": "stream",
     "text": [
      "Downloading 2018-03\n"
     ]
    },
    {
     "name": "stderr",
     "output_type": "stream",
     "text": [
      "2024-11-12 11:57:13,340 WARNING [2024-10-10T00:00:00] The final validated ERA5 differs from ERA5T from July 2024 until further notice - please refer to our\n",
      "[Forum announcement](https://forum.ecmwf.int/t/final-validated-era5-product-to-differ-from-era5t-in-july-2024/6685)\n",
      "for details and watch it for further updates on this.\n",
      "2024-11-12 11:57:13,342 INFO Request ID is e9fb3dd2-30ca-46e7-a5a4-4850b643df44\n",
      "2024-11-12 11:57:13,749 INFO status has been updated to accepted\n"
     ]
    },
    {
     "name": "stdout",
     "output_type": "stream",
     "text": [
      "Downloading 2018-04\n"
     ]
    },
    {
     "name": "stderr",
     "output_type": "stream",
     "text": [
      "2024-11-12 11:57:22,967 WARNING [2024-10-10T00:00:00] The final validated ERA5 differs from ERA5T from July 2024 until further notice - please refer to our\n",
      "[Forum announcement](https://forum.ecmwf.int/t/final-validated-era5-product-to-differ-from-era5t-in-july-2024/6685)\n",
      "for details and watch it for further updates on this.\n",
      "2024-11-12 11:57:22,968 INFO Request ID is 28ca5d81-9669-45a2-bf93-ff817d153e38\n",
      "2024-11-12 11:57:26,491 INFO status has been updated to accepted\n"
     ]
    },
    {
     "name": "stdout",
     "output_type": "stream",
     "text": [
      "Downloading 2018-05\n"
     ]
    },
    {
     "name": "stderr",
     "output_type": "stream",
     "text": [
      "2024-11-12 11:57:38,942 WARNING [2024-10-10T00:00:00] The final validated ERA5 differs from ERA5T from July 2024 until further notice - please refer to our\n",
      "[Forum announcement](https://forum.ecmwf.int/t/final-validated-era5-product-to-differ-from-era5t-in-july-2024/6685)\n",
      "for details and watch it for further updates on this.\n",
      "2024-11-12 11:57:38,943 INFO Request ID is c97f7254-4c3e-48e4-b23d-0aa57d63bb73\n",
      "2024-11-12 11:57:38,991 INFO status has been updated to accepted\n",
      "2024-11-12 11:57:42,823 WARNING [2024-10-10T00:00:00] The final validated ERA5 differs from ERA5T from July 2024 until further notice - please refer to our\n",
      "[Forum announcement](https://forum.ecmwf.int/t/final-validated-era5-product-to-differ-from-era5t-in-july-2024/6685)\n",
      "for details and watch it for further updates on this.\n",
      "--- Logging error ---\n",
      "Traceback (most recent call last):\n",
      "  File \"/Users/ferdinand/anaconda3/envs/crai/lib/python3.10/logging/__init__.py\", line 1103, in emit\n",
      "    stream.write(msg + self.terminator)\n",
      "  File \"/Users/ferdinand/anaconda3/envs/crai/lib/python3.10/site-packages/ipykernel/iostream.py\", line 694, in write\n",
      "    self._schedule_flush()\n",
      "  File \"/Users/ferdinand/anaconda3/envs/crai/lib/python3.10/site-packages/ipykernel/iostream.py\", line 590, in _schedule_flush\n",
      "    self.pub_thread.schedule(_schedule_in_thread)\n",
      "  File \"/Users/ferdinand/anaconda3/envs/crai/lib/python3.10/site-packages/ipykernel/iostream.py\", line 267, in schedule\n",
      "    self._event_pipe.send(b\"\")\n",
      "  File \"/Users/ferdinand/anaconda3/envs/crai/lib/python3.10/site-packages/zmq/sugar/socket.py\", line 701, in send\n",
      "    return super().send(data, flags=flags, copy=copy, track=track)\n",
      "  File \"_zmq.py\", line 1073, in zmq.backend.cython._zmq.Socket.send\n",
      "  File \"_zmq.py\", line 1115, in zmq.backend.cython._zmq.Socket.send\n",
      "  File \"_zmq.py\", line 1190, in zmq.backend.cython._zmq._check_closed\n",
      "zmq.error.ZMQError: Socket operation on non-socket\n",
      "Call stack:\n",
      "  File \"/Users/ferdinand/anaconda3/envs/crai/lib/python3.10/threading.py\", line 973, in _bootstrap\n",
      "    self._bootstrap_inner()\n",
      "  File \"/Users/ferdinand/anaconda3/envs/crai/lib/python3.10/threading.py\", line 1016, in _bootstrap_inner\n",
      "    self.run()\n",
      "  File \"/Users/ferdinand/anaconda3/envs/crai/lib/python3.10/site-packages/ipykernel/ipkernel.py\", line 766, in run_closure\n",
      "    _threading_Thread_run(self)\n",
      "  File \"/Users/ferdinand/anaconda3/envs/crai/lib/python3.10/threading.py\", line 953, in run\n",
      "    self._target(*self._args, **self._kwargs)\n",
      "  File \"/Users/ferdinand/anaconda3/envs/crai/lib/python3.10/concurrent/futures/thread.py\", line 83, in _worker\n",
      "    work_item.run()\n",
      "  File \"/Users/ferdinand/anaconda3/envs/crai/lib/python3.10/concurrent/futures/thread.py\", line 58, in run\n",
      "    result = self.fn(*self.args, **self.kwargs)\n",
      "  File \"/Users/ferdinand/Desktop/MasterThesis/digital-twin-for-weather-station/era5/era5_download_hook_copy.py\", line 39, in download_month_parallel\n",
      "    self._download({\n",
      "  File \"/Users/ferdinand/Desktop/MasterThesis/digital-twin-for-weather-station/era5/era5_download_hook_copy.py\", line 69, in _download\n",
      "    response = self.cds.retrieve(\n",
      "  File \"/Users/ferdinand/anaconda3/envs/crai/lib/python3.10/site-packages/cads_api_client/legacy_api_client.py\", line 160, in retrieve\n",
      "    submitted = self.logging_decorator(self.client.submit_and_wait_on_result)(\n",
      "  File \"/Users/ferdinand/anaconda3/envs/crai/lib/python3.10/site-packages/cads_api_client/legacy_api_client.py\", line 143, in wrapper\n",
      "    return func(*args, **kwargs)\n",
      "  File \"/Users/ferdinand/anaconda3/envs/crai/lib/python3.10/site-packages/cads_api_client/api_client.py\", line 132, in submit_and_wait_on_result\n",
      "    return self.retrieve_api.submit_and_wait_on_result(collection_id, **request)\n",
      "  File \"/Users/ferdinand/anaconda3/envs/crai/lib/python3.10/site-packages/cads_api_client/processing.py\", line 555, in submit_and_wait_on_result\n",
      "    remote = self.submit(collection_id, **request)\n",
      "  File \"/Users/ferdinand/anaconda3/envs/crai/lib/python3.10/site-packages/cads_api_client/processing.py\", line 551, in submit\n",
      "    status_info = self.process_execute(collection_id, request)\n",
      "  File \"/Users/ferdinand/anaconda3/envs/crai/lib/python3.10/site-packages/cads_api_client/processing.py\", line 532, in process_execute\n",
      "    return StatusInfo.from_request(\n",
      "  File \"/Users/ferdinand/anaconda3/envs/crai/lib/python3.10/site-packages/cads_api_client/processing.py\", line 145, in from_request\n",
      "    self.log_messages()\n",
      "  File \"/Users/ferdinand/anaconda3/envs/crai/lib/python3.10/site-packages/cads_api_client/processing.py\", line 168, in log_messages\n",
      "    logger.log(level if isinstance(level, int) else 20, content)\n",
      "Message: '[2024-10-10T00:00:00] The final validated ERA5 differs from ERA5T from July 2024 until further notice - please refer to our\\n[Forum announcement](https://forum.ecmwf.int/t/final-validated-era5-product-to-differ-from-era5t-in-july-2024/6685)\\nfor details and watch it for further updates on this.'\n",
      "Arguments: ()\n",
      "2024-11-12 11:57:42,834 INFO Request ID is 91477b7d-b907-41bf-ad8a-24a8696bcfb2\n",
      "--- Logging error ---\n",
      "Traceback (most recent call last):\n",
      "  File \"/Users/ferdinand/anaconda3/envs/crai/lib/python3.10/logging/__init__.py\", line 1104, in emit\n",
      "    self.flush()\n",
      "  File \"/Users/ferdinand/anaconda3/envs/crai/lib/python3.10/logging/__init__.py\", line 1084, in flush\n",
      "    self.stream.flush()\n",
      "  File \"/Users/ferdinand/anaconda3/envs/crai/lib/python3.10/site-packages/ipykernel/iostream.py\", line 604, in flush\n",
      "    self.pub_thread.schedule(self._flush)\n",
      "  File \"/Users/ferdinand/anaconda3/envs/crai/lib/python3.10/site-packages/ipykernel/iostream.py\", line 267, in schedule\n",
      "    self._event_pipe.send(b\"\")\n",
      "  File \"/Users/ferdinand/anaconda3/envs/crai/lib/python3.10/site-packages/zmq/sugar/socket.py\", line 701, in send\n",
      "    return super().send(data, flags=flags, copy=copy, track=track)\n",
      "  File \"_zmq.py\", line 1073, in zmq.backend.cython._zmq.Socket.send\n",
      "  File \"_zmq.py\", line 1115, in zmq.backend.cython._zmq.Socket.send\n",
      "  File \"_zmq.py\", line 1190, in zmq.backend.cython._zmq._check_closed\n",
      "zmq.error.ZMQError: Socket operation on non-socket\n",
      "Call stack:\n",
      "  File \"/Users/ferdinand/anaconda3/envs/crai/lib/python3.10/threading.py\", line 973, in _bootstrap\n",
      "    self._bootstrap_inner()\n",
      "  File \"/Users/ferdinand/anaconda3/envs/crai/lib/python3.10/threading.py\", line 1016, in _bootstrap_inner\n",
      "    self.run()\n",
      "  File \"/Users/ferdinand/anaconda3/envs/crai/lib/python3.10/site-packages/ipykernel/ipkernel.py\", line 766, in run_closure\n",
      "    _threading_Thread_run(self)\n",
      "  File \"/Users/ferdinand/anaconda3/envs/crai/lib/python3.10/threading.py\", line 953, in run\n",
      "    self._target(*self._args, **self._kwargs)\n",
      "  File \"/Users/ferdinand/anaconda3/envs/crai/lib/python3.10/concurrent/futures/thread.py\", line 83, in _worker\n",
      "    work_item.run()\n",
      "  File \"/Users/ferdinand/anaconda3/envs/crai/lib/python3.10/concurrent/futures/thread.py\", line 58, in run\n",
      "    result = self.fn(*self.args, **self.kwargs)\n",
      "  File \"/Users/ferdinand/Desktop/MasterThesis/digital-twin-for-weather-station/era5/era5_download_hook_copy.py\", line 39, in download_month_parallel\n",
      "    self._download({\n",
      "  File \"/Users/ferdinand/Desktop/MasterThesis/digital-twin-for-weather-station/era5/era5_download_hook_copy.py\", line 69, in _download\n",
      "    response = self.cds.retrieve(\n",
      "  File \"/Users/ferdinand/anaconda3/envs/crai/lib/python3.10/site-packages/cads_api_client/legacy_api_client.py\", line 160, in retrieve\n",
      "    submitted = self.logging_decorator(self.client.submit_and_wait_on_result)(\n",
      "  File \"/Users/ferdinand/anaconda3/envs/crai/lib/python3.10/site-packages/cads_api_client/legacy_api_client.py\", line 143, in wrapper\n",
      "    return func(*args, **kwargs)\n",
      "  File \"/Users/ferdinand/anaconda3/envs/crai/lib/python3.10/site-packages/cads_api_client/api_client.py\", line 132, in submit_and_wait_on_result\n",
      "    return self.retrieve_api.submit_and_wait_on_result(collection_id, **request)\n",
      "  File \"/Users/ferdinand/anaconda3/envs/crai/lib/python3.10/site-packages/cads_api_client/processing.py\", line 555, in submit_and_wait_on_result\n",
      "    remote = self.submit(collection_id, **request)\n",
      "  File \"/Users/ferdinand/anaconda3/envs/crai/lib/python3.10/site-packages/cads_api_client/processing.py\", line 552, in submit\n",
      "    return status_info.make_remote()\n",
      "  File \"/Users/ferdinand/anaconda3/envs/crai/lib/python3.10/site-packages/cads_api_client/processing.py\", line 403, in make_remote\n",
      "    return Remote(url, **self.request_kwargs)\n",
      "  File \"<attrs generated init cads_api_client.processing.Remote>\", line 10, in __init__\n",
      "    self.__attrs_post_init__()\n",
      "  File \"/Users/ferdinand/anaconda3/envs/crai/lib/python3.10/site-packages/cads_api_client/processing.py\", line 242, in __attrs_post_init__\n",
      "    self.info(f\"Request ID is {self.request_uid}\")\n",
      "  File \"/Users/ferdinand/anaconda3/envs/crai/lib/python3.10/site-packages/cads_api_client/processing.py\", line 377, in info\n",
      "    logger.info(*args, **kwargs)\n",
      "Message: 'Request ID is 91477b7d-b907-41bf-ad8a-24a8696bcfb2'\n",
      "Arguments: ()\n",
      "2024-11-12 11:57:42,984 INFO status has been updated to accepted\n",
      "--- Logging error ---\n",
      "Traceback (most recent call last):\n",
      "  File \"/Users/ferdinand/anaconda3/envs/crai/lib/python3.10/logging/__init__.py\", line 1104, in emit\n",
      "    self.flush()\n",
      "  File \"/Users/ferdinand/anaconda3/envs/crai/lib/python3.10/logging/__init__.py\", line 1084, in flush\n",
      "    self.stream.flush()\n",
      "  File \"/Users/ferdinand/anaconda3/envs/crai/lib/python3.10/site-packages/ipykernel/iostream.py\", line 604, in flush\n",
      "    self.pub_thread.schedule(self._flush)\n",
      "  File \"/Users/ferdinand/anaconda3/envs/crai/lib/python3.10/site-packages/ipykernel/iostream.py\", line 267, in schedule\n",
      "    self._event_pipe.send(b\"\")\n",
      "  File \"/Users/ferdinand/anaconda3/envs/crai/lib/python3.10/site-packages/zmq/sugar/socket.py\", line 701, in send\n",
      "    return super().send(data, flags=flags, copy=copy, track=track)\n",
      "  File \"_zmq.py\", line 1073, in zmq.backend.cython._zmq.Socket.send\n",
      "  File \"_zmq.py\", line 1115, in zmq.backend.cython._zmq.Socket.send\n",
      "  File \"_zmq.py\", line 1190, in zmq.backend.cython._zmq._check_closed\n",
      "zmq.error.ZMQError: Socket operation on non-socket\n",
      "Call stack:\n",
      "  File \"/Users/ferdinand/anaconda3/envs/crai/lib/python3.10/threading.py\", line 973, in _bootstrap\n",
      "    self._bootstrap_inner()\n",
      "  File \"/Users/ferdinand/anaconda3/envs/crai/lib/python3.10/threading.py\", line 1016, in _bootstrap_inner\n",
      "    self.run()\n",
      "  File \"/Users/ferdinand/anaconda3/envs/crai/lib/python3.10/site-packages/ipykernel/ipkernel.py\", line 766, in run_closure\n",
      "    _threading_Thread_run(self)\n",
      "  File \"/Users/ferdinand/anaconda3/envs/crai/lib/python3.10/threading.py\", line 953, in run\n",
      "    self._target(*self._args, **self._kwargs)\n",
      "  File \"/Users/ferdinand/anaconda3/envs/crai/lib/python3.10/concurrent/futures/thread.py\", line 83, in _worker\n",
      "    work_item.run()\n",
      "  File \"/Users/ferdinand/anaconda3/envs/crai/lib/python3.10/concurrent/futures/thread.py\", line 58, in run\n",
      "    result = self.fn(*self.args, **self.kwargs)\n",
      "  File \"/Users/ferdinand/Desktop/MasterThesis/digital-twin-for-weather-station/era5/era5_download_hook_copy.py\", line 39, in download_month_parallel\n",
      "    self._download({\n",
      "  File \"/Users/ferdinand/Desktop/MasterThesis/digital-twin-for-weather-station/era5/era5_download_hook_copy.py\", line 69, in _download\n",
      "    response = self.cds.retrieve(\n",
      "  File \"/Users/ferdinand/anaconda3/envs/crai/lib/python3.10/site-packages/cads_api_client/legacy_api_client.py\", line 160, in retrieve\n",
      "    submitted = self.logging_decorator(self.client.submit_and_wait_on_result)(\n",
      "  File \"/Users/ferdinand/anaconda3/envs/crai/lib/python3.10/site-packages/cads_api_client/legacy_api_client.py\", line 143, in wrapper\n",
      "    return func(*args, **kwargs)\n",
      "  File \"/Users/ferdinand/anaconda3/envs/crai/lib/python3.10/site-packages/cads_api_client/api_client.py\", line 132, in submit_and_wait_on_result\n",
      "    return self.retrieve_api.submit_and_wait_on_result(collection_id, **request)\n",
      "  File \"/Users/ferdinand/anaconda3/envs/crai/lib/python3.10/site-packages/cads_api_client/processing.py\", line 556, in submit_and_wait_on_result\n",
      "    remote.wait_on_result()\n",
      "  File \"/Users/ferdinand/anaconda3/envs/crai/lib/python3.10/site-packages/cads_api_client/processing.py\", line 290, in wait_on_result\n",
      "    self.info(f\"status has been updated to {status}\")\n",
      "  File \"/Users/ferdinand/anaconda3/envs/crai/lib/python3.10/site-packages/cads_api_client/processing.py\", line 377, in info\n",
      "    logger.info(*args, **kwargs)\n",
      "Message: 'status has been updated to accepted'\n",
      "Arguments: ()\n",
      "2024-11-12 11:57:49,835 WARNING [2024-10-10T00:00:00] The final validated ERA5 differs from ERA5T from July 2024 until further notice - please refer to our\n",
      "[Forum announcement](https://forum.ecmwf.int/t/final-validated-era5-product-to-differ-from-era5t-in-july-2024/6685)\n",
      "for details and watch it for further updates on this.\n",
      "2024-11-12 11:57:49,853 INFO Request ID is 94f2f2f2-a652-4b4d-8cb7-e8632fcc0ed1\n",
      "2024-11-12 11:57:49,926 INFO status has been updated to accepted\n"
     ]
    },
    {
     "name": "stdout",
     "output_type": "stream",
     "text": [
      "Downloading 2018-06Downloading 2018-07\n",
      "Downloading 2018-08\n"
     ]
    }
   ],
   "source": [
    "era5_hook_vienna = Era5DownloadHook(lat=39.9496, lon=-105.196)\n",
    "\n",
    "start_year = 2017\n",
    "end_year = 2023\n",
    "target_folder = \"era5_data/nerwhook_marshall\"\n",
    "\n",
    "# Download data for a station months\n",
    "era5_hook_vienna.download_period_parallel(start_year, end_year, target_folder)"
   ]
  },
  {
   "cell_type": "code",
   "execution_count": 20,
   "metadata": {},
   "outputs": [
    {
     "name": "stdout",
     "output_type": "stream",
     "text": [
      "Using URL: https://cds-beta.climate.copernicus.eu/api\n",
      "Downloading 2018-08\n"
     ]
    },
    {
     "name": "stderr",
     "output_type": "stream",
     "text": [
      "2024-11-14 11:25:28,270 WARNING [2024-10-10T00:00:00] The final validated ERA5 differs from ERA5T from July 2024 until further notice - please refer to our\n",
      "[Forum announcement](https://forum.ecmwf.int/t/final-validated-era5-product-to-differ-from-era5t-in-july-2024/6685)\n",
      "for details and watch it for further updates on this.\n",
      "2024-11-14 11:25:28,271 INFO Request ID is befda2ad-2f0b-4f2e-8b68-1437b2780fe4\n",
      "2024-11-14 11:25:28,333 INFO status has been updated to accepted\n",
      "2024-11-14 11:25:50,270 INFO status has been updated to running\n",
      "2024-11-14 11:29:57,195 INFO status has been updated to successful\n",
      "                                                                                           \r"
     ]
    }
   ],
   "source": [
    "era5_hook_vienna = Era5DownloadHook(lat=48.2303, lon=16.3609)\n",
    "\n",
    "month = 8\n",
    "year = 2018\n",
    "target_folder = \"era5_data/er5_newhook\"\n",
    "\n",
    "# Download data for a station months\n",
    "era5_hook_vienna.download_month(year, month, target_folder)"
   ]
  },
  {
   "cell_type": "code",
   "execution_count": 16,
   "metadata": {},
   "outputs": [
    {
     "name": "stdout",
     "output_type": "stream",
     "text": [
      "Using URL: https://cds-beta.climate.copernicus.eu/api\n"
     ]
    },
    {
     "ename": "TypeError",
     "evalue": "can only concatenate list (not \"int\") to list",
     "output_type": "error",
     "traceback": [
      "\u001b[0;31m---------------------------------------------------------------------------\u001b[0m",
      "\u001b[0;31mTypeError\u001b[0m                                 Traceback (most recent call last)",
      "\u001b[1;32m/Users/ferdinand/Desktop/MasterThesis/digital-twin-for-weather-station/new_era5_download.ipynb Cell 5\u001b[0m line \u001b[0;36m8\n\u001b[1;32m      <a href='vscode-notebook-cell:/Users/ferdinand/Desktop/MasterThesis/digital-twin-for-weather-station/new_era5_download.ipynb#W4sZmlsZQ%3D%3D?line=4'>5</a>\u001b[0m target_folder \u001b[39m=\u001b[39m \u001b[39m\"\u001b[39m\u001b[39mera5_data/er5_newhook\u001b[39m\u001b[39m\"\u001b[39m\n\u001b[1;32m      <a href='vscode-notebook-cell:/Users/ferdinand/Desktop/MasterThesis/digital-twin-for-weather-station/new_era5_download.ipynb#W4sZmlsZQ%3D%3D?line=6'>7</a>\u001b[0m \u001b[39m# Download data for a station months\u001b[39;00m\n\u001b[0;32m----> <a href='vscode-notebook-cell:/Users/ferdinand/Desktop/MasterThesis/digital-twin-for-weather-station/new_era5_download.ipynb#W4sZmlsZQ%3D%3D?line=7'>8</a>\u001b[0m era5_hook_vienna\u001b[39m.\u001b[39;49mdownload_period(year, month, target_folder)\n",
      "File \u001b[0;32m~/Desktop/MasterThesis/digital-twin-for-weather-station/era5/era5_download_hook_copy.py:55\u001b[0m, in \u001b[0;36mEra5DownloadHook.download_period\u001b[0;34m(self, start_year, end_year, target_folder)\u001b[0m\n\u001b[1;32m     54\u001b[0m \u001b[39mdef\u001b[39;00m \u001b[39mdownload_period\u001b[39m(\u001b[39mself\u001b[39m, start_year, end_year, target_folder):\n\u001b[0;32m---> 55\u001b[0m         \u001b[39mfor\u001b[39;00m year \u001b[39min\u001b[39;00m \u001b[39mrange\u001b[39m(start_year, end_year \u001b[39m+\u001b[39;49m \u001b[39m1\u001b[39;49m):\n\u001b[1;32m     56\u001b[0m             \u001b[39mfor\u001b[39;00m month \u001b[39min\u001b[39;00m \u001b[39mrange\u001b[39m(\u001b[39m1\u001b[39m, \u001b[39m13\u001b[39m):\n\u001b[1;32m     57\u001b[0m                 \u001b[39mself\u001b[39m\u001b[39m.\u001b[39mdownload_month(year, month, target_folder)\n",
      "\u001b[0;31mTypeError\u001b[0m: can only concatenate list (not \"int\") to list"
     ]
    }
   ],
   "source": [
    "era5_hook_vienna = Era5DownloadHook(lat=48.2303, lon=16.3609)\n",
    "\n",
    "month = [ 5, 6, 7, 8, 9, 10, 11, 12]\n",
    "year = 2018\n",
    "target_folder = \"era5_data/er5_newhook\"\n",
    "\n",
    "# Download data for a station months\n",
    "era5_hook_vienna.download_period(year, month, target_folder)"
   ]
  },
  {
   "cell_type": "code",
   "execution_count": 9,
   "metadata": {},
   "outputs": [
    {
     "data": {
      "text/html": [
       "<div><svg style=\"position: absolute; width: 0; height: 0; overflow: hidden\">\n",
       "<defs>\n",
       "<symbol id=\"icon-database\" viewBox=\"0 0 32 32\">\n",
       "<path d=\"M16 0c-8.837 0-16 2.239-16 5v4c0 2.761 7.163 5 16 5s16-2.239 16-5v-4c0-2.761-7.163-5-16-5z\"></path>\n",
       "<path d=\"M16 17c-8.837 0-16-2.239-16-5v6c0 2.761 7.163 5 16 5s16-2.239 16-5v-6c0 2.761-7.163 5-16 5z\"></path>\n",
       "<path d=\"M16 26c-8.837 0-16-2.239-16-5v6c0 2.761 7.163 5 16 5s16-2.239 16-5v-6c0 2.761-7.163 5-16 5z\"></path>\n",
       "</symbol>\n",
       "<symbol id=\"icon-file-text2\" viewBox=\"0 0 32 32\">\n",
       "<path d=\"M28.681 7.159c-0.694-0.947-1.662-2.053-2.724-3.116s-2.169-2.030-3.116-2.724c-1.612-1.182-2.393-1.319-2.841-1.319h-15.5c-1.378 0-2.5 1.121-2.5 2.5v27c0 1.378 1.122 2.5 2.5 2.5h23c1.378 0 2.5-1.122 2.5-2.5v-19.5c0-0.448-0.137-1.23-1.319-2.841zM24.543 5.457c0.959 0.959 1.712 1.825 2.268 2.543h-4.811v-4.811c0.718 0.556 1.584 1.309 2.543 2.268zM28 29.5c0 0.271-0.229 0.5-0.5 0.5h-23c-0.271 0-0.5-0.229-0.5-0.5v-27c0-0.271 0.229-0.5 0.5-0.5 0 0 15.499-0 15.5 0v7c0 0.552 0.448 1 1 1h7v19.5z\"></path>\n",
       "<path d=\"M23 26h-14c-0.552 0-1-0.448-1-1s0.448-1 1-1h14c0.552 0 1 0.448 1 1s-0.448 1-1 1z\"></path>\n",
       "<path d=\"M23 22h-14c-0.552 0-1-0.448-1-1s0.448-1 1-1h14c0.552 0 1 0.448 1 1s-0.448 1-1 1z\"></path>\n",
       "<path d=\"M23 18h-14c-0.552 0-1-0.448-1-1s0.448-1 1-1h14c0.552 0 1 0.448 1 1s-0.448 1-1 1z\"></path>\n",
       "</symbol>\n",
       "</defs>\n",
       "</svg>\n",
       "<style>/* CSS stylesheet for displaying xarray objects in jupyterlab.\n",
       " *\n",
       " */\n",
       "\n",
       ":root {\n",
       "  --xr-font-color0: var(--jp-content-font-color0, rgba(0, 0, 0, 1));\n",
       "  --xr-font-color2: var(--jp-content-font-color2, rgba(0, 0, 0, 0.54));\n",
       "  --xr-font-color3: var(--jp-content-font-color3, rgba(0, 0, 0, 0.38));\n",
       "  --xr-border-color: var(--jp-border-color2, #e0e0e0);\n",
       "  --xr-disabled-color: var(--jp-layout-color3, #bdbdbd);\n",
       "  --xr-background-color: var(--jp-layout-color0, white);\n",
       "  --xr-background-color-row-even: var(--jp-layout-color1, white);\n",
       "  --xr-background-color-row-odd: var(--jp-layout-color2, #eeeeee);\n",
       "}\n",
       "\n",
       "html[theme=dark],\n",
       "body[data-theme=dark],\n",
       "body.vscode-dark {\n",
       "  --xr-font-color0: rgba(255, 255, 255, 1);\n",
       "  --xr-font-color2: rgba(255, 255, 255, 0.54);\n",
       "  --xr-font-color3: rgba(255, 255, 255, 0.38);\n",
       "  --xr-border-color: #1F1F1F;\n",
       "  --xr-disabled-color: #515151;\n",
       "  --xr-background-color: #111111;\n",
       "  --xr-background-color-row-even: #111111;\n",
       "  --xr-background-color-row-odd: #313131;\n",
       "}\n",
       "\n",
       ".xr-wrap {\n",
       "  display: block !important;\n",
       "  min-width: 300px;\n",
       "  max-width: 700px;\n",
       "}\n",
       "\n",
       ".xr-text-repr-fallback {\n",
       "  /* fallback to plain text repr when CSS is not injected (untrusted notebook) */\n",
       "  display: none;\n",
       "}\n",
       "\n",
       ".xr-header {\n",
       "  padding-top: 6px;\n",
       "  padding-bottom: 6px;\n",
       "  margin-bottom: 4px;\n",
       "  border-bottom: solid 1px var(--xr-border-color);\n",
       "}\n",
       "\n",
       ".xr-header > div,\n",
       ".xr-header > ul {\n",
       "  display: inline;\n",
       "  margin-top: 0;\n",
       "  margin-bottom: 0;\n",
       "}\n",
       "\n",
       ".xr-obj-type,\n",
       ".xr-array-name {\n",
       "  margin-left: 2px;\n",
       "  margin-right: 10px;\n",
       "}\n",
       "\n",
       ".xr-obj-type {\n",
       "  color: var(--xr-font-color2);\n",
       "}\n",
       "\n",
       ".xr-sections {\n",
       "  padding-left: 0 !important;\n",
       "  display: grid;\n",
       "  grid-template-columns: 150px auto auto 1fr 20px 20px;\n",
       "}\n",
       "\n",
       ".xr-section-item {\n",
       "  display: contents;\n",
       "}\n",
       "\n",
       ".xr-section-item input {\n",
       "  display: none;\n",
       "}\n",
       "\n",
       ".xr-section-item input + label {\n",
       "  color: var(--xr-disabled-color);\n",
       "}\n",
       "\n",
       ".xr-section-item input:enabled + label {\n",
       "  cursor: pointer;\n",
       "  color: var(--xr-font-color2);\n",
       "}\n",
       "\n",
       ".xr-section-item input:enabled + label:hover {\n",
       "  color: var(--xr-font-color0);\n",
       "}\n",
       "\n",
       ".xr-section-summary {\n",
       "  grid-column: 1;\n",
       "  color: var(--xr-font-color2);\n",
       "  font-weight: 500;\n",
       "}\n",
       "\n",
       ".xr-section-summary > span {\n",
       "  display: inline-block;\n",
       "  padding-left: 0.5em;\n",
       "}\n",
       "\n",
       ".xr-section-summary-in:disabled + label {\n",
       "  color: var(--xr-font-color2);\n",
       "}\n",
       "\n",
       ".xr-section-summary-in + label:before {\n",
       "  display: inline-block;\n",
       "  content: '►';\n",
       "  font-size: 11px;\n",
       "  width: 15px;\n",
       "  text-align: center;\n",
       "}\n",
       "\n",
       ".xr-section-summary-in:disabled + label:before {\n",
       "  color: var(--xr-disabled-color);\n",
       "}\n",
       "\n",
       ".xr-section-summary-in:checked + label:before {\n",
       "  content: '▼';\n",
       "}\n",
       "\n",
       ".xr-section-summary-in:checked + label > span {\n",
       "  display: none;\n",
       "}\n",
       "\n",
       ".xr-section-summary,\n",
       ".xr-section-inline-details {\n",
       "  padding-top: 4px;\n",
       "  padding-bottom: 4px;\n",
       "}\n",
       "\n",
       ".xr-section-inline-details {\n",
       "  grid-column: 2 / -1;\n",
       "}\n",
       "\n",
       ".xr-section-details {\n",
       "  display: none;\n",
       "  grid-column: 1 / -1;\n",
       "  margin-bottom: 5px;\n",
       "}\n",
       "\n",
       ".xr-section-summary-in:checked ~ .xr-section-details {\n",
       "  display: contents;\n",
       "}\n",
       "\n",
       ".xr-array-wrap {\n",
       "  grid-column: 1 / -1;\n",
       "  display: grid;\n",
       "  grid-template-columns: 20px auto;\n",
       "}\n",
       "\n",
       ".xr-array-wrap > label {\n",
       "  grid-column: 1;\n",
       "  vertical-align: top;\n",
       "}\n",
       "\n",
       ".xr-preview {\n",
       "  color: var(--xr-font-color3);\n",
       "}\n",
       "\n",
       ".xr-array-preview,\n",
       ".xr-array-data {\n",
       "  padding: 0 5px !important;\n",
       "  grid-column: 2;\n",
       "}\n",
       "\n",
       ".xr-array-data,\n",
       ".xr-array-in:checked ~ .xr-array-preview {\n",
       "  display: none;\n",
       "}\n",
       "\n",
       ".xr-array-in:checked ~ .xr-array-data,\n",
       ".xr-array-preview {\n",
       "  display: inline-block;\n",
       "}\n",
       "\n",
       ".xr-dim-list {\n",
       "  display: inline-block !important;\n",
       "  list-style: none;\n",
       "  padding: 0 !important;\n",
       "  margin: 0;\n",
       "}\n",
       "\n",
       ".xr-dim-list li {\n",
       "  display: inline-block;\n",
       "  padding: 0;\n",
       "  margin: 0;\n",
       "}\n",
       "\n",
       ".xr-dim-list:before {\n",
       "  content: '(';\n",
       "}\n",
       "\n",
       ".xr-dim-list:after {\n",
       "  content: ')';\n",
       "}\n",
       "\n",
       ".xr-dim-list li:not(:last-child):after {\n",
       "  content: ',';\n",
       "  padding-right: 5px;\n",
       "}\n",
       "\n",
       ".xr-has-index {\n",
       "  font-weight: bold;\n",
       "}\n",
       "\n",
       ".xr-var-list,\n",
       ".xr-var-item {\n",
       "  display: contents;\n",
       "}\n",
       "\n",
       ".xr-var-item > div,\n",
       ".xr-var-item label,\n",
       ".xr-var-item > .xr-var-name span {\n",
       "  background-color: var(--xr-background-color-row-even);\n",
       "  margin-bottom: 0;\n",
       "}\n",
       "\n",
       ".xr-var-item > .xr-var-name:hover span {\n",
       "  padding-right: 5px;\n",
       "}\n",
       "\n",
       ".xr-var-list > li:nth-child(odd) > div,\n",
       ".xr-var-list > li:nth-child(odd) > label,\n",
       ".xr-var-list > li:nth-child(odd) > .xr-var-name span {\n",
       "  background-color: var(--xr-background-color-row-odd);\n",
       "}\n",
       "\n",
       ".xr-var-name {\n",
       "  grid-column: 1;\n",
       "}\n",
       "\n",
       ".xr-var-dims {\n",
       "  grid-column: 2;\n",
       "}\n",
       "\n",
       ".xr-var-dtype {\n",
       "  grid-column: 3;\n",
       "  text-align: right;\n",
       "  color: var(--xr-font-color2);\n",
       "}\n",
       "\n",
       ".xr-var-preview {\n",
       "  grid-column: 4;\n",
       "}\n",
       "\n",
       ".xr-index-preview {\n",
       "  grid-column: 2 / 5;\n",
       "  color: var(--xr-font-color2);\n",
       "}\n",
       "\n",
       ".xr-var-name,\n",
       ".xr-var-dims,\n",
       ".xr-var-dtype,\n",
       ".xr-preview,\n",
       ".xr-attrs dt {\n",
       "  white-space: nowrap;\n",
       "  overflow: hidden;\n",
       "  text-overflow: ellipsis;\n",
       "  padding-right: 10px;\n",
       "}\n",
       "\n",
       ".xr-var-name:hover,\n",
       ".xr-var-dims:hover,\n",
       ".xr-var-dtype:hover,\n",
       ".xr-attrs dt:hover {\n",
       "  overflow: visible;\n",
       "  width: auto;\n",
       "  z-index: 1;\n",
       "}\n",
       "\n",
       ".xr-var-attrs,\n",
       ".xr-var-data,\n",
       ".xr-index-data {\n",
       "  display: none;\n",
       "  background-color: var(--xr-background-color) !important;\n",
       "  padding-bottom: 5px !important;\n",
       "}\n",
       "\n",
       ".xr-var-attrs-in:checked ~ .xr-var-attrs,\n",
       ".xr-var-data-in:checked ~ .xr-var-data,\n",
       ".xr-index-data-in:checked ~ .xr-index-data {\n",
       "  display: block;\n",
       "}\n",
       "\n",
       ".xr-var-data > table {\n",
       "  float: right;\n",
       "}\n",
       "\n",
       ".xr-var-name span,\n",
       ".xr-var-data,\n",
       ".xr-index-name div,\n",
       ".xr-index-data,\n",
       ".xr-attrs {\n",
       "  padding-left: 25px !important;\n",
       "}\n",
       "\n",
       ".xr-attrs,\n",
       ".xr-var-attrs,\n",
       ".xr-var-data,\n",
       ".xr-index-data {\n",
       "  grid-column: 1 / -1;\n",
       "}\n",
       "\n",
       "dl.xr-attrs {\n",
       "  padding: 0;\n",
       "  margin: 0;\n",
       "  display: grid;\n",
       "  grid-template-columns: 125px auto;\n",
       "}\n",
       "\n",
       ".xr-attrs dt,\n",
       ".xr-attrs dd {\n",
       "  padding: 0;\n",
       "  margin: 0;\n",
       "  float: left;\n",
       "  padding-right: 10px;\n",
       "  width: auto;\n",
       "}\n",
       "\n",
       ".xr-attrs dt {\n",
       "  font-weight: normal;\n",
       "  grid-column: 1;\n",
       "}\n",
       "\n",
       ".xr-attrs dt:hover span {\n",
       "  display: inline-block;\n",
       "  background: var(--xr-background-color);\n",
       "  padding-right: 10px;\n",
       "}\n",
       "\n",
       ".xr-attrs dd {\n",
       "  grid-column: 2;\n",
       "  white-space: pre-wrap;\n",
       "  word-break: break-all;\n",
       "}\n",
       "\n",
       ".xr-icon-database,\n",
       ".xr-icon-file-text2,\n",
       ".xr-no-icon {\n",
       "  display: inline-block;\n",
       "  vertical-align: middle;\n",
       "  width: 1em;\n",
       "  height: 1.5em !important;\n",
       "  stroke-width: 0;\n",
       "  stroke: currentColor;\n",
       "  fill: currentColor;\n",
       "}\n",
       "</style><pre class='xr-text-repr-fallback'>&lt;xarray.Dataset&gt; Size: 1MB\n",
       "Dimensions:  (time: 720, lon: 9, lat: 9)\n",
       "Coordinates:\n",
       "  * time     (time) datetime64[ns] 6kB 2020-06-01 ... 2020-06-30T23:00:00\n",
       "  * lon      (lon) float64 72B 253.8 254.1 254.3 254.6 ... 255.3 255.6 255.8\n",
       "  * lat      (lat) float64 72B 40.95 40.7 40.45 40.2 39.95 39.7 39.45 39.2 38.95\n",
       "Data variables:\n",
       "    t2m      (time, lat, lon) float32 233kB ...\n",
       "    tp       (time, lat, lon) float32 233kB ...\n",
       "    u10      (time, lat, lon) float32 233kB ...\n",
       "    v10      (time, lat, lon) float32 233kB ...\n",
       "    sp       (time, lat, lon) float32 233kB ...\n",
       "Attributes:\n",
       "    CDI:          Climate Data Interface version 2.4.2 (https://mpimet.mpg.de...\n",
       "    Conventions:  CF-1.6\n",
       "    institution:  European Centre for Medium-Range Weather Forecasts\n",
       "    history:      Fri Nov 01 16:03:46 2024: cdo mergetime /var/folders/lj/q1n...\n",
       "    CDO:          Climate Data Operators version 2.4.2 (https://mpimet.mpg.de...</pre><div class='xr-wrap' style='display:none'><div class='xr-header'><div class='xr-obj-type'>xarray.Dataset</div></div><ul class='xr-sections'><li class='xr-section-item'><input id='section-adbfabf2-7d53-4038-8dbf-1b0e14cf38bb' class='xr-section-summary-in' type='checkbox' disabled ><label for='section-adbfabf2-7d53-4038-8dbf-1b0e14cf38bb' class='xr-section-summary'  title='Expand/collapse section'>Dimensions:</label><div class='xr-section-inline-details'><ul class='xr-dim-list'><li><span class='xr-has-index'>time</span>: 720</li><li><span class='xr-has-index'>lon</span>: 9</li><li><span class='xr-has-index'>lat</span>: 9</li></ul></div><div class='xr-section-details'></div></li><li class='xr-section-item'><input id='section-2b3b7ca5-4af7-4cc4-af94-626481d22755' class='xr-section-summary-in' type='checkbox'  checked><label for='section-2b3b7ca5-4af7-4cc4-af94-626481d22755' class='xr-section-summary' >Coordinates: <span>(3)</span></label><div class='xr-section-inline-details'></div><div class='xr-section-details'><ul class='xr-var-list'><li class='xr-var-item'><div class='xr-var-name'><span class='xr-has-index'>time</span></div><div class='xr-var-dims'>(time)</div><div class='xr-var-dtype'>datetime64[ns]</div><div class='xr-var-preview xr-preview'>2020-06-01 ... 2020-06-30T23:00:00</div><input id='attrs-5f5eb1cc-db72-4096-8544-6ab0f4ab4c3f' class='xr-var-attrs-in' type='checkbox' ><label for='attrs-5f5eb1cc-db72-4096-8544-6ab0f4ab4c3f' title='Show/Hide attributes'><svg class='icon xr-icon-file-text2'><use xlink:href='#icon-file-text2'></use></svg></label><input id='data-a70aa26a-cca1-43b7-8232-b696e972754f' class='xr-var-data-in' type='checkbox'><label for='data-a70aa26a-cca1-43b7-8232-b696e972754f' title='Show/Hide data repr'><svg class='icon xr-icon-database'><use xlink:href='#icon-database'></use></svg></label><div class='xr-var-attrs'><dl class='xr-attrs'><dt><span>standard_name :</span></dt><dd>time</dd><dt><span>axis :</span></dt><dd>T</dd></dl></div><div class='xr-var-data'><pre>array([&#x27;2020-06-01T00:00:00.000000000&#x27;, &#x27;2020-06-01T01:00:00.000000000&#x27;,\n",
       "       &#x27;2020-06-01T02:00:00.000000000&#x27;, ..., &#x27;2020-06-30T21:00:00.000000000&#x27;,\n",
       "       &#x27;2020-06-30T22:00:00.000000000&#x27;, &#x27;2020-06-30T23:00:00.000000000&#x27;],\n",
       "      dtype=&#x27;datetime64[ns]&#x27;)</pre></div></li><li class='xr-var-item'><div class='xr-var-name'><span class='xr-has-index'>lon</span></div><div class='xr-var-dims'>(lon)</div><div class='xr-var-dtype'>float64</div><div class='xr-var-preview xr-preview'>253.8 254.1 254.3 ... 255.6 255.8</div><input id='attrs-f7953606-17ff-467a-ab10-26c64fa54154' class='xr-var-attrs-in' type='checkbox' ><label for='attrs-f7953606-17ff-467a-ab10-26c64fa54154' title='Show/Hide attributes'><svg class='icon xr-icon-file-text2'><use xlink:href='#icon-file-text2'></use></svg></label><input id='data-e0a3251d-abdf-4a99-8b0c-22902f1fc05e' class='xr-var-data-in' type='checkbox'><label for='data-e0a3251d-abdf-4a99-8b0c-22902f1fc05e' title='Show/Hide data repr'><svg class='icon xr-icon-database'><use xlink:href='#icon-database'></use></svg></label><div class='xr-var-attrs'><dl class='xr-attrs'><dt><span>standard_name :</span></dt><dd>longitude</dd><dt><span>long_name :</span></dt><dd>longitude</dd><dt><span>units :</span></dt><dd>degrees_east</dd><dt><span>axis :</span></dt><dd>X</dd></dl></div><div class='xr-var-data'><pre>array([253.804, 254.054, 254.304, 254.554, 254.804, 255.054, 255.304, 255.554,\n",
       "       255.804])</pre></div></li><li class='xr-var-item'><div class='xr-var-name'><span class='xr-has-index'>lat</span></div><div class='xr-var-dims'>(lat)</div><div class='xr-var-dtype'>float64</div><div class='xr-var-preview xr-preview'>40.95 40.7 40.45 ... 39.2 38.95</div><input id='attrs-4b39f165-729d-4ab6-a1af-32e02246b8e7' class='xr-var-attrs-in' type='checkbox' ><label for='attrs-4b39f165-729d-4ab6-a1af-32e02246b8e7' title='Show/Hide attributes'><svg class='icon xr-icon-file-text2'><use xlink:href='#icon-file-text2'></use></svg></label><input id='data-c1b0bf0b-2aab-4f83-a2b1-d85f1e8fc9d4' class='xr-var-data-in' type='checkbox'><label for='data-c1b0bf0b-2aab-4f83-a2b1-d85f1e8fc9d4' title='Show/Hide data repr'><svg class='icon xr-icon-database'><use xlink:href='#icon-database'></use></svg></label><div class='xr-var-attrs'><dl class='xr-attrs'><dt><span>standard_name :</span></dt><dd>latitude</dd><dt><span>long_name :</span></dt><dd>latitude</dd><dt><span>units :</span></dt><dd>degrees_north</dd><dt><span>axis :</span></dt><dd>Y</dd></dl></div><div class='xr-var-data'><pre>array([40.95    , 40.699875, 40.44975 , 40.199625, 39.9495  , 39.699375,\n",
       "       39.44925 , 39.199125, 38.949   ])</pre></div></li></ul></div></li><li class='xr-section-item'><input id='section-41de7217-0b2a-4450-911d-a61c0658863e' class='xr-section-summary-in' type='checkbox'  checked><label for='section-41de7217-0b2a-4450-911d-a61c0658863e' class='xr-section-summary' >Data variables: <span>(5)</span></label><div class='xr-section-inline-details'></div><div class='xr-section-details'><ul class='xr-var-list'><li class='xr-var-item'><div class='xr-var-name'><span>t2m</span></div><div class='xr-var-dims'>(time, lat, lon)</div><div class='xr-var-dtype'>float32</div><div class='xr-var-preview xr-preview'>...</div><input id='attrs-692bdb6d-714c-4949-9dac-44dce9f092d4' class='xr-var-attrs-in' type='checkbox' ><label for='attrs-692bdb6d-714c-4949-9dac-44dce9f092d4' title='Show/Hide attributes'><svg class='icon xr-icon-file-text2'><use xlink:href='#icon-file-text2'></use></svg></label><input id='data-a8247a44-1a56-4a7d-bacb-ae695f1f52fa' class='xr-var-data-in' type='checkbox'><label for='data-a8247a44-1a56-4a7d-bacb-ae695f1f52fa' title='Show/Hide data repr'><svg class='icon xr-icon-database'><use xlink:href='#icon-database'></use></svg></label><div class='xr-var-attrs'><dl class='xr-attrs'><dt><span>table :</span></dt><dd>128</dd></dl></div><div class='xr-var-data'><pre>[58320 values with dtype=float32]</pre></div></li><li class='xr-var-item'><div class='xr-var-name'><span>tp</span></div><div class='xr-var-dims'>(time, lat, lon)</div><div class='xr-var-dtype'>float32</div><div class='xr-var-preview xr-preview'>...</div><input id='attrs-3be268fe-da87-4ce1-ac98-779e16dc9614' class='xr-var-attrs-in' type='checkbox' ><label for='attrs-3be268fe-da87-4ce1-ac98-779e16dc9614' title='Show/Hide attributes'><svg class='icon xr-icon-file-text2'><use xlink:href='#icon-file-text2'></use></svg></label><input id='data-b933a816-ec99-4f1f-a86f-2f4ea9ed94b1' class='xr-var-data-in' type='checkbox'><label for='data-b933a816-ec99-4f1f-a86f-2f4ea9ed94b1' title='Show/Hide data repr'><svg class='icon xr-icon-database'><use xlink:href='#icon-database'></use></svg></label><div class='xr-var-attrs'><dl class='xr-attrs'><dt><span>table :</span></dt><dd>128</dd></dl></div><div class='xr-var-data'><pre>[58320 values with dtype=float32]</pre></div></li><li class='xr-var-item'><div class='xr-var-name'><span>u10</span></div><div class='xr-var-dims'>(time, lat, lon)</div><div class='xr-var-dtype'>float32</div><div class='xr-var-preview xr-preview'>...</div><input id='attrs-0707ae76-32d9-4b0a-b3c0-1aeeef1cab38' class='xr-var-attrs-in' type='checkbox' ><label for='attrs-0707ae76-32d9-4b0a-b3c0-1aeeef1cab38' title='Show/Hide attributes'><svg class='icon xr-icon-file-text2'><use xlink:href='#icon-file-text2'></use></svg></label><input id='data-516405a2-dd87-4702-a69f-ccc74fe4e8af' class='xr-var-data-in' type='checkbox'><label for='data-516405a2-dd87-4702-a69f-ccc74fe4e8af' title='Show/Hide data repr'><svg class='icon xr-icon-database'><use xlink:href='#icon-database'></use></svg></label><div class='xr-var-attrs'><dl class='xr-attrs'><dt><span>table :</span></dt><dd>128</dd></dl></div><div class='xr-var-data'><pre>[58320 values with dtype=float32]</pre></div></li><li class='xr-var-item'><div class='xr-var-name'><span>v10</span></div><div class='xr-var-dims'>(time, lat, lon)</div><div class='xr-var-dtype'>float32</div><div class='xr-var-preview xr-preview'>...</div><input id='attrs-fbefeafd-50a9-49e5-8392-c871eec62c14' class='xr-var-attrs-in' type='checkbox' ><label for='attrs-fbefeafd-50a9-49e5-8392-c871eec62c14' title='Show/Hide attributes'><svg class='icon xr-icon-file-text2'><use xlink:href='#icon-file-text2'></use></svg></label><input id='data-51e2c0fc-618c-4296-b436-7fcfb7c80803' class='xr-var-data-in' type='checkbox'><label for='data-51e2c0fc-618c-4296-b436-7fcfb7c80803' title='Show/Hide data repr'><svg class='icon xr-icon-database'><use xlink:href='#icon-database'></use></svg></label><div class='xr-var-attrs'><dl class='xr-attrs'><dt><span>table :</span></dt><dd>128</dd></dl></div><div class='xr-var-data'><pre>[58320 values with dtype=float32]</pre></div></li><li class='xr-var-item'><div class='xr-var-name'><span>sp</span></div><div class='xr-var-dims'>(time, lat, lon)</div><div class='xr-var-dtype'>float32</div><div class='xr-var-preview xr-preview'>...</div><input id='attrs-373ab5c3-318b-4789-8657-81640df665ff' class='xr-var-attrs-in' type='checkbox' ><label for='attrs-373ab5c3-318b-4789-8657-81640df665ff' title='Show/Hide attributes'><svg class='icon xr-icon-file-text2'><use xlink:href='#icon-file-text2'></use></svg></label><input id='data-aa41540a-5383-43d9-b4d7-9c0db96d11fb' class='xr-var-data-in' type='checkbox'><label for='data-aa41540a-5383-43d9-b4d7-9c0db96d11fb' title='Show/Hide data repr'><svg class='icon xr-icon-database'><use xlink:href='#icon-database'></use></svg></label><div class='xr-var-attrs'><dl class='xr-attrs'><dt><span>table :</span></dt><dd>128</dd></dl></div><div class='xr-var-data'><pre>[58320 values with dtype=float32]</pre></div></li></ul></div></li><li class='xr-section-item'><input id='section-e96e57bc-aea8-4212-8008-9078173e8dad' class='xr-section-summary-in' type='checkbox'  ><label for='section-e96e57bc-aea8-4212-8008-9078173e8dad' class='xr-section-summary' >Indexes: <span>(3)</span></label><div class='xr-section-inline-details'></div><div class='xr-section-details'><ul class='xr-var-list'><li class='xr-var-item'><div class='xr-index-name'><div>time</div></div><div class='xr-index-preview'>PandasIndex</div><div></div><input id='index-59e16169-a327-47aa-a434-4bba69c2dcfe' class='xr-index-data-in' type='checkbox'/><label for='index-59e16169-a327-47aa-a434-4bba69c2dcfe' title='Show/Hide index repr'><svg class='icon xr-icon-database'><use xlink:href='#icon-database'></use></svg></label><div class='xr-index-data'><pre>PandasIndex(DatetimeIndex([&#x27;2020-06-01 00:00:00&#x27;, &#x27;2020-06-01 01:00:00&#x27;,\n",
       "               &#x27;2020-06-01 02:00:00&#x27;, &#x27;2020-06-01 03:00:00&#x27;,\n",
       "               &#x27;2020-06-01 04:00:00&#x27;, &#x27;2020-06-01 05:00:00&#x27;,\n",
       "               &#x27;2020-06-01 06:00:00&#x27;, &#x27;2020-06-01 07:00:00&#x27;,\n",
       "               &#x27;2020-06-01 08:00:00&#x27;, &#x27;2020-06-01 09:00:00&#x27;,\n",
       "               ...\n",
       "               &#x27;2020-06-30 14:00:00&#x27;, &#x27;2020-06-30 15:00:00&#x27;,\n",
       "               &#x27;2020-06-30 16:00:00&#x27;, &#x27;2020-06-30 17:00:00&#x27;,\n",
       "               &#x27;2020-06-30 18:00:00&#x27;, &#x27;2020-06-30 19:00:00&#x27;,\n",
       "               &#x27;2020-06-30 20:00:00&#x27;, &#x27;2020-06-30 21:00:00&#x27;,\n",
       "               &#x27;2020-06-30 22:00:00&#x27;, &#x27;2020-06-30 23:00:00&#x27;],\n",
       "              dtype=&#x27;datetime64[ns]&#x27;, name=&#x27;time&#x27;, length=720, freq=None))</pre></div></li><li class='xr-var-item'><div class='xr-index-name'><div>lon</div></div><div class='xr-index-preview'>PandasIndex</div><div></div><input id='index-be925fc1-479f-4b2d-9cc8-840ef35fe946' class='xr-index-data-in' type='checkbox'/><label for='index-be925fc1-479f-4b2d-9cc8-840ef35fe946' title='Show/Hide index repr'><svg class='icon xr-icon-database'><use xlink:href='#icon-database'></use></svg></label><div class='xr-index-data'><pre>PandasIndex(Index([253.804, 254.054, 254.304, 254.554, 254.804, 255.054, 255.304, 255.554,\n",
       "       255.804],\n",
       "      dtype=&#x27;float64&#x27;, name=&#x27;lon&#x27;))</pre></div></li><li class='xr-var-item'><div class='xr-index-name'><div>lat</div></div><div class='xr-index-preview'>PandasIndex</div><div></div><input id='index-8fb91fbb-04ad-45d4-a1be-760da561d09e' class='xr-index-data-in' type='checkbox'/><label for='index-8fb91fbb-04ad-45d4-a1be-760da561d09e' title='Show/Hide index repr'><svg class='icon xr-icon-database'><use xlink:href='#icon-database'></use></svg></label><div class='xr-index-data'><pre>PandasIndex(Index([             40.95, 40.699875000000006,           40.44975,\n",
       "       40.199625000000005,            39.9495,          39.699375,\n",
       "       39.449250000000006,          39.199125, 38.949000000000005],\n",
       "      dtype=&#x27;float64&#x27;, name=&#x27;lat&#x27;))</pre></div></li></ul></div></li><li class='xr-section-item'><input id='section-54edd366-9ffc-4757-8414-de31bd14762c' class='xr-section-summary-in' type='checkbox'  checked><label for='section-54edd366-9ffc-4757-8414-de31bd14762c' class='xr-section-summary' >Attributes: <span>(5)</span></label><div class='xr-section-inline-details'></div><div class='xr-section-details'><dl class='xr-attrs'><dt><span>CDI :</span></dt><dd>Climate Data Interface version 2.4.2 (https://mpimet.mpg.de/cdi)</dd><dt><span>Conventions :</span></dt><dd>CF-1.6</dd><dt><span>institution :</span></dt><dd>European Centre for Medium-Range Weather Forecasts</dd><dt><span>history :</span></dt><dd>Fri Nov 01 16:03:46 2024: cdo mergetime /var/folders/lj/q1ndb2493275c2y0vzyplnk00000gn/T/tmpkd_7r1a0/2020_6_renamed.nc ERA5hook_marshall/era5.nc\n",
       "Fri Nov 01 16:03:45 2024: cdo -f nc4 copy ERA5hook_marshall/2020_6.grib /var/folders/lj/q1ndb2493275c2y0vzyplnk00000gn/T/tmpkd_7r1a0/2020_6.nc</dd><dt><span>CDO :</span></dt><dd>Climate Data Operators version 2.4.2 (https://mpimet.mpg.de/cdo)</dd></dl></div></li></ul></div></div>"
      ],
      "text/plain": [
       "<xarray.Dataset> Size: 1MB\n",
       "Dimensions:  (time: 720, lon: 9, lat: 9)\n",
       "Coordinates:\n",
       "  * time     (time) datetime64[ns] 6kB 2020-06-01 ... 2020-06-30T23:00:00\n",
       "  * lon      (lon) float64 72B 253.8 254.1 254.3 254.6 ... 255.3 255.6 255.8\n",
       "  * lat      (lat) float64 72B 40.95 40.7 40.45 40.2 39.95 39.7 39.45 39.2 38.95\n",
       "Data variables:\n",
       "    t2m      (time, lat, lon) float32 233kB ...\n",
       "    tp       (time, lat, lon) float32 233kB ...\n",
       "    u10      (time, lat, lon) float32 233kB ...\n",
       "    v10      (time, lat, lon) float32 233kB ...\n",
       "    sp       (time, lat, lon) float32 233kB ...\n",
       "Attributes:\n",
       "    CDI:          Climate Data Interface version 2.4.2 (https://mpimet.mpg.de...\n",
       "    Conventions:  CF-1.6\n",
       "    institution:  European Centre for Medium-Range Weather Forecasts\n",
       "    history:      Fri Nov 01 16:03:46 2024: cdo mergetime /var/folders/lj/q1n...\n",
       "    CDO:          Climate Data Operators version 2.4.2 (https://mpimet.mpg.de..."
      ]
     },
     "execution_count": 9,
     "metadata": {},
     "output_type": "execute_result"
    }
   ],
   "source": [
    "import xarray as xr\n",
    "ds =  xr.open_dataset(\"ERA5hook_marshall/era5.nc\")\n",
    "ds"
   ]
  },
  {
   "cell_type": "code",
   "execution_count": 10,
   "metadata": {},
   "outputs": [
    {
     "data": {
      "image/png": "[encoded data removed]",
      "text/plain": [
       "<Figure size 1400x400 with 1 Axes>"
      ]
     },
     "metadata": {},
     "output_type": "display_data"
    }
   ],
   "source": [
    "import matplotlib.pyplot as plt\n",
    "import xarray as xr\n",
    "\n",
    "def plot_time_steps(data: xr.DataArray, title=\"Available Time Steps\"):\n",
    "    \"\"\"\n",
    "    Visualize the time steps in an xarray DataArray.\n",
    "\n",
    "    Parameters:\n",
    "    data (xr.DataArray): The DataArray containing time steps to visualize.\n",
    "    title (str): Title for the plot.\n",
    "    \"\"\"\n",
    "    # Extract the time values\n",
    "    time_steps = data.time.values\n",
    "\n",
    "    # Plot the time steps\n",
    "    plt.figure(figsize=(14, 4))\n",
    "    plt.plot(time_steps, [1] * len(time_steps), 'o', markersize=5, label=\"Time Steps\", color=\"blue\")\n",
    "    \n",
    "    # Set labels and title\n",
    "    plt.yticks([])  # Hide y-axis labels, as we just need time steps\n",
    "    plt.xlabel(\"Time\")\n",
    "    plt.title(title)\n",
    "    plt.grid(True, which='both', linestyle='--', linewidth=0.5)\n",
    "    plt.legend()\n",
    "\n",
    "    plt.xticks(rotation=45)  # Rotate x-axis labels for readability\n",
    "    plt.tight_layout()\n",
    "    plt.show()\n",
    "\n",
    "# Usage example:\n",
    "plot_time_steps(ds)\n"
   ]
  },
  {
   "cell_type": "code",
   "execution_count": null,
   "metadata": {},
   "outputs": [],
   "source": []
  }
 ],
 "metadata": {
  "kernelspec": {
   "display_name": "crai",
   "language": "python",
   "name": "python3"
  },
  "language_info": {
   "codemirror_mode": {
    "name": "ipython",
    "version": 3
   },
   "file_extension": ".py",
   "mimetype": "text/x-python",
   "name": "python",
   "nbconvert_exporter": "python",
   "pygments_lexer": "ipython3",
   "version": "3.10.14"
  }
 },
 "nbformat": 4,
 "nbformat_minor": 2
}
