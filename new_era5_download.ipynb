{
 "cells": [
  {
   "cell_type": "code",
   "execution_count": 2,
   "metadata": {},
   "outputs": [],
   "source": [
    "from era5.era5_download_hook_copy import Era5DownloadHook\n"
   ]
  },
  {
   "cell_type": "code",
   "execution_count": 3,
   "metadata": {},
   "outputs": [
    {
     "name": "stdout",
     "output_type": "stream",
     "text": [
      "Using URL: https://cds-beta.climate.copernicus.eu/api\n",
      "Downloading 2021-01\n",
      "Downloading 2021-02\n",
      "Downloading 2021-03\n",
      "Downloading 2021-04\n",
      "Downloading 2021-05\n",
      "Downloading 2021-06\n"
     ]
    },
    {
     "name": "stderr",
     "output_type": "stream",
     "text": [
      "2024-11-10 16:58:30,652 WARNING [2024-10-10T00:00:00] The final validated ERA5 differs from ERA5T from July 2024 until further notice - please refer to our\n",
      "[Forum announcement](https://forum.ecmwf.int/t/final-validated-era5-product-to-differ-from-era5t-in-july-2024/6685)\n",
      "for details and watch it for further updates on this.\n",
      "2024-11-10 16:58:30,655 INFO Request ID is 7810e1fd-3291-4d9f-9b28-4687063e12b5\n",
      "2024-11-10 16:58:30,679 WARNING [2024-10-10T00:00:00] The final validated ERA5 differs from ERA5T from July 2024 until further notice - please refer to our\n",
      "[Forum announcement](https://forum.ecmwf.int/t/final-validated-era5-product-to-differ-from-era5t-in-july-2024/6685)\n",
      "for details and watch it for further updates on this.\n",
      "2024-11-10 16:58:30,679 INFO Request ID is 5d96b5f4-eb5f-4409-82c9-ace44f125ce1\n",
      "2024-11-10 16:58:30,722 WARNING [2024-10-10T00:00:00] The final validated ERA5 differs from ERA5T from July 2024 until further notice - please refer to our\n",
      "[Forum announcement](https://forum.ecmwf.int/t/final-validated-era5-product-to-differ-from-era5t-in-july-2024/6685)\n",
      "for details and watch it for further updates on this.\n",
      "2024-11-10 16:58:30,723 INFO Request ID is 42482cc7-a529-4dce-b2dd-80459427eede\n",
      "2024-11-10 16:58:30,733 INFO status has been updated to accepted\n",
      "2024-11-10 16:58:30,734 INFO status has been updated to accepted\n",
      "2024-11-10 16:58:30,765 WARNING [2024-10-10T00:00:00] The final validated ERA5 differs from ERA5T from July 2024 until further notice - please refer to our\n",
      "[Forum announcement](https://forum.ecmwf.int/t/final-validated-era5-product-to-differ-from-era5t-in-july-2024/6685)\n",
      "for details and watch it for further updates on this.\n",
      "2024-11-10 16:58:30,765 WARNING [2024-10-10T00:00:00] The final validated ERA5 differs from ERA5T from July 2024 until further notice - please refer to our\n",
      "[Forum announcement](https://forum.ecmwf.int/t/final-validated-era5-product-to-differ-from-era5t-in-july-2024/6685)\n",
      "for details and watch it for further updates on this.\n",
      "2024-11-10 16:58:30,765 INFO Request ID is e7399b4f-ff49-4eb3-8629-815149cae09d\n",
      "2024-11-10 16:58:30,766 INFO Request ID is a3c610d3-4c19-4ce8-bd67-de82e2b678b0\n",
      "2024-11-10 16:58:30,772 INFO status has been updated to accepted\n",
      "2024-11-10 16:58:30,783 WARNING [2024-10-10T00:00:00] The final validated ERA5 differs from ERA5T from July 2024 until further notice - please refer to our\n",
      "[Forum announcement](https://forum.ecmwf.int/t/final-validated-era5-product-to-differ-from-era5t-in-july-2024/6685)\n",
      "for details and watch it for further updates on this.\n",
      "2024-11-10 16:58:30,785 INFO Request ID is 65f93601-b280-4fc8-9330-415e27de52f5\n",
      "2024-11-10 16:58:30,808 INFO status has been updated to accepted\n",
      "2024-11-10 16:58:30,832 INFO status has been updated to accepted\n",
      "2024-11-10 16:58:30,845 INFO status has been updated to accepted\n",
      "2024-11-10 16:58:34,605 INFO status has been updated to running\n",
      "2024-11-10 17:02:48,249 INFO status has been updated to running\n",
      "2024-11-10 17:02:48,423 INFO status has been updated to successful\n",
      "                                                                                           \r"
     ]
    },
    {
     "name": "stdout",
     "output_type": "stream",
     "text": [
      "Downloading 2021-07\n"
     ]
    },
    {
     "name": "stderr",
     "output_type": "stream",
     "text": [
      "2024-11-10 17:02:49,613 WARNING [2024-10-10T00:00:00] The final validated ERA5 differs from ERA5T from July 2024 until further notice - please refer to our\n",
      "[Forum announcement](https://forum.ecmwf.int/t/final-validated-era5-product-to-differ-from-era5t-in-july-2024/6685)\n",
      "for details and watch it for further updates on this.\n",
      "2024-11-10 17:02:49,614 INFO Request ID is 4d76b95d-29f0-4c16-b7ae-9522575e5b1f\n",
      "2024-11-10 17:02:49,668 INFO status has been updated to accepted\n",
      "2024-11-10 17:06:48,513 INFO status has been updated to successful\n",
      "2024-11-10 17:06:48,534 INFO status has been updated to running\n",
      "                                                                                           \r"
     ]
    },
    {
     "name": "stdout",
     "output_type": "stream",
     "text": [
      "Downloading 2021-08\n"
     ]
    },
    {
     "name": "stderr",
     "output_type": "stream",
     "text": [
      "2024-11-10 17:06:50,137 WARNING [2024-10-10T00:00:00] The final validated ERA5 differs from ERA5T from July 2024 until further notice - please refer to our\n",
      "[Forum announcement](https://forum.ecmwf.int/t/final-validated-era5-product-to-differ-from-era5t-in-july-2024/6685)\n",
      "for details and watch it for further updates on this.\n",
      "2024-11-10 17:06:50,138 INFO Request ID is 491acd6e-9e07-4d5b-aad4-26cb4d53ce6b\n",
      "2024-11-10 17:06:50,180 INFO status has been updated to accepted\n",
      "2024-11-10 17:08:48,579 INFO status has been updated to running\n",
      "2024-11-10 17:08:48,672 INFO status has been updated to successful\n",
      "                                                                                           \r"
     ]
    },
    {
     "name": "stdout",
     "output_type": "stream",
     "text": [
      "Downloading 2021-09\n"
     ]
    },
    {
     "name": "stderr",
     "output_type": "stream",
     "text": [
      "2024-11-10 17:08:49,934 WARNING [2024-10-10T00:00:00] The final validated ERA5 differs from ERA5T from July 2024 until further notice - please refer to our\n",
      "[Forum announcement](https://forum.ecmwf.int/t/final-validated-era5-product-to-differ-from-era5t-in-july-2024/6685)\n",
      "for details and watch it for further updates on this.\n",
      "2024-11-10 17:08:49,934 INFO Request ID is 48695fee-d594-401f-9891-d81cd1c664f8\n",
      "2024-11-10 17:08:49,979 INFO status has been updated to accepted\n",
      "2024-11-10 17:12:48,770 INFO status has been updated to running\n",
      "2024-11-10 17:12:48,773 INFO status has been updated to successful\n",
      "                                                                                           \r"
     ]
    },
    {
     "name": "stdout",
     "output_type": "stream",
     "text": [
      "Downloading 2021-10\n"
     ]
    },
    {
     "name": "stderr",
     "output_type": "stream",
     "text": [
      "2024-11-10 17:12:50,507 WARNING [2024-10-10T00:00:00] The final validated ERA5 differs from ERA5T from July 2024 until further notice - please refer to our\n",
      "[Forum announcement](https://forum.ecmwf.int/t/final-validated-era5-product-to-differ-from-era5t-in-july-2024/6685)\n",
      "for details and watch it for further updates on this.\n",
      "2024-11-10 17:12:50,508 INFO Request ID is da9f8ad3-961e-4f8f-a22b-0cfb80751f3e\n",
      "2024-11-10 17:12:50,568 INFO status has been updated to accepted\n",
      "2024-11-10 17:16:49,003 INFO status has been updated to successful\n",
      "2024-11-10 17:16:49,154 INFO status has been updated to running\n",
      "                                                                                           \r"
     ]
    },
    {
     "name": "stdout",
     "output_type": "stream",
     "text": [
      "Downloading 2021-11\n"
     ]
    },
    {
     "name": "stderr",
     "output_type": "stream",
     "text": [
      "2024-11-10 17:16:50,746 WARNING [2024-10-10T00:00:00] The final validated ERA5 differs from ERA5T from July 2024 until further notice - please refer to our\n",
      "[Forum announcement](https://forum.ecmwf.int/t/final-validated-era5-product-to-differ-from-era5t-in-july-2024/6685)\n",
      "for details and watch it for further updates on this.\n",
      "2024-11-10 17:16:50,747 INFO Request ID is deb5d1ef-db99-469a-9bf6-b3d14bd33a28\n",
      "2024-11-10 17:16:51,202 INFO status has been updated to accepted\n",
      "2024-11-10 17:22:49,983 INFO status has been updated to successful\n",
      "                                                                                          \r"
     ]
    },
    {
     "name": "stdout",
     "output_type": "stream",
     "text": [
      "Downloading 2021-12\n"
     ]
    },
    {
     "name": "stderr",
     "output_type": "stream",
     "text": [
      "2024-11-10 17:22:51,170 WARNING [2024-10-10T00:00:00] The final validated ERA5 differs from ERA5T from July 2024 until further notice - please refer to our\n",
      "[Forum announcement](https://forum.ecmwf.int/t/final-validated-era5-product-to-differ-from-era5t-in-july-2024/6685)\n",
      "for details and watch it for further updates on this.\n",
      "2024-11-10 17:22:51,171 INFO Request ID is 642af905-07b9-417a-92ce-bf9b7c06076d\n",
      "2024-11-10 17:22:51,228 INFO status has been updated to accepted\n",
      "2024-11-10 17:23:10,998 INFO status has been updated to running\n",
      "2024-11-10 17:27:08,060 INFO status has been updated to running\n",
      "2024-11-10 17:27:11,102 INFO status has been updated to successful\n",
      "2024-11-10 17:33:08,576 INFO status has been updated to successful                         \n",
      "2024-11-10 17:33:08,792 INFO status has been updated to running\n",
      "2024-11-10 17:35:08,978 INFO status has been updated to successful                         \n",
      "2024-11-10 17:35:09,123 INFO status has been updated to running\n",
      "                                                                                           \r"
     ]
    }
   ],
   "source": [
    "era5_hook_vienna = Era5DownloadHook(lat=48.2303, lon=16.3609)\n",
    "\n",
    "start_year = 2021\n",
    "end_year = 2021\n",
    "target_folder = \"era5_data/er5_newhook\"\n",
    "\n",
    "# Download data for a station months\n",
    "era5_hook_vienna.download_period_parallel(start_year, end_year, target_folder)"
   ]
  },
  {
   "cell_type": "code",
   "execution_count": 7,
   "metadata": {},
   "outputs": [
    {
     "name": "stdout",
     "output_type": "stream",
     "text": [
      "Using URL: https://cds-beta.climate.copernicus.eu/api\n",
      "Downloading 2021-12\n"
     ]
    },
    {
     "name": "stderr",
     "output_type": "stream",
     "text": [
      "2024-11-10 17:44:50,296 WARNING [2024-10-10T00:00:00] The final validated ERA5 differs from ERA5T from July 2024 until further notice - please refer to our\n",
      "[Forum announcement](https://forum.ecmwf.int/t/final-validated-era5-product-to-differ-from-era5t-in-july-2024/6685)\n",
      "for details and watch it for further updates on this.\n",
      "2024-11-10 17:44:50,296 INFO Request ID is cc0c9a35-2e85-4a29-ae7e-0a03d3978c31\n",
      "2024-11-10 17:44:50,348 INFO status has been updated to accepted\n",
      "2024-11-10 17:44:54,223 INFO status has been updated to running\n",
      "2024-11-10 17:44:57,671 INFO status has been updated to successful\n",
      "                                                                                           \r"
     ]
    }
   ],
   "source": [
    "era5_hook_vienna = Era5DownloadHook(lat=48.2303, lon=16.3609)\n",
    "\n",
    "month = 12\n",
    "year = 2021\n",
    "target_folder = \"era5_data/er5_newhook\"\n",
    "\n",
    "# Download data for a station months\n",
    "era5_hook_vienna.download_month_parallel(year, month, target_folder)"
   ]
  },
  {
   "cell_type": "code",
   "execution_count": null,
   "metadata": {},
   "outputs": [],
   "source": []
  }
 ],
 "metadata": {
  "kernelspec": {
   "display_name": "crai",
   "language": "python",
   "name": "python3"
  },
  "language_info": {
   "codemirror_mode": {
    "name": "ipython",
    "version": 3
   },
   "file_extension": ".py",
   "mimetype": "text/x-python",
   "name": "python",
   "nbconvert_exporter": "python",
   "pygments_lexer": "ipython3",
   "version": "3.10.14"
  }
 },
 "nbformat": 4,
 "nbformat_minor": 2
}
