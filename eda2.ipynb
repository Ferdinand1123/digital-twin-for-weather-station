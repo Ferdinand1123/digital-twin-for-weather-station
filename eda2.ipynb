{
 "cells": [
  {
   "cell_type": "code",
   "execution_count": 14,
   "metadata": {},
   "outputs": [],
   "source": [
    "import os\n",
    "import numpy as np\n",
    "import pandas as pd\n",
    "import xarray as xr\n",
    "import tempfile\n",
    "import matplotlib.pyplot as plt\n",
    "import cartopy.crs as ccrs\n",
    "from datetime import datetime\n"
   ]
  },
  {
   "cell_type": "code",
   "execution_count": 15,
   "metadata": {},
   "outputs": [],
   "source": [
    "from station.data_submission import DataSubmission\n",
    "from station.station import StationData\n",
    "\n",
    "\n",
    "from station.dat_to_nc_all_var import DatToNcAllVar\n"
   ]
  },
  {
   "cell_type": "code",
   "execution_count": 16,
   "metadata": {},
   "outputs": [],
   "source": [
    "# Initialize the converter\n",
    "converter = DatToNcAllVar(\n",
    "    name=\"Vienna_AllVar\",\n",
    "    directory=\"measurements/Vienna\",\n",
    "    target_directory=\"station_data_as_nc\",\n",
    "    hourly=True,\n",
    "    keep_original=True\n",
    ")\n"
   ]
  },
  {
   "cell_type": "code",
   "execution_count": 17,
   "metadata": {},
   "outputs": [
    {
     "name": "stdout",
     "output_type": "stream",
     "text": [
      "Extracting Vienna_AllVar...\n"
     ]
    },
    {
     "name": "stderr",
     "output_type": "stream",
     "text": [
      "100%|██████████| 3714/3714 [00:38<00:00, 97.19it/s] \n"
     ]
    },
    {
     "name": "stdout",
     "output_type": "stream",
     "text": [
      "Saving to station_data_as_nc/vienna_allvar.nc\n"
     ]
    },
    {
     "name": "stderr",
     "output_type": "stream",
     "text": [
      "/Users/ferdinand/Desktop/MasterThesis/digital-twin-for-weather-station/station/dat_to_nc_all_var.py:309: FutureWarning: errors='ignore' is deprecated and will raise in a future version. Use to_numeric without passing `errors` and catch exceptions explicitly instead\n",
      "  self.dataframe[col] = pd.to_numeric(self.dataframe[col], errors='ignore')\n"
     ]
    }
   ],
   "source": [
    "converter.execute()"
   ]
  },
  {
   "cell_type": "code",
   "execution_count": 11,
   "metadata": {},
   "outputs": [
    {
     "name": "stdout",
     "output_type": "stream",
     "text": [
      "                     bmp180_temp  bmp180_pres  bmp180_slp  bmp180_alt  \\\n",
      "datetime                                                                \n",
      "2017-04-28 00:00:00      -999.99      -999.99     -999.99     -999.99   \n",
      "2017-04-28 00:01:00      -999.99      -999.99     -999.99     -999.99   \n",
      "2017-04-28 00:02:00      -999.99      -999.99     -999.99     -999.99   \n",
      "2017-04-28 00:03:00      -999.99      -999.99     -999.99     -999.99   \n",
      "2017-04-28 00:04:00      -999.99      -999.99     -999.99     -999.99   \n",
      "\n",
      "                     bmp280_temp  bmp280_pres  bmp280_slp  bmp280_alt  \\\n",
      "datetime                                                                \n",
      "2017-04-28 00:00:00         6.48       992.04     1011.47       159.0   \n",
      "2017-04-28 00:01:00         6.41       992.04     1011.47       159.0   \n",
      "2017-04-28 00:02:00         6.40       992.09     1011.52       159.0   \n",
      "2017-04-28 00:03:00         6.42       991.97     1011.40       159.0   \n",
      "2017-04-28 00:04:00         6.36       991.98     1011.41       159.0   \n",
      "\n",
      "                     bme_temp  bme_pres  ...  bme_hum  htu_temp  htu_hum  \\\n",
      "datetime                                 ...                               \n",
      "2017-04-28 00:00:00   -999.99   -999.99  ...  -999.99       6.3     90.9   \n",
      "2017-04-28 00:01:00   -999.99   -999.99  ...  -999.99       6.3     89.8   \n",
      "2017-04-28 00:02:00   -999.99   -999.99  ...  -999.99       6.3     90.2   \n",
      "2017-04-28 00:03:00   -999.99   -999.99  ...  -999.99       6.3     90.7   \n",
      "2017-04-28 00:04:00   -999.99   -999.99  ...  -999.99       6.2     89.3   \n",
      "\n",
      "                     mcp9808  tipping  vis_light  ir_light  uv_light  \\\n",
      "datetime                                                               \n",
      "2017-04-28 00:00:00      5.9      0.0      260.0     254.0       2.0   \n",
      "2017-04-28 00:01:00      5.9      0.0      262.0     253.0       3.0   \n",
      "2017-04-28 00:02:00      5.8      0.0      261.0     252.0       2.0   \n",
      "2017-04-28 00:03:00      5.8      0.0      261.0     252.0       2.0   \n",
      "2017-04-28 00:04:00      5.8      0.0      262.0     252.0       3.0   \n",
      "\n",
      "                     wind_dir  wind_speed  \n",
      "datetime                                   \n",
      "2017-04-28 00:00:00       5.7        0.19  \n",
      "2017-04-28 00:01:00     306.7        0.25  \n",
      "2017-04-28 00:02:00     336.6        0.72  \n",
      "2017-04-28 00:03:00     321.2        0.17  \n",
      "2017-04-28 00:04:00     352.9        0.66  \n",
      "\n",
      "[5 rows x 22 columns]\n",
      "                     bmp180_temp  bmp180_pres  bmp180_slp  bmp180_alt  \\\n",
      "datetime                                                                \n",
      "2017-04-24 07:00:00          NaN          NaN         NaN         NaN   \n",
      "2017-04-24 08:00:00          NaN          NaN         NaN         NaN   \n",
      "2017-04-24 09:00:00          NaN          NaN         NaN         NaN   \n",
      "2017-04-24 10:00:00          NaN          NaN         NaN         NaN   \n",
      "2017-04-24 11:00:00          NaN          NaN         NaN         NaN   \n",
      "\n",
      "                     bmp280_temp  bmp280_pres  bmp280_slp  bmp280_alt  \\\n",
      "datetime                                                                \n",
      "2017-04-24 07:00:00          NaN          NaN         NaN         NaN   \n",
      "2017-04-24 08:00:00          NaN          NaN         NaN         NaN   \n",
      "2017-04-24 09:00:00          NaN          NaN         NaN         NaN   \n",
      "2017-04-24 10:00:00          NaN          NaN         NaN         NaN   \n",
      "2017-04-24 11:00:00          NaN          NaN         NaN         NaN   \n",
      "\n",
      "                     bme_temp  bme_pres  ...  htu_temp  htu_hum  mcp9808  \\\n",
      "datetime                                 ...                               \n",
      "2017-04-24 07:00:00       NaN       NaN  ...       NaN      NaN      NaN   \n",
      "2017-04-24 08:00:00       NaN       NaN  ...       NaN      NaN      NaN   \n",
      "2017-04-24 09:00:00       NaN       NaN  ...       NaN      NaN      NaN   \n",
      "2017-04-24 10:00:00       NaN       NaN  ...       NaN      NaN      NaN   \n",
      "2017-04-24 11:00:00       NaN       NaN  ...       NaN      NaN      NaN   \n",
      "\n",
      "                     tipping  vis_light  ir_light  uv_light   wind_dir  \\\n",
      "datetime                                                                 \n",
      "2017-04-24 07:00:00      0.0        NaN       NaN       NaN  23.349669   \n",
      "2017-04-24 08:00:00      0.0        NaN       NaN       NaN  20.898067   \n",
      "2017-04-24 09:00:00      0.0        NaN       NaN       NaN  19.371252   \n",
      "2017-04-24 10:00:00      0.2        NaN       NaN       NaN  44.898214   \n",
      "2017-04-24 11:00:00      NaN        NaN       NaN       NaN        NaN   \n",
      "\n",
      "                     wind_speed  tas  \n",
      "datetime                              \n",
      "2017-04-24 07:00:00         NaN  NaN  \n",
      "2017-04-24 08:00:00         NaN  NaN  \n",
      "2017-04-24 09:00:00         NaN  NaN  \n",
      "2017-04-24 10:00:00    0.398644  NaN  \n",
      "2017-04-24 11:00:00         NaN  NaN  \n",
      "\n",
      "[5 rows x 23 columns]\n"
     ]
    }
   ],
   "source": []
  },
  {
   "cell_type": "code",
   "execution_count": 12,
   "metadata": {},
   "outputs": [],
   "source": []
  },
  {
   "cell_type": "code",
   "execution_count": 13,
   "metadata": {},
   "outputs": [],
   "source": []
  },
  {
   "cell_type": "code",
   "execution_count": null,
   "metadata": {},
   "outputs": [],
   "source": []
  }
 ],
 "metadata": {
  "kernelspec": {
   "display_name": "crai",
   "language": "python",
   "name": "python3"
  },
  "language_info": {
   "codemirror_mode": {
    "name": "ipython",
    "version": 3
   },
   "file_extension": ".py",
   "mimetype": "text/x-python",
   "name": "python",
   "nbconvert_exporter": "python",
   "pygments_lexer": "ipython3",
   "version": "3.10.14"
  }
 },
 "nbformat": 4,
 "nbformat_minor": 2
}
