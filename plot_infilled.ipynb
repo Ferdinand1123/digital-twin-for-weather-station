{
 "cells": [
  {
   "cell_type": "code",
   "execution_count": 8,
   "metadata": {},
   "outputs": [],
   "source": [
    "from utils.utils import plot_measurements_df\n",
    "import pandas as pd"
   ]
  },
  {
   "cell_type": "code",
   "execution_count": 12,
   "metadata": {},
   "outputs": [
    {
     "data": {
      "text/html": [
       "<div>\n",
       "<style scoped>\n",
       "    .dataframe tbody tr th:only-of-type {\n",
       "        vertical-align: middle;\n",
       "    }\n",
       "\n",
       "    .dataframe tbody tr th {\n",
       "        vertical-align: top;\n",
       "    }\n",
       "\n",
       "    .dataframe thead th {\n",
       "        text-align: right;\n",
       "    }\n",
       "</style>\n",
       "<table border=\"1\" class=\"dataframe\">\n",
       "  <thead>\n",
       "    <tr style=\"text-align: right;\">\n",
       "      <th></th>\n",
       "      <th>datetime int bmp2_temp bmp2_pres bmp2_slp bmp2_alt bme2_hum htu_temp htu_hum sth_temp sth_hum tipping vis_light ir_light uv_light wind_dir wind_speed mcp9808</th>\n",
       "    </tr>\n",
       "  </thead>\n",
       "  <tbody>\n",
       "    <tr>\n",
       "      <th>0</th>\n",
       "      <td>2022-11-09 08:00:00 -999.99 -999.99 -999.99 -9...</td>\n",
       "    </tr>\n",
       "    <tr>\n",
       "      <th>1</th>\n",
       "      <td>2022-11-11 09:00:00 -999.99 24.2 924.1 929.37 ...</td>\n",
       "    </tr>\n",
       "    <tr>\n",
       "      <th>2</th>\n",
       "      <td>2022-11-11 10:00:00 -999.99 -999.99 -999.99 -9...</td>\n",
       "    </tr>\n",
       "    <tr>\n",
       "      <th>3</th>\n",
       "      <td>2022-11-14 08:00:00 -999.99 -999.99 -999.99 -9...</td>\n",
       "    </tr>\n",
       "    <tr>\n",
       "      <th>4</th>\n",
       "      <td>2022-11-14 09:00:00 -999.99 -999.99 -999.99 -9...</td>\n",
       "    </tr>\n",
       "    <tr>\n",
       "      <th>...</th>\n",
       "      <td>...</td>\n",
       "    </tr>\n",
       "    <tr>\n",
       "      <th>10056</th>\n",
       "      <td>2024-01-15 04:00:00 -999.99 9.4 1015.9 1021.69...</td>\n",
       "    </tr>\n",
       "    <tr>\n",
       "      <th>10057</th>\n",
       "      <td>2024-01-15 05:00:00 -999.99 9.8 1016.3 1022.1 ...</td>\n",
       "    </tr>\n",
       "    <tr>\n",
       "      <th>10058</th>\n",
       "      <td>2024-01-15 06:00:00 -999.99 10.2 1017.1 1022.9...</td>\n",
       "    </tr>\n",
       "    <tr>\n",
       "      <th>10059</th>\n",
       "      <td>2024-01-15 07:00:00 -999.99 10.4 1017.9 1023.7...</td>\n",
       "    </tr>\n",
       "    <tr>\n",
       "      <th>10060</th>\n",
       "      <td>2024-01-15 08:00:00 -999.99 10.4 1018.0 1023.8...</td>\n",
       "    </tr>\n",
       "  </tbody>\n",
       "</table>\n",
       "<p>10061 rows × 1 columns</p>\n",
       "</div>"
      ],
      "text/plain": [
       "      datetime int bmp2_temp bmp2_pres bmp2_slp bmp2_alt bme2_hum htu_temp htu_hum sth_temp sth_hum tipping vis_light ir_light uv_light wind_dir wind_speed mcp9808\n",
       "0      2022-11-09 08:00:00 -999.99 -999.99 -999.99 -9...                                                                                                           \n",
       "1      2022-11-11 09:00:00 -999.99 24.2 924.1 929.37 ...                                                                                                           \n",
       "2      2022-11-11 10:00:00 -999.99 -999.99 -999.99 -9...                                                                                                           \n",
       "3      2022-11-14 08:00:00 -999.99 -999.99 -999.99 -9...                                                                                                           \n",
       "4      2022-11-14 09:00:00 -999.99 -999.99 -999.99 -9...                                                                                                           \n",
       "...                                                  ...                                                                                                           \n",
       "10056  2024-01-15 04:00:00 -999.99 9.4 1015.9 1021.69...                                                                                                           \n",
       "10057  2024-01-15 05:00:00 -999.99 9.8 1016.3 1022.1 ...                                                                                                           \n",
       "10058  2024-01-15 06:00:00 -999.99 10.2 1017.1 1022.9...                                                                                                           \n",
       "10059  2024-01-15 07:00:00 -999.99 10.4 1017.9 1023.7...                                                                                                           \n",
       "10060  2024-01-15 08:00:00 -999.99 10.4 1018.0 1023.8...                                                                                                           \n",
       "\n",
       "[10061 rows x 1 columns]"
      ]
     },
     "execution_count": 12,
     "metadata": {},
     "output_type": "execute_result"
    }
   ],
   "source": [
    "df = pd.read_csv('infilled.dat')\n",
    "# rename colum mcp_9808 to tas\n",
    "df = df.rename(columns={'mcp_9808': 'tas'})\n",
    "\n",
    "df"
   ]
  }
 ],
 "metadata": {
  "kernelspec": {
   "display_name": "crai",
   "language": "python",
   "name": "python3"
  },
  "language_info": {
   "codemirror_mode": {
    "name": "ipython",
    "version": 3
   },
   "file_extension": ".py",
   "mimetype": "text/x-python",
   "name": "python",
   "nbconvert_exporter": "python",
   "pygments_lexer": "ipython3",
   "version": "3.10.13"
  }
 },
 "nbformat": 4,
 "nbformat_minor": 2
}
