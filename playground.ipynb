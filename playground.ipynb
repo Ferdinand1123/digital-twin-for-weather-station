{
 "cells": [
  {
   "cell_type": "code",
   "execution_count": 1,
   "metadata": {},
   "outputs": [],
   "source": [
    "import os\n",
    "import numpy as np\n",
    "import xarray as xr\n",
    "import matplotlib.pyplot as plt\n",
    "import cartopy.crs as ccrs\n",
    "from utils.utils import pretty_lat, pretty_lon\n",
    "from tempfile import TemporaryDirectory"
   ]
  },
  {
   "cell_type": "code",
   "execution_count": 2,
   "metadata": {},
   "outputs": [],
   "source": [
    "from station.data_submission import DataSubmission\n",
    "from station.station import StationData\n",
    "\n",
    "from train_station_twin.training_executer import TrainingExecuter\n",
    "from infilling.evaluation_executer import EvaluatuionExecuter\n",
    "from infilling.infilling_writer import InfillingWriter\n",
    "\n",
    "from era5.era5_for_station import DownloadEra5ForStation, DownloadEra5ForStationGaps\n",
    "from era5.era5_download_hook import Era5DownloadHook\n"
   ]
  },
  {
   "cell_type": "code",
   "execution_count": 3,
   "metadata": {
    "ExecuteTime": {
     "end_time": "2024-04-03T12:40:34.826230Z",
     "start_time": "2024-04-03T12:40:34.429455Z"
    }
   },
   "outputs": [],
   "source": [
    "def plot_n_steps_of_area_from_nc_file(path, n=1, vars=\"tas\", title=\"\", vmin=None, vmax=None):\n",
    "\n",
    "    dataset = xr.open_dataset(path)\n",
    "\n",
    "    n = min(n, dataset.time.size)\n",
    "    time_index_list = np.random.choice(dataset.time.size, n, replace=False)\n",
    "\n",
    "    lat_slice = slice(None)\n",
    "    lon_slice = slice(None)\n",
    "    _lon = dataset.lon.values[lon_slice]\n",
    "    _lat = dataset.lat.values[lat_slice]\n",
    "\n",
    "    # if not list make it a list\n",
    "    if not isinstance(vars, list):\n",
    "        vars = [vars]\n",
    "\n",
    "    for time_index in time_index_list:\n",
    "        # set title\n",
    "        title += f\"\\n{dataset.time.values[time_index].astype('datetime64[s]').astype('O')}\"\n",
    "\n",
    "        # subtitle lat lon area\n",
    "        subtitle = f\"\\nLat: {pretty_lat(_lat[0])} to {pretty_lat(_lat[-1])}\" + \\\n",
    "            f\"\\nLon: {pretty_lon(_lon[0])} to {pretty_lon(_lon[-1])}\"\n",
    "\n",
    "        for var in vars:\n",
    "\n",
    "            # plot\n",
    "            fig, ax = plt.subplots(\n",
    "                subplot_kw={'projection': ccrs.PlateCarree()})\n",
    "            # Plot the temperature data with a quadratic colormap\n",
    "            _data = dataset.variables[var].values[time_index, lat_slice, lon_slice]\n",
    "            pcm = ax.pcolormesh(_lon, _lat, _data, cmap='viridis',\n",
    "                                shading='auto', vmin=vmin, vmax=vmax)\n",
    "\n",
    "            # Add coastlines\n",
    "            ax.coastlines()\n",
    "\n",
    "            # Add colorbar\n",
    "            cbar = plt.colorbar(pcm, ax=ax, label='Temperature')\n",
    "\n",
    "            # Set labels and title\n",
    "            ax.set_xlabel('Longitude')\n",
    "            ax.set_ylabel('Latitude')\n",
    "            plt.title(title + (f\"\\n[{var}]\" if len(vars) > 1 else \"\"))\n",
    "\n",
    "            # position title a higher\n",
    "            plt.subplots_adjust(top=1)\n",
    "            \n",
    "            # Add subtitle\n",
    "            plt.figtext(0.125, 0.05, subtitle, wrap=True, horizontalalignment='left', fontsize=12)\n",
    "\n",
    "            # Show the plot\n",
    "            plt.show()"
   ]
  },
  {
   "cell_type": "code",
   "execution_count": 4,
   "metadata": {},
   "outputs": [
    {
     "name": "stdout",
     "output_type": "stream",
     "text": [
      "Extracting Marshall_2017-2023...\n"
     ]
    },
    {
     "name": "stderr",
     "output_type": "stream",
     "text": [
      "  0%|          | 0/2465 [00:00<?, ?it/s]"
     ]
    },
    {
     "name": "stderr",
     "output_type": "stream",
     "text": [
      "100%|██████████| 2465/2465 [02:28<00:00, 16.55it/s]\n"
     ]
    }
   ],
   "source": [
    "marshall_data = DataSubmission(\"Marshall_2017-2023\")\n",
    "marshall_data.measurement_dir_path = \"./measurements/Marshall/\"\n",
    "\n",
    "marshall_station = StationData(\n",
    "    name=marshall_data.name,\n",
    "    folder_path=marshall_data.measurement_dir_path\n",
    ")"
   ]
  },
  {
   "cell_type": "code",
   "execution_count": 5,
   "metadata": {},
   "outputs": [
    {
     "name": "stdout",
     "output_type": "stream",
     "text": [
      "(43635,)\n",
      "Saving to /var/folders/yj/k7pg73d56rl366r8bvlbncgm0000gn/T/tmp9bil852x/train/marshall_2017-2023.nc\n",
      "Downloading [2017, 2018, 2019, 2020, 2021, 2022, 2023]\n"
     ]
    },
    {
     "name": "stderr",
     "output_type": "stream",
     "text": [
      "2024-04-15 21:15:36,689 INFO Welcome to the CDS\n",
      "2024-04-15 21:15:36,690 INFO Sending request to https://cds.climate.copernicus.eu/api/v2/resources/reanalysis-era5-single-levels\n",
      "2024-04-15 21:15:36,821 INFO Request is queued\n",
      "2024-04-15 21:15:37,902 INFO Request is failed\n",
      "2024-04-15 21:15:37,905 ERROR Message: the request you have submitted is not valid\n",
      "2024-04-15 21:15:37,906 ERROR Reason:  Request too large. Requesting 61344 items, limit is 60000\n",
      "2024-04-15 21:15:37,911 ERROR   Traceback (most recent call last):\n",
      "2024-04-15 21:15:37,920 ERROR     File \"/opt/cds/cdsinf/python/lib/cdsinf/runner/dispatcher.py\", line 163, in _consume\n",
      "2024-04-15 21:15:37,926 ERROR       result = handle_locally()\n",
      "2024-04-15 21:15:37,928 ERROR     File \"/opt/cds/cdsinf/python/lib/cdsinf/runner/dispatcher.py\", line 252, in <lambda>\n",
      "2024-04-15 21:15:37,929 ERROR       lambda: self.handle_exception(context, e),\n",
      "2024-04-15 21:15:37,930 ERROR     File \"/opt/cds/cdsinf/python/lib/cdsinf/runner/dispatcher.py\", line 383, in handle_exception\n",
      "2024-04-15 21:15:37,931 ERROR       raise exception\n",
      "2024-04-15 21:15:37,932 ERROR     File \"/opt/cds/cdsinf/python/lib/cdsinf/runner/dispatcher.py\", line 163, in _consume\n",
      "2024-04-15 21:15:37,932 ERROR       result = handle_locally()\n",
      "2024-04-15 21:15:37,933 ERROR     File \"/opt/cds/cdsinf/python/lib/cdsinf/runner/dispatcher.py\", line 252, in <lambda>\n",
      "2024-04-15 21:15:37,934 ERROR       lambda: self.handle_exception(context, e),\n",
      "2024-04-15 21:15:37,934 ERROR     File \"/opt/cds/cdsinf/python/lib/cdsinf/runner/dispatcher.py\", line 365, in handle_exception\n",
      "2024-04-15 21:15:37,936 ERROR       raise exception\n",
      "2024-04-15 21:15:37,937 ERROR     File \"/opt/cds/cdsinf/python/lib/cdsinf/runner/dispatcher.py\", line 163, in _consume\n",
      "2024-04-15 21:15:37,937 ERROR       result = handle_locally()\n",
      "2024-04-15 21:15:37,938 ERROR     File \"/opt/cds/cdsinf/python/lib/cdsinf/runner/dispatcher.py\", line 252, in <lambda>\n",
      "2024-04-15 21:15:37,939 ERROR       lambda: self.handle_exception(context, e),\n",
      "2024-04-15 21:15:37,939 ERROR     File \"/opt/cds/cdsinf/python/lib/cdsinf/runner/dispatcher.py\", line 406, in handle_exception\n",
      "2024-04-15 21:15:37,940 ERROR       raise exception\n",
      "2024-04-15 21:15:37,941 ERROR     File \"/opt/cds/cdsinf/python/lib/cdsinf/runner/dispatcher.py\", line 163, in _consume\n",
      "2024-04-15 21:15:37,942 ERROR       result = handle_locally()\n",
      "2024-04-15 21:15:37,943 ERROR     File \"/opt/cds/cdsinf/python/lib/cdsinf/runner/dispatcher.py\", line 252, in <lambda>\n",
      "2024-04-15 21:15:37,944 ERROR       lambda: self.handle_exception(context, e),\n",
      "2024-04-15 21:15:37,945 ERROR     File \"/opt/cds/cdsinf/python/lib/cdsinf/runner/dispatcher.py\", line 132, in handle_exception\n",
      "2024-04-15 21:15:37,945 ERROR       raise exception\n",
      "2024-04-15 21:15:37,946 ERROR     File \"/opt/cds/cdsinf/python/lib/cdsinf/runner/dispatcher.py\", line 163, in _consume\n",
      "2024-04-15 21:15:37,947 ERROR       result = handle_locally()\n",
      "2024-04-15 21:15:37,947 ERROR     File \"/opt/cds/cdsinf/python/lib/cdsinf/runner/dispatcher.py\", line 252, in <lambda>\n",
      "2024-04-15 21:15:37,948 ERROR       lambda: self.handle_exception(context, e),\n",
      "2024-04-15 21:15:37,949 ERROR     File \"/opt/cds/cdsinf/python/lib/cdsinf/runner/dispatcher.py\", line 132, in handle_exception\n",
      "2024-04-15 21:15:37,949 ERROR       raise exception\n",
      "2024-04-15 21:15:37,950 ERROR     File \"/opt/cds/cdsinf/python/lib/cdsinf/runner/dispatcher.py\", line 163, in _consume\n",
      "2024-04-15 21:15:37,950 ERROR       result = handle_locally()\n",
      "2024-04-15 21:15:37,951 ERROR     File \"/opt/cds/cdsinf/python/lib/cdsinf/runner/dispatcher.py\", line 252, in <lambda>\n",
      "2024-04-15 21:15:37,951 ERROR       lambda: self.handle_exception(context, e),\n",
      "2024-04-15 21:15:37,952 ERROR     File \"/opt/cds/cdsinf/python/lib/cdsinf/runner/dispatcher.py\", line 132, in handle_exception\n",
      "2024-04-15 21:15:37,952 ERROR       raise exception\n",
      "2024-04-15 21:15:37,953 ERROR     File \"/opt/cds/cdsinf/python/lib/cdsinf/runner/dispatcher.py\", line 163, in _consume\n",
      "2024-04-15 21:15:37,953 ERROR       result = handle_locally()\n",
      "2024-04-15 21:15:37,954 ERROR     File \"/opt/cds/cdsinf/python/lib/cdsinf/runner/dispatcher.py\", line 252, in <lambda>\n",
      "2024-04-15 21:15:37,954 ERROR       lambda: self.handle_exception(context, e),\n",
      "2024-04-15 21:15:37,955 ERROR     File \"/opt/cds/cdsinf/python/lib/cdsinf/runner/dispatcher.py\", line 132, in handle_exception\n",
      "2024-04-15 21:15:37,956 ERROR       raise exception\n",
      "2024-04-15 21:15:37,957 ERROR     File \"/opt/cds/cdsinf/python/lib/cdsinf/runner/dispatcher.py\", line 163, in _consume\n",
      "2024-04-15 21:15:37,957 ERROR       result = handle_locally()\n",
      "2024-04-15 21:15:37,958 ERROR     File \"/opt/cds/cdsinf/python/lib/cdsinf/runner/dispatcher.py\", line 252, in <lambda>\n",
      "2024-04-15 21:15:37,958 ERROR       lambda: self.handle_exception(context, e),\n",
      "2024-04-15 21:15:37,959 ERROR     File \"/opt/cds/cdsinf/python/lib/cdsinf/runner/dispatcher.py\", line 132, in handle_exception\n",
      "2024-04-15 21:15:37,959 ERROR       raise exception\n",
      "2024-04-15 21:15:37,960 ERROR     File \"/opt/cds/cdsinf/python/lib/cdsinf/runner/dispatcher.py\", line 163, in _consume\n",
      "2024-04-15 21:15:37,960 ERROR       result = handle_locally()\n",
      "2024-04-15 21:15:37,960 ERROR     File \"/opt/cds/cdsinf/python/lib/cdsinf/runner/dispatcher.py\", line 210, in <lambda>\n",
      "2024-04-15 21:15:37,961 ERROR       lambda: self.handle_request(context, request_data),\n",
      "2024-04-15 21:15:37,961 ERROR     File \"/opt/cds/cdsinf/python/lib/cdsinf/runner/mappingprocessor.py\", line 50, in handle_request\n",
      "2024-04-15 21:15:37,962 ERROR       return self.mapping_engine.run(cdsinf, request_data)\n",
      "2024-04-15 21:15:37,962 ERROR     File \"/opt/cdstoolbox/cdscompute/cdscompute/cdshandlers/services/mapping.py\", line 339, in run\n",
      "2024-04-15 21:15:37,963 ERROR       request['specific'] = apply_mapping(specific, mapping)\n",
      "2024-04-15 21:15:37,963 ERROR     File \"/opt/cdstoolbox/cdscompute/cdscompute/cdshandlers/services/mapping.py\", line 320, in apply_mapping\n",
      "2024-04-15 21:15:37,964 ERROR       raise BadRequestException(\"Request too large. Requesting %s items, limit is %s\" % (count, selection_limit), '')\n",
      "2024-04-15 21:15:37,964 ERROR   cdsinf.exceptions.BadRequestException: Request too large. Requesting 61344 items, limit is 60000\n"
     ]
    },
    {
     "ename": "Exception",
     "evalue": "the request you have submitted is not valid. Request too large. Requesting 61344 items, limit is 60000.",
     "output_type": "error",
     "traceback": [
      "\u001b[0;31m---------------------------------------------------------------------------\u001b[0m",
      "\u001b[0;31mException\u001b[0m                                 Traceback (most recent call last)",
      "\u001b[1;32m/Users/timo.wacke/VsCodeProjects/digital-twin-for-weather-station/playground.ipynb Cell 5\u001b[0m line \u001b[0;36m3\n\u001b[1;32m      <a href='vscode-notebook-cell:/Users/timo.wacke/VsCodeProjects/digital-twin-for-weather-station/playground.ipynb#W5sZmlsZQ%3D%3D?line=0'>1</a>\u001b[0m training \u001b[39m=\u001b[39m TrainingExecuter(station\u001b[39m=\u001b[39mmarshall_station)\n\u001b[0;32m----> <a href='vscode-notebook-cell:/Users/timo.wacke/VsCodeProjects/digital-twin-for-weather-station/playground.ipynb#W5sZmlsZQ%3D%3D?line=2'>3</a>\u001b[0m output_model_path \u001b[39m=\u001b[39m training\u001b[39m.\u001b[39;49mexecute()\n\u001b[1;32m      <a href='vscode-notebook-cell:/Users/timo.wacke/VsCodeProjects/digital-twin-for-weather-station/playground.ipynb#W5sZmlsZQ%3D%3D?line=3'>4</a>\u001b[0m marshall_data\u001b[39m.\u001b[39madd_model(output_model_path)\n",
      "File \u001b[0;32m~/VsCodeProjects/digital-twin-for-weather-station/train_station_twin/training_executer.py:51\u001b[0m, in \u001b[0;36mTrainingExecuter.execute\u001b[0;34m(self)\u001b[0m\n\u001b[1;32m     50\u001b[0m \u001b[39mdef\u001b[39;00m \u001b[39mexecute\u001b[39m(\u001b[39mself\u001b[39m):\n\u001b[0;32m---> 51\u001b[0m     \u001b[39mself\u001b[39;49m\u001b[39m.\u001b[39;49mget_era5_for_station()\n\u001b[1;32m     52\u001b[0m     \u001b[39mself\u001b[39m\u001b[39m.\u001b[39mtransform_station_to_expected_output()\n\u001b[1;32m     53\u001b[0m     \u001b[39mself\u001b[39m\u001b[39m.\u001b[39mcopy_train_folder_as_val_folder()\n",
      "File \u001b[0;32m~/VsCodeProjects/digital-twin-for-weather-station/train_station_twin/training_executer.py:89\u001b[0m, in \u001b[0;36mTrainingExecuter.get_era5_for_station\u001b[0;34m(self)\u001b[0m\n\u001b[1;32m     84\u001b[0m era5_hook \u001b[39m=\u001b[39m Era5DownloadHook(lat\u001b[39m=\u001b[39m\u001b[39mself\u001b[39m\u001b[39m.\u001b[39mstation\u001b[39m.\u001b[39mmetadata\u001b[39m.\u001b[39mget(\u001b[39m\"\u001b[39m\u001b[39mlatitude\u001b[39m\u001b[39m\"\u001b[39m),\n\u001b[1;32m     85\u001b[0m                              lon\u001b[39m=\u001b[39m\u001b[39mself\u001b[39m\u001b[39m.\u001b[39mstation\u001b[39m.\u001b[39mmetadata\u001b[39m.\u001b[39mget(\u001b[39m\"\u001b[39m\u001b[39mlongitude\u001b[39m\u001b[39m\"\u001b[39m))\n\u001b[1;32m     87\u001b[0m temp_grib_dir \u001b[39m=\u001b[39m tempfile\u001b[39m.\u001b[39mTemporaryDirectory()\n\u001b[0;32m---> 89\u001b[0m DownloadEra5ForStation(\n\u001b[1;32m     90\u001b[0m     station\u001b[39m=\u001b[39;49m\u001b[39mself\u001b[39;49m\u001b[39m.\u001b[39;49mstation,\n\u001b[1;32m     91\u001b[0m     grib_dir_path\u001b[39m=\u001b[39;49mtemp_grib_dir\u001b[39m.\u001b[39;49mname,\n\u001b[1;32m     92\u001b[0m     hook\u001b[39m=\u001b[39;49mera5_hook\n\u001b[1;32m     93\u001b[0m )\n\u001b[1;32m     95\u001b[0m era5_temp_path \u001b[39m=\u001b[39m \u001b[39mself\u001b[39m\u001b[39m.\u001b[39mtemp_dir\u001b[39m.\u001b[39mname \u001b[39m+\u001b[39m \u001b[39m'\u001b[39m\u001b[39m/\u001b[39m\u001b[39m'\u001b[39m \u001b[39m+\u001b[39m \u001b[39mself\u001b[39m\u001b[39m.\u001b[39mera5_file_name\n\u001b[1;32m     97\u001b[0m Era5DataFromGribToNc(\n\u001b[1;32m     98\u001b[0m     temp_grib_dir\u001b[39m.\u001b[39mname,\n\u001b[1;32m     99\u001b[0m     era5_target_file_path\u001b[39m=\u001b[39mera5_temp_path\n\u001b[1;32m    100\u001b[0m )\n",
      "File \u001b[0;32m~/VsCodeProjects/digital-twin-for-weather-station/era5/era5_for_station.py:27\u001b[0m, in \u001b[0;36mDownloadEra5ForStation.__init__\u001b[0;34m(self, station, grib_dir_path, hook)\u001b[0m\n\u001b[1;32m     25\u001b[0m \u001b[39msuper\u001b[39m()\u001b[39m.\u001b[39m\u001b[39m__init__\u001b[39m(station, grib_dir_path, hook)\n\u001b[1;32m     26\u001b[0m \u001b[39mself\u001b[39m\u001b[39m.\u001b[39myears_by_month_dict \u001b[39m=\u001b[39m \u001b[39mself\u001b[39m\u001b[39m.\u001b[39mstation\u001b[39m.\u001b[39mget_all_months_in_df()\n\u001b[0;32m---> 27\u001b[0m \u001b[39mself\u001b[39;49m\u001b[39m.\u001b[39;49mdownload()\n",
      "File \u001b[0;32m~/VsCodeProjects/digital-twin-for-weather-station/era5/era5_for_station.py:41\u001b[0m, in \u001b[0;36mDownloadEra5ForStation.download\u001b[0;34m(self)\u001b[0m\n\u001b[1;32m     39\u001b[0m         download_full_years\u001b[39m.\u001b[39mappend(year)\n\u001b[1;32m     40\u001b[0m \u001b[39mif\u001b[39;00m \u001b[39mlen\u001b[39m(download_full_years) \u001b[39m>\u001b[39m \u001b[39m0\u001b[39m:\n\u001b[0;32m---> 41\u001b[0m     \u001b[39mself\u001b[39;49m\u001b[39m.\u001b[39;49mhook\u001b[39m.\u001b[39;49mdownload_years(\n\u001b[1;32m     42\u001b[0m         download_full_years,\n\u001b[1;32m     43\u001b[0m         \u001b[39mself\u001b[39;49m\u001b[39m.\u001b[39;49mgrib_dir_path\n\u001b[1;32m     44\u001b[0m     )\n",
      "File \u001b[0;32m~/VsCodeProjects/digital-twin-for-weather-station/era5/era5_download_hook.py:43\u001b[0m, in \u001b[0;36mEra5DownloadHook.download_years\u001b[0;34m(self, years, target_folder)\u001b[0m\n\u001b[1;32m     41\u001b[0m \u001b[39mdef\u001b[39;00m \u001b[39mdownload_years\u001b[39m(\u001b[39mself\u001b[39m, years: \u001b[39mlist\u001b[39m, target_folder):\n\u001b[1;32m     42\u001b[0m     \u001b[39mprint\u001b[39m(\u001b[39mf\u001b[39m\u001b[39m\"\u001b[39m\u001b[39mDownloading \u001b[39m\u001b[39m{\u001b[39;00myears\u001b[39m}\u001b[39;00m\u001b[39m\"\u001b[39m)\n\u001b[0;32m---> 43\u001b[0m     \u001b[39mself\u001b[39;49m\u001b[39m.\u001b[39;49m_download({\n\u001b[1;32m     44\u001b[0m         \u001b[39m\"\u001b[39;49m\u001b[39myears\u001b[39;49m\u001b[39m\"\u001b[39;49m: years,\n\u001b[1;32m     45\u001b[0m         \u001b[39m\"\u001b[39;49m\u001b[39mmonths\u001b[39;49m\u001b[39m\"\u001b[39;49m: \u001b[39mrange\u001b[39;49m(\u001b[39m1\u001b[39;49m, \u001b[39m13\u001b[39;49m),\n\u001b[1;32m     46\u001b[0m         \u001b[39m\"\u001b[39;49m\u001b[39mdays\u001b[39;49m\u001b[39m\"\u001b[39;49m: \u001b[39mrange\u001b[39;49m(\u001b[39m1\u001b[39;49m, \u001b[39m32\u001b[39;49m),\n\u001b[1;32m     47\u001b[0m         \u001b[39m\"\u001b[39;49m\u001b[39mhours\u001b[39;49m\u001b[39m\"\u001b[39;49m: \u001b[39mrange\u001b[39;49m(\u001b[39m0\u001b[39;49m, \u001b[39m24\u001b[39;49m)\n\u001b[1;32m     48\u001b[0m     }, target_folder \u001b[39m+\u001b[39;49m \u001b[39mf\u001b[39;49m\u001b[39m\"\u001b[39;49m\u001b[39m/\u001b[39;49m\u001b[39m{\u001b[39;49;00m\u001b[39mmin\u001b[39;49m(years)\u001b[39m}\u001b[39;49;00m\u001b[39m-\u001b[39;49m\u001b[39m{\u001b[39;49;00m\u001b[39mmax\u001b[39;49m(years)\u001b[39m}\u001b[39;49;00m\u001b[39m.grib\u001b[39;49m\u001b[39m\"\u001b[39;49m)\n",
      "File \u001b[0;32m~/VsCodeProjects/digital-twin-for-weather-station/era5/era5_download_hook.py:51\u001b[0m, in \u001b[0;36mEra5DownloadHook._download\u001b[0;34m(self, date_info, save_to_file_path)\u001b[0m\n\u001b[1;32m     50\u001b[0m \u001b[39mdef\u001b[39;00m \u001b[39m_download\u001b[39m(\u001b[39mself\u001b[39m, date_info, save_to_file_path):\n\u001b[0;32m---> 51\u001b[0m     response \u001b[39m=\u001b[39m \u001b[39mself\u001b[39;49m\u001b[39m.\u001b[39;49mcds\u001b[39m.\u001b[39;49mretrieve(\n\u001b[1;32m     52\u001b[0m     \u001b[39m'\u001b[39;49m\u001b[39mreanalysis-era5-single-levels\u001b[39;49m\u001b[39m'\u001b[39;49m,\n\u001b[1;32m     53\u001b[0m     {\n\u001b[1;32m     54\u001b[0m         \u001b[39m\"\u001b[39;49m\u001b[39mproduct_type\u001b[39;49m\u001b[39m\"\u001b[39;49m: \u001b[39m\"\u001b[39;49m\u001b[39mreanalysis\u001b[39;49m\u001b[39m\"\u001b[39;49m,\n\u001b[1;32m     55\u001b[0m         \u001b[39m\"\u001b[39;49m\u001b[39mformat\u001b[39;49m\u001b[39m\"\u001b[39;49m: \u001b[39m\"\u001b[39;49m\u001b[39mgrib\u001b[39;49m\u001b[39m\"\u001b[39;49m,\n\u001b[1;32m     56\u001b[0m         \u001b[39m\"\u001b[39;49m\u001b[39mvariable\u001b[39;49m\u001b[39m\"\u001b[39;49m: \u001b[39m\"\u001b[39;49m\u001b[39m2m_temperature\u001b[39;49m\u001b[39m\"\u001b[39;49m,\n\u001b[1;32m     57\u001b[0m         \u001b[39m\"\u001b[39;49m\u001b[39marea\u001b[39;49m\u001b[39m\"\u001b[39;49m: [\n\u001b[1;32m     58\u001b[0m             \u001b[39mself\u001b[39;49m\u001b[39m.\u001b[39;49mcoordinate_limits[\u001b[39m\"\u001b[39;49m\u001b[39mnorth\u001b[39;49m\u001b[39m\"\u001b[39;49m],\n\u001b[1;32m     59\u001b[0m             \u001b[39mself\u001b[39;49m\u001b[39m.\u001b[39;49mcoordinate_limits[\u001b[39m\"\u001b[39;49m\u001b[39mwest\u001b[39;49m\u001b[39m\"\u001b[39;49m] \u001b[39m%\u001b[39;49m \u001b[39m360\u001b[39;49m,\n\u001b[1;32m     60\u001b[0m             \u001b[39mself\u001b[39;49m\u001b[39m.\u001b[39;49mcoordinate_limits[\u001b[39m\"\u001b[39;49m\u001b[39msouth\u001b[39;49m\u001b[39m\"\u001b[39;49m],\n\u001b[1;32m     61\u001b[0m             \u001b[39mself\u001b[39;49m\u001b[39m.\u001b[39;49mcoordinate_limits[\u001b[39m\"\u001b[39;49m\u001b[39meast\u001b[39;49m\u001b[39m\"\u001b[39;49m] \u001b[39m%\u001b[39;49m \u001b[39m360\u001b[39;49m,\n\u001b[1;32m     62\u001b[0m         ],\n\u001b[1;32m     63\u001b[0m         \u001b[39m\"\u001b[39;49m\u001b[39myear\u001b[39;49m\u001b[39m\"\u001b[39;49m: date_info\u001b[39m.\u001b[39;49mget(\u001b[39m\"\u001b[39;49m\u001b[39myears\u001b[39;49m\u001b[39m\"\u001b[39;49m),\n\u001b[1;32m     64\u001b[0m         \u001b[39m\"\u001b[39;49m\u001b[39mmonth\u001b[39;49m\u001b[39m\"\u001b[39;49m: [\u001b[39mf\u001b[39;49m\u001b[39m\"\u001b[39;49m\u001b[39m{\u001b[39;49;00mmonth\u001b[39m:\u001b[39;49;00m\u001b[39m02d\u001b[39;49m\u001b[39m}\u001b[39;49;00m\u001b[39m\"\u001b[39;49m \u001b[39mfor\u001b[39;49;00m month \u001b[39min\u001b[39;49;00m date_info\u001b[39m.\u001b[39;49mget(\u001b[39m\"\u001b[39;49m\u001b[39mmonths\u001b[39;49m\u001b[39m\"\u001b[39;49m)],\n\u001b[1;32m     65\u001b[0m         \u001b[39m\"\u001b[39;49m\u001b[39mday\u001b[39;49m\u001b[39m\"\u001b[39;49m: [\u001b[39mf\u001b[39;49m\u001b[39m\"\u001b[39;49m\u001b[39m{\u001b[39;49;00mday\u001b[39m:\u001b[39;49;00m\u001b[39m02d\u001b[39;49m\u001b[39m}\u001b[39;49;00m\u001b[39m\"\u001b[39;49m \u001b[39mfor\u001b[39;49;00m day \u001b[39min\u001b[39;49;00m date_info\u001b[39m.\u001b[39;49mget(\u001b[39m\"\u001b[39;49m\u001b[39mdays\u001b[39;49m\u001b[39m\"\u001b[39;49m)],\n\u001b[1;32m     66\u001b[0m         \u001b[39m\"\u001b[39;49m\u001b[39mtime\u001b[39;49m\u001b[39m\"\u001b[39;49m: [\u001b[39mf\u001b[39;49m\u001b[39m\"\u001b[39;49m\u001b[39m{\u001b[39;49;00mhour\u001b[39m:\u001b[39;49;00m\u001b[39m02d\u001b[39;49m\u001b[39m}\u001b[39;49;00m\u001b[39m:00\u001b[39;49m\u001b[39m\"\u001b[39;49m \u001b[39mfor\u001b[39;49;00m hour \u001b[39min\u001b[39;49;00m date_info\u001b[39m.\u001b[39;49mget(\u001b[39m\"\u001b[39;49m\u001b[39mhours\u001b[39;49m\u001b[39m\"\u001b[39;49m)]\n\u001b[1;32m     67\u001b[0m \n\u001b[1;32m     68\u001b[0m     }, save_to_file_path)\n",
      "File \u001b[0;32m~/anaconda3/envs/crai/lib/python3.10/site-packages/cdsapi/api.py:364\u001b[0m, in \u001b[0;36mClient.retrieve\u001b[0;34m(self, name, request, target)\u001b[0m\n\u001b[1;32m    363\u001b[0m \u001b[39mdef\u001b[39;00m \u001b[39mretrieve\u001b[39m(\u001b[39mself\u001b[39m, name, request, target\u001b[39m=\u001b[39m\u001b[39mNone\u001b[39;00m):\n\u001b[0;32m--> 364\u001b[0m     result \u001b[39m=\u001b[39m \u001b[39mself\u001b[39;49m\u001b[39m.\u001b[39;49m_api(\u001b[39m\"\u001b[39;49m\u001b[39m%s\u001b[39;49;00m\u001b[39m/resources/\u001b[39;49m\u001b[39m%s\u001b[39;49;00m\u001b[39m\"\u001b[39;49m \u001b[39m%\u001b[39;49m (\u001b[39mself\u001b[39;49m\u001b[39m.\u001b[39;49murl, name), request, \u001b[39m\"\u001b[39;49m\u001b[39mPOST\u001b[39;49m\u001b[39m\"\u001b[39;49m)\n\u001b[1;32m    365\u001b[0m     \u001b[39mif\u001b[39;00m target \u001b[39mis\u001b[39;00m \u001b[39mnot\u001b[39;00m \u001b[39mNone\u001b[39;00m:\n\u001b[1;32m    366\u001b[0m         result\u001b[39m.\u001b[39mdownload(target)\n",
      "File \u001b[0;32m~/anaconda3/envs/crai/lib/python3.10/site-packages/cdsapi/api.py:519\u001b[0m, in \u001b[0;36mClient._api\u001b[0;34m(self, url, request, method)\u001b[0m\n\u001b[1;32m    517\u001b[0m             \u001b[39mbreak\u001b[39;00m\n\u001b[1;32m    518\u001b[0m         \u001b[39mself\u001b[39m\u001b[39m.\u001b[39merror(\u001b[39m\"\u001b[39m\u001b[39m  \u001b[39m\u001b[39m%s\u001b[39;00m\u001b[39m\"\u001b[39m, n)\n\u001b[0;32m--> 519\u001b[0m     \u001b[39mraise\u001b[39;00m \u001b[39mException\u001b[39;00m(\n\u001b[1;32m    520\u001b[0m         \u001b[39m\"\u001b[39m\u001b[39m%s\u001b[39;00m\u001b[39m. \u001b[39m\u001b[39m%s\u001b[39;00m\u001b[39m.\u001b[39m\u001b[39m\"\u001b[39m\n\u001b[1;32m    521\u001b[0m         \u001b[39m%\u001b[39m (reply[\u001b[39m\"\u001b[39m\u001b[39merror\u001b[39m\u001b[39m\"\u001b[39m]\u001b[39m.\u001b[39mget(\u001b[39m\"\u001b[39m\u001b[39mmessage\u001b[39m\u001b[39m\"\u001b[39m), reply[\u001b[39m\"\u001b[39m\u001b[39merror\u001b[39m\u001b[39m\"\u001b[39m]\u001b[39m.\u001b[39mget(\u001b[39m\"\u001b[39m\u001b[39mreason\u001b[39m\u001b[39m\"\u001b[39m))\n\u001b[1;32m    522\u001b[0m     )\n\u001b[1;32m    524\u001b[0m \u001b[39mraise\u001b[39;00m \u001b[39mException\u001b[39;00m(\u001b[39m\"\u001b[39m\u001b[39mUnknown API state [\u001b[39m\u001b[39m%s\u001b[39;00m\u001b[39m]\u001b[39m\u001b[39m\"\u001b[39m \u001b[39m%\u001b[39m (reply[\u001b[39m\"\u001b[39m\u001b[39mstate\u001b[39m\u001b[39m\"\u001b[39m],))\n",
      "\u001b[0;31mException\u001b[0m: the request you have submitted is not valid. Request too large. Requesting 61344 items, limit is 60000."
     ]
    }
   ],
   "source": [
    "\n",
    "training = TrainingExecuter(station=marshall_station)\n",
    "\n",
    "output_model_path = training.execute()\n",
    "marshall_data.add_model(output_model_path)\n",
    "\n"
   ]
  },
  {
   "cell_type": "code",
   "execution_count": null,
   "metadata": {},
   "outputs": [
    {
     "ename": "NameError",
     "evalue": "name 'training' is not defined",
     "output_type": "error",
     "traceback": [
      "\u001b[0;31m---------------------------------------------------------------------------\u001b[0m",
      "\u001b[0;31mNameError\u001b[0m                                 Traceback (most recent call last)",
      "\u001b[1;32m/Users/timo.wacke/VsCodeProjects/digital-twin-for-weather-station/playground.ipynb Cell 6\u001b[0m line \u001b[0;36m1\n\u001b[0;32m----> <a href='vscode-notebook-cell:/Users/timo.wacke/VsCodeProjects/digital-twin-for-weather-station/playground.ipynb#X11sZmlsZQ%3D%3D?line=0'>1</a>\u001b[0m training\u001b[39m.\u001b[39mvisualize()\n\u001b[1;32m      <a href='vscode-notebook-cell:/Users/timo.wacke/VsCodeProjects/digital-twin-for-weather-station/playground.ipynb#X11sZmlsZQ%3D%3D?line=1'>2</a>\u001b[0m training\u001b[39m.\u001b[39mcleanup()\n",
      "\u001b[0;31mNameError\u001b[0m: name 'training' is not defined"
     ]
    }
   ],
   "source": [
    "\n",
    "training.visualize()\n",
    "training.cleanup()"
   ]
  },
  {
   "cell_type": "code",
   "execution_count": null,
   "metadata": {},
   "outputs": [
    {
     "name": "stdout",
     "output_type": "stream",
     "text": [
      "Extracting Barbados...\n"
     ]
    },
    {
     "name": "stderr",
     "output_type": "stream",
     "text": [
      "100%|██████████| 1263/1263 [01:26<00:00, 14.64it/s]\n"
     ]
    },
    {
     "name": "stdout",
     "output_type": "stream",
     "text": [
      "Extracting Vienna...\n"
     ]
    },
    {
     "name": "stderr",
     "output_type": "stream",
     "text": [
      "100%|██████████| 1857/1857 [02:03<00:00, 15.03it/s]\n"
     ]
    }
   ],
   "source": [
    "barbados_station = StationData(\"Barbados\", \"./measurements/Barbados/\")\n",
    "vienna_station = StationData(\"Vienna\", \"./measurements/Vienna/\")"
   ]
  }
 ],
 "metadata": {
  "kernelspec": {
   "display_name": "crai",
   "language": "python",
   "name": "python3"
  },
  "language_info": {
   "codemirror_mode": {
    "name": "ipython",
    "version": 3
   },
   "file_extension": ".py",
   "mimetype": "text/x-python",
   "name": "python",
   "nbconvert_exporter": "python",
   "pygments_lexer": "ipython3",
   "version": "3.10.13"
  }
 },
 "nbformat": 4,
 "nbformat_minor": 2
}
