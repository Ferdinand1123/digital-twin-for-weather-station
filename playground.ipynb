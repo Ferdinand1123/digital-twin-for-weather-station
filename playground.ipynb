{
 "cells": [
  {
   "cell_type": "code",
   "execution_count": 2,
   "metadata": {},
   "outputs": [],
   "source": [
    "import cdsapi"
   ]
  },
  {
   "cell_type": "code",
   "execution_count": 3,
   "metadata": {},
   "outputs": [
    {
     "ename": "Exception",
     "evalue": "Missing/incomplete configuration file: /Users/timo.wacke/.cdsapirc",
     "output_type": "error",
     "traceback": [
      "\u001b[0;31m---------------------------------------------------------------------------\u001b[0m",
      "\u001b[0;31mException\u001b[0m                                 Traceback (most recent call last)",
      "\u001b[1;32m/Users/timo.wacke/VsCodeProjects/digital-twin-for-weather-station/playground.ipynb Cell 2\u001b[0m line \u001b[0;36m1\n\u001b[0;32m----> <a href='vscode-notebook-cell:/Users/timo.wacke/VsCodeProjects/digital-twin-for-weather-station/playground.ipynb#W1sZmlsZQ%3D%3D?line=0'>1</a>\u001b[0m cds \u001b[39m=\u001b[39m cdsapi\u001b[39m.\u001b[39mClient()\n",
      "File \u001b[0;32m~/anaconda3/envs/digital-twin/lib/python3.12/site-packages/cdsapi/api.py:304\u001b[0m, in \u001b[0;36mClient.__init__\u001b[0;34m(self, url, key, quiet, debug, verify, timeout, progress, full_stack, delete, retry_max, sleep_max, wait_until_complete, info_callback, warning_callback, error_callback, debug_callback, metadata, forget, session)\u001b[0m\n\u001b[1;32m    301\u001b[0m             verify \u001b[39m=\u001b[39m \u001b[39mbool\u001b[39m(\u001b[39mint\u001b[39m(config\u001b[39m.\u001b[39mget(\u001b[39m\"\u001b[39m\u001b[39mverify\u001b[39m\u001b[39m\"\u001b[39m, \u001b[39m1\u001b[39m)))\n\u001b[1;32m    303\u001b[0m \u001b[39mif\u001b[39;00m url \u001b[39mis\u001b[39;00m \u001b[39mNone\u001b[39;00m \u001b[39mor\u001b[39;00m key \u001b[39mis\u001b[39;00m \u001b[39mNone\u001b[39;00m \u001b[39mor\u001b[39;00m key \u001b[39mis\u001b[39;00m \u001b[39mNone\u001b[39;00m:\n\u001b[0;32m--> 304\u001b[0m     \u001b[39mraise\u001b[39;00m \u001b[39mException\u001b[39;00m(\u001b[39m\"\u001b[39m\u001b[39mMissing/incomplete configuration file: \u001b[39m\u001b[39m%s\u001b[39;00m\u001b[39m\"\u001b[39m \u001b[39m%\u001b[39m (dotrc))\n\u001b[1;32m    306\u001b[0m \u001b[39m# If verify is still None, then we set to default value of True\u001b[39;00m\n\u001b[1;32m    307\u001b[0m \u001b[39mif\u001b[39;00m verify \u001b[39mis\u001b[39;00m \u001b[39mNone\u001b[39;00m:\n",
      "\u001b[0;31mException\u001b[0m: Missing/incomplete configuration file: /Users/timo.wacke/.cdsapirc"
     ]
    }
   ],
   "source": [
    "cds = cdsapi.Client()"
   ]
  },
  {
   "cell_type": "code",
   "execution_count": null,
   "metadata": {},
   "outputs": [],
   "source": [
    "cds.retrieve('reanalysis-era5-pressure-levels', {\n",
    "           \"variable\": \"temperature\",\n",
    "           \"pressure_level\": \"1000\",\n",
    "           \"product_type\": \"reanalysis\",\n",
    "           \"date\": \"2017-12-01/2017-12-31\",\n",
    "           \"time\": \"12:00\",\n",
    "           \"format\": \"grib\"\n",
    "       }, 'download.grib')"
   ]
  },
  {
   "cell_type": "code",
   "execution_count": null,
   "metadata": {},
   "outputs": [],
   "source": []
  }
 ],
 "metadata": {
  "kernelspec": {
   "display_name": "digital-twin",
   "language": "python",
   "name": "digital-twin"
  },
  "language_info": {
   "codemirror_mode": {
    "name": "ipython",
    "version": 3
   },
   "file_extension": ".py",
   "mimetype": "text/x-python",
   "name": "python",
   "nbconvert_exporter": "python",
   "pygments_lexer": "ipython3",
   "version": "3.12.2"
  }
 },
 "nbformat": 4,
 "nbformat_minor": 2
}
