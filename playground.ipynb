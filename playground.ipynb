{
 "cells": [
  {
   "cell_type": "code",
   "execution_count": 1,
   "metadata": {
    "ExecuteTime": {
     "end_time": "2024-04-03T12:40:34.826230Z",
     "start_time": "2024-04-03T12:40:34.429455Z"
    }
   },
   "outputs": [],
   "source": [
    "import cdsapi\n",
    "from dotenv import load_dotenv\n",
    "import os"
   ]
  },
  {
   "cell_type": "code",
   "execution_count": 2,
   "metadata": {
    "ExecuteTime": {
     "end_time": "2024-03-14T09:31:14.295049Z",
     "start_time": "2024-03-14T09:31:14.004521Z"
    }
   },
   "outputs": [],
   "source": [
    "load_dotenv(\"copernicus_api.env\")\n",
    "\n",
    "cds = cdsapi.Client(\n",
    "    url=\"https://cds.climate.copernicus.eu/api/v2\",\n",
    "    key=f\"{os.getenv('UID')}:{os.getenv('API_KEY')}\"\n",
    ")"
   ]
  },
  {
   "cell_type": "code",
   "execution_count": 3,
   "outputs": [],
   "source": [
    "deg_limit_north = 54\n",
    "deg_limit_south = 50\n",
    "deg_limit_west = 2\n",
    "deg_limit_east = 8"
   ],
   "metadata": {
    "collapsed": false,
    "ExecuteTime": {
     "end_time": "2024-03-14T09:31:14.295321Z",
     "start_time": "2024-03-14T09:31:14.024381Z"
    }
   }
  },
  {
   "cell_type": "code",
   "execution_count": 4,
   "metadata": {
    "ExecuteTime": {
     "end_time": "2024-03-14T13:06:17.168002Z",
     "start_time": "2024-03-14T09:31:14.281633Z"
    }
   },
   "outputs": [
    {
     "name": "stderr",
     "output_type": "stream",
     "text": [
      "2024-03-14 10:31:14,483 INFO Welcome to the CDS\n",
      "2024-03-14 10:31:14,484 INFO Sending request to https://cds.climate.copernicus.eu/api/v2/resources/reanalysis-era5-single-levels\n",
      "2024-03-14 10:31:14,758 INFO Request is queued\n",
      "2024-03-14 14:06:14,168 INFO Request is completed\n",
      "2024-03-14 14:06:14,198 INFO Downloading https://download-0009-clone.copernicus-climate.eu/cache-compute-0009/cache/data5/adaptor.mars.internal-1710421492.8809206-23733-3-a028c329-75e9-4edb-9077-11bedc6d27ba.grib to download.grib (22.5K)\n",
      "2024-03-14 14:06:14,753 INFO Download rate 40.7K/s\n"
     ]
    },
    {
     "name": "stdout",
     "output_type": "stream",
     "text": [
      "Result(content_length=23040,content_type=application/x-grib,location=https://download-0009-clone.copernicus-climate.eu/cache-compute-0009/cache/data5/adaptor.mars.internal-1710421492.8809206-23733-3-a028c329-75e9-4edb-9077-11bedc6d27ba.grib)\n"
     ]
    }
   ],
   "source": [
    "response = cds.retrieve(\n",
    "    'reanalysis-era5-single-levels',\n",
    "    {\n",
    "        \"product_type\": \"reanalysis\",\n",
    "        \"format\": \"grib\",\n",
    "        \"variable\": \"2m_temperature\",\n",
    "        \"area\": [\n",
    "            deg_limit_north, deg_limit_west, deg_limit_south, deg_limit_east\n",
    "        ],\n",
    "        \"year\": '2020',\n",
    "        \"month\": '03',\n",
    "        \"day\": [f\"{day:02d}\" for day in range(1, 2)],\n",
    "        \"time\": [f\"{hour:02d}:00\" for hour in range(24)]\n",
    "\n",
    "    }, 'download.grib')\n",
    "\n",
    "print(response)"
   ]
  },
  {
   "cell_type": "code",
   "execution_count": 5,
   "metadata": {
    "ExecuteTime": {
     "end_time": "2024-03-14T13:06:17.692740Z",
     "start_time": "2024-03-14T13:06:14.855105Z"
    }
   },
   "outputs": [
    {
     "name": "stderr",
     "output_type": "stream",
     "text": [
      "2024-03-14 14:06:14,868 INFO Welcome to the CDS\n",
      "2024-03-14 14:06:14,868 INFO Sending request to https://cds.climate.copernicus.eu/api/v2/resources/reanalysis-era5-single-levels\n",
      "2024-03-14 14:06:15,107 INFO Downloading https://download-0003-clone.copernicus-climate.eu/cache-compute-0003/cache/data7/adaptor.mars.internal-1710290498.326909-30868-1-06871e77-e87d-4976-b756-dfd98c8c0726.grib to download.grib (1.4K)\n",
      "2024-03-14 14:06:15,437 INFO Download rate 4.3K/s\n"
     ]
    },
    {
     "data": {
      "text/plain": "Result(content_length=1440,content_type=application/x-grib,location=https://download-0003-clone.copernicus-climate.eu/cache-compute-0003/cache/data7/adaptor.mars.internal-1710290498.326909-30868-1-06871e77-e87d-4976-b756-dfd98c8c0726.grib)"
     },
     "execution_count": 5,
     "metadata": {},
     "output_type": "execute_result"
    }
   ],
   "source": [
    "cds.retrieve(\n",
    "    'reanalysis-era5-single-levels',\n",
    "    {\n",
    "        'product_type': 'reanalysis',\n",
    "        'format': 'grib',\n",
    "        'area': [\n",
    "            54, 9, 53,\n",
    "            11,\n",
    "        ],\n",
    "        'day': [\n",
    "            '01', '02', '03'\n",
    "        ],\n",
    "        'month': '03',\n",
    "        'time': [\n",
    "            '00:00','12:00'\n",
    "        ],\n",
    "        'year': '2023',\n",
    "        'variable': '2m_temperature',\n",
    "    },\n",
    "    'download.grib')\n"
   ]
  },
  {
   "cell_type": "code",
   "execution_count": 5,
   "outputs": [],
   "source": [],
   "metadata": {
    "collapsed": false,
    "ExecuteTime": {
     "end_time": "2024-03-14T13:06:17.693071Z",
     "start_time": "2024-03-14T13:06:15.446772Z"
    }
   }
  }
 ],
 "metadata": {
  "kernelspec": {
   "display_name": "digital-twin",
   "language": "python",
   "name": "digital-twin"
  },
  "language_info": {
   "codemirror_mode": {
    "name": "ipython",
    "version": 3
   },
   "file_extension": ".py",
   "mimetype": "text/x-python",
   "name": "python",
   "nbconvert_exporter": "python",
   "pygments_lexer": "ipython3",
   "version": "3.12.2"
  }
 },
 "nbformat": 4,
 "nbformat_minor": 2
}
