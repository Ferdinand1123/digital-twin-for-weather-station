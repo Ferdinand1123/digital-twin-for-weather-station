{
 "cells": [
  {
   "cell_type": "code",
   "execution_count": null,
   "metadata": {},
   "outputs": [],
   "source": [
    "import os\n",
    "import numpy as np\n",
    "import xarray as xr\n",
    "import matplotlib.pyplot as plt\n",
    "import cartopy.crs as ccrs\n",
    "from utils.utils import pretty_lat, pretty_lon, ProgressStatus, plot_n_steps_of_area_from_nc_file\n",
    "from tempfile import TemporaryDirectory"
   ]
  },
  {
   "cell_type": "code",
   "execution_count": 2,
   "metadata": {},
   "outputs": [],
   "source": [
    "from station.data_submission import DataSubmission\n",
    "from station.station import StationData\n",
    "\n",
    "from train_station_twin.training_executer import TrainingExecuter\n",
    "from infilling.evaluation_executer import EvaluatuionExecuter\n",
    "from infilling.infilling_writer import InfillingWriter\n",
    "\n",
    "from era5.era5_for_station import DownloadEra5ForStation, DownloadEra5ForStationGaps\n",
    "from era5.era5_download_hook import Era5DownloadHook\n"
   ]
  },
  {
   "cell_type": "code",
   "execution_count": 3,
   "metadata": {},
   "outputs": [
    {
     "name": "stdout",
     "output_type": "stream",
     "text": [
      "Extracting Barbados...\n"
     ]
    },
    {
     "name": "stderr",
     "output_type": "stream",
     "text": [
      "100%|██████████| 50/50 [00:02<00:00, 18.71it/s]\n"
     ]
    }
   ],
   "source": [
    "barbados_data = DataSubmission(\"Barbados\")\n",
    "barbados_data.measurement_dir_path = \"./measurements/Barbados/\"\n",
    "\n",
    "barbados_station = StationData(\n",
    "    name=barbados_data.name,\n",
    "    folder_path=barbados_data.measurement_dir_path,\n",
    "    first_n_files = 50\n",
    ")"
   ]
  },
  {
   "cell_type": "code",
   "execution_count": 4,
   "metadata": {},
   "outputs": [
    {
     "data": {
      "text/html": [
       "<div>\n",
       "<style scoped>\n",
       "    .dataframe tbody tr th:only-of-type {\n",
       "        vertical-align: middle;\n",
       "    }\n",
       "\n",
       "    .dataframe tbody tr th {\n",
       "        vertical-align: top;\n",
       "    }\n",
       "\n",
       "    .dataframe thead th {\n",
       "        text-align: right;\n",
       "    }\n",
       "</style>\n",
       "<table border=\"1\" class=\"dataframe\">\n",
       "  <thead>\n",
       "    <tr style=\"text-align: right;\">\n",
       "      <th></th>\n",
       "      <th>ir_light</th>\n",
       "      <th>vis_light</th>\n",
       "      <th>uv_light</th>\n",
       "      <th>tas</th>\n",
       "    </tr>\n",
       "    <tr>\n",
       "      <th>datetime</th>\n",
       "      <th></th>\n",
       "      <th></th>\n",
       "      <th></th>\n",
       "      <th></th>\n",
       "    </tr>\n",
       "  </thead>\n",
       "  <tbody>\n",
       "    <tr>\n",
       "      <th>2020-06-23 18:00:00</th>\n",
       "      <td>5135.344828</td>\n",
       "      <td>716.931034</td>\n",
       "      <td>246.517241</td>\n",
       "      <td>301.148276</td>\n",
       "    </tr>\n",
       "    <tr>\n",
       "      <th>2020-06-23 19:00:00</th>\n",
       "      <td>2969.266667</td>\n",
       "      <td>512.883333</td>\n",
       "      <td>137.083333</td>\n",
       "      <td>299.438333</td>\n",
       "    </tr>\n",
       "    <tr>\n",
       "      <th>2020-06-23 20:00:00</th>\n",
       "      <td>2080.833333</td>\n",
       "      <td>427.733333</td>\n",
       "      <td>91.516667</td>\n",
       "      <td>299.860000</td>\n",
       "    </tr>\n",
       "    <tr>\n",
       "      <th>2020-06-23 21:00:00</th>\n",
       "      <td>839.716667</td>\n",
       "      <td>314.633333</td>\n",
       "      <td>30.900000</td>\n",
       "      <td>299.188333</td>\n",
       "    </tr>\n",
       "    <tr>\n",
       "      <th>2020-06-23 22:00:00</th>\n",
       "      <td>315.800000</td>\n",
       "      <td>266.316667</td>\n",
       "      <td>5.100000</td>\n",
       "      <td>298.666667</td>\n",
       "    </tr>\n",
       "    <tr>\n",
       "      <th>...</th>\n",
       "      <td>...</td>\n",
       "      <td>...</td>\n",
       "      <td>...</td>\n",
       "      <td>...</td>\n",
       "    </tr>\n",
       "    <tr>\n",
       "      <th>2020-07-06 20:00:00</th>\n",
       "      <td>2115.084746</td>\n",
       "      <td>437.728814</td>\n",
       "      <td>96.847458</td>\n",
       "      <td>298.258475</td>\n",
       "    </tr>\n",
       "    <tr>\n",
       "      <th>2020-07-06 21:00:00</th>\n",
       "      <td>1094.733333</td>\n",
       "      <td>341.233333</td>\n",
       "      <td>45.116667</td>\n",
       "      <td>298.481667</td>\n",
       "    </tr>\n",
       "    <tr>\n",
       "      <th>2020-07-06 22:00:00</th>\n",
       "      <td>341.133333</td>\n",
       "      <td>267.400000</td>\n",
       "      <td>5.600000</td>\n",
       "      <td>298.028333</td>\n",
       "    </tr>\n",
       "    <tr>\n",
       "      <th>2020-07-06 23:00:00</th>\n",
       "      <td>253.316667</td>\n",
       "      <td>260.183333</td>\n",
       "      <td>1.800000</td>\n",
       "      <td>297.828333</td>\n",
       "    </tr>\n",
       "    <tr>\n",
       "      <th>2020-07-07 00:00:00</th>\n",
       "      <td>253.120690</td>\n",
       "      <td>260.500000</td>\n",
       "      <td>2.034483</td>\n",
       "      <td>297.777586</td>\n",
       "    </tr>\n",
       "  </tbody>\n",
       "</table>\n",
       "<p>295 rows × 4 columns</p>\n",
       "</div>"
      ],
      "text/plain": [
       "                        ir_light   vis_light    uv_light         tas\n",
       "datetime                                                            \n",
       "2020-06-23 18:00:00  5135.344828  716.931034  246.517241  301.148276\n",
       "2020-06-23 19:00:00  2969.266667  512.883333  137.083333  299.438333\n",
       "2020-06-23 20:00:00  2080.833333  427.733333   91.516667  299.860000\n",
       "2020-06-23 21:00:00   839.716667  314.633333   30.900000  299.188333\n",
       "2020-06-23 22:00:00   315.800000  266.316667    5.100000  298.666667\n",
       "...                          ...         ...         ...         ...\n",
       "2020-07-06 20:00:00  2115.084746  437.728814   96.847458  298.258475\n",
       "2020-07-06 21:00:00  1094.733333  341.233333   45.116667  298.481667\n",
       "2020-07-06 22:00:00   341.133333  267.400000    5.600000  298.028333\n",
       "2020-07-06 23:00:00   253.316667  260.183333    1.800000  297.828333\n",
       "2020-07-07 00:00:00   253.120690  260.500000    2.034483  297.777586\n",
       "\n",
       "[295 rows x 4 columns]"
      ]
     },
     "execution_count": 4,
     "metadata": {},
     "output_type": "execute_result"
    }
   ],
   "source": [
    "# start date\n",
    "start_date = \"2020-01-01\"\n",
    "# end date\n",
    "end_date = \"2020-12-31\"\n",
    "\n",
    "# slice the df barbados_station.df\n",
    "df = barbados_station.df.loc[start_date:end_date]\n",
    "df"
   ]
  },
  {
   "cell_type": "code",
   "execution_count": 6,
   "metadata": {},
   "outputs": [
    {
     "name": "stderr",
     "output_type": "stream",
     "text": [
      "/Users/timo.wacke/VsCodeProjects/digital-twin-for-weather-station/utils/utils.py:159: UserWarning: FigureCanvasAgg is non-interactive, and thus cannot be shown\n",
      "  plt.show()\n"
     ]
    }
   ],
   "source": [
    "import matplotlib.pyplot as plt\n",
    "from utils.utils import plot_measurements_df\n",
    "plot_measurements_df(barbados_station.df)"
   ]
  },
  {
   "cell_type": "markdown",
   "metadata": {},
   "source": [
    "**Plot a few random timesteps of the weather station:**"
   ]
  },
  {
   "cell_type": "code",
   "execution_count": null,
   "metadata": {},
   "outputs": [],
   "source": [
    "random_timesteps = marshall_station.df.index"
   ]
  },
  {
   "cell_type": "code",
   "execution_count": null,
   "metadata": {},
   "outputs": [],
   "source": [
    "\n",
    "training = TrainingExecuter(station=marshall_station, ProgressStatus())\n",
    "\n",
    "output_model_path = training.execute()\n",
    "marshall_data.add_model(output_model_path)\n",
    "\n"
   ]
  },
  {
   "cell_type": "code",
   "execution_count": null,
   "metadata": {},
   "outputs": [],
   "source": [
    "barbados_station = StationData(\"Barbados\", \"./measurements/Barbados/\")\n",
    "vienna_station = StationData(\"Vienna\", \"./measurements/Vienna/\")"
   ]
  }
 ],
 "metadata": {
  "kernelspec": {
   "display_name": "crai",
   "language": "python",
   "name": "python3"
  },
  "language_info": {
   "codemirror_mode": {
    "name": "ipython",
    "version": 3
   },
   "file_extension": ".py",
   "mimetype": "text/x-python",
   "name": "python",
   "nbconvert_exporter": "python",
   "pygments_lexer": "ipython3",
   "version": "3.10.13"
  }
 },
 "nbformat": 4,
 "nbformat_minor": 2
}
