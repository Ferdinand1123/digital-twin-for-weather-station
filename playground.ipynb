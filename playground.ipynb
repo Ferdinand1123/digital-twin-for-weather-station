{
 "cells": [
  {
   "cell_type": "code",
   "execution_count": 1,
   "metadata": {},
   "outputs": [],
   "source": [
    "import os\n",
    "import numpy as np\n",
    "import xarray as xr\n",
    "import matplotlib.pyplot as plt\n",
    "import cartopy.crs as ccrs\n",
    "from utils.utils import pretty_lat, pretty_lon, ProgressStatus, plot_n_steps_of_area_from_nc_file\n",
    "from tempfile import TemporaryDirectory"
   ]
  },
  {
   "cell_type": "code",
   "execution_count": 2,
   "metadata": {},
   "outputs": [],
   "source": [
    "from station.data_submission import DataSubmission\n",
    "from station.station import StationData\n",
    "\n",
    "from train_station_twin.training_executer import TrainingExecuter\n",
    "from infilling.evaluation_executer import EvaluatuionExecuter\n",
    "from infilling.infilling_writer import InfillingWriter\n",
    "\n",
    "from era5.era5_for_station import DownloadEra5ForStation, DownloadEra5ForStationGaps\n",
    "from era5.era5_download_hook import Era5DownloadHook\n"
   ]
  },
  {
   "cell_type": "code",
   "execution_count": 3,
   "metadata": {},
   "outputs": [
    {
     "name": "stdout",
     "output_type": "stream",
     "text": [
      "Extracting Marshall_2017-2023...\n"
     ]
    },
    {
     "name": "stderr",
     "output_type": "stream",
     "text": [
      "100%|██████████| 2465/2465 [02:24<00:00, 17.02it/s]\n"
     ]
    }
   ],
   "source": [
    "marshall_data = DataSubmission(\"Marshall_2017-2023\")\n",
    "marshall_data.measurement_dir_path = \"./measurements/Marshall/\"\n",
    "\n",
    "marshall_station = StationData(\n",
    "    name=marshall_data.name,\n",
    "    folder_path=marshall_data.measurement_dir_path\n",
    ")"
   ]
  },
  {
   "cell_type": "code",
   "execution_count": 4,
   "metadata": {},
   "outputs": [
    {
     "data": {
      "text/html": [
       "<div>\n",
       "<style scoped>\n",
       "    .dataframe tbody tr th:only-of-type {\n",
       "        vertical-align: middle;\n",
       "    }\n",
       "\n",
       "    .dataframe tbody tr th {\n",
       "        vertical-align: top;\n",
       "    }\n",
       "\n",
       "    .dataframe thead th {\n",
       "        text-align: right;\n",
       "    }\n",
       "</style>\n",
       "<table border=\"1\" class=\"dataframe\">\n",
       "  <thead>\n",
       "    <tr style=\"text-align: right;\">\n",
       "      <th></th>\n",
       "      <th>vis_light</th>\n",
       "      <th>tas</th>\n",
       "      <th>ir_light</th>\n",
       "      <th>uv_light</th>\n",
       "    </tr>\n",
       "    <tr>\n",
       "      <th>datetime</th>\n",
       "      <th></th>\n",
       "      <th></th>\n",
       "      <th></th>\n",
       "      <th></th>\n",
       "    </tr>\n",
       "  </thead>\n",
       "  <tbody>\n",
       "    <tr>\n",
       "      <th>2017-03-01 05:00:00</th>\n",
       "      <td>NaN</td>\n",
       "      <td>277.316667</td>\n",
       "      <td>NaN</td>\n",
       "      <td>NaN</td>\n",
       "    </tr>\n",
       "    <tr>\n",
       "      <th>2017-03-01 18:00:00</th>\n",
       "      <td>NaN</td>\n",
       "      <td>277.786364</td>\n",
       "      <td>NaN</td>\n",
       "      <td>NaN</td>\n",
       "    </tr>\n",
       "    <tr>\n",
       "      <th>2017-03-01 19:00:00</th>\n",
       "      <td>NaN</td>\n",
       "      <td>278.873333</td>\n",
       "      <td>NaN</td>\n",
       "      <td>NaN</td>\n",
       "    </tr>\n",
       "    <tr>\n",
       "      <th>2017-03-01 20:00:00</th>\n",
       "      <td>NaN</td>\n",
       "      <td>279.076667</td>\n",
       "      <td>NaN</td>\n",
       "      <td>NaN</td>\n",
       "    </tr>\n",
       "    <tr>\n",
       "      <th>2017-03-01 21:00:00</th>\n",
       "      <td>NaN</td>\n",
       "      <td>277.528333</td>\n",
       "      <td>NaN</td>\n",
       "      <td>NaN</td>\n",
       "    </tr>\n",
       "    <tr>\n",
       "      <th>...</th>\n",
       "      <td>...</td>\n",
       "      <td>...</td>\n",
       "      <td>...</td>\n",
       "      <td>...</td>\n",
       "    </tr>\n",
       "    <tr>\n",
       "      <th>2023-05-18 09:00:00</th>\n",
       "      <td>NaN</td>\n",
       "      <td>283.781818</td>\n",
       "      <td>NaN</td>\n",
       "      <td>NaN</td>\n",
       "    </tr>\n",
       "    <tr>\n",
       "      <th>2023-06-12 05:00:00</th>\n",
       "      <td>NaN</td>\n",
       "      <td>285.291667</td>\n",
       "      <td>NaN</td>\n",
       "      <td>NaN</td>\n",
       "    </tr>\n",
       "    <tr>\n",
       "      <th>2023-06-12 06:00:00</th>\n",
       "      <td>NaN</td>\n",
       "      <td>285.044545</td>\n",
       "      <td>NaN</td>\n",
       "      <td>NaN</td>\n",
       "    </tr>\n",
       "    <tr>\n",
       "      <th>2023-06-12 07:00:00</th>\n",
       "      <td>NaN</td>\n",
       "      <td>285.974561</td>\n",
       "      <td>NaN</td>\n",
       "      <td>NaN</td>\n",
       "    </tr>\n",
       "    <tr>\n",
       "      <th>2023-06-12 08:00:00</th>\n",
       "      <td>NaN</td>\n",
       "      <td>286.353030</td>\n",
       "      <td>NaN</td>\n",
       "      <td>NaN</td>\n",
       "    </tr>\n",
       "  </tbody>\n",
       "</table>\n",
       "<p>43635 rows × 4 columns</p>\n",
       "</div>"
      ],
      "text/plain": [
       "                     vis_light         tas  ir_light  uv_light\n",
       "datetime                                                      \n",
       "2017-03-01 05:00:00        NaN  277.316667       NaN       NaN\n",
       "2017-03-01 18:00:00        NaN  277.786364       NaN       NaN\n",
       "2017-03-01 19:00:00        NaN  278.873333       NaN       NaN\n",
       "2017-03-01 20:00:00        NaN  279.076667       NaN       NaN\n",
       "2017-03-01 21:00:00        NaN  277.528333       NaN       NaN\n",
       "...                        ...         ...       ...       ...\n",
       "2023-05-18 09:00:00        NaN  283.781818       NaN       NaN\n",
       "2023-06-12 05:00:00        NaN  285.291667       NaN       NaN\n",
       "2023-06-12 06:00:00        NaN  285.044545       NaN       NaN\n",
       "2023-06-12 07:00:00        NaN  285.974561       NaN       NaN\n",
       "2023-06-12 08:00:00        NaN  286.353030       NaN       NaN\n",
       "\n",
       "[43635 rows x 4 columns]"
      ]
     },
     "execution_count": 4,
     "metadata": {},
     "output_type": "execute_result"
    }
   ],
   "source": [
    "marshall_station.df"
   ]
  },
  {
   "cell_type": "code",
   "execution_count": 5,
   "metadata": {},
   "outputs": [
    {
     "ename": "NameError",
     "evalue": "name 'plt' is not defined",
     "output_type": "error",
     "traceback": [
      "\u001b[0;31m---------------------------------------------------------------------------\u001b[0m",
      "\u001b[0;31mNameError\u001b[0m                                 Traceback (most recent call last)",
      "\u001b[1;32m/Users/timo.wacke/VsCodeProjects/digital-twin-for-weather-station/playground.ipynb Cell 5\u001b[0m line \u001b[0;36m2\n\u001b[1;32m      <a href='vscode-notebook-cell:/Users/timo.wacke/VsCodeProjects/digital-twin-for-weather-station/playground.ipynb#X13sZmlsZQ%3D%3D?line=0'>1</a>\u001b[0m \u001b[39mfrom\u001b[39;00m \u001b[39mutils\u001b[39;00m\u001b[39m.\u001b[39;00m\u001b[39mutils\u001b[39;00m \u001b[39mimport\u001b[39;00m plot_measurements_df\n\u001b[0;32m----> <a href='vscode-notebook-cell:/Users/timo.wacke/VsCodeProjects/digital-twin-for-weather-station/playground.ipynb#X13sZmlsZQ%3D%3D?line=1'>2</a>\u001b[0m plot_measurements_df(marshall_station\u001b[39m.\u001b[39;49mdf)\n",
      "File \u001b[0;32m~/VsCodeProjects/digital-twin-for-weather-station/utils/utils.py:156\u001b[0m, in \u001b[0;36mplot_measurements_df\u001b[0;34m(df)\u001b[0m\n\u001b[1;32m    155\u001b[0m \u001b[39mdef\u001b[39;00m \u001b[39mplot_measurements_df\u001b[39m(df):\n\u001b[0;32m--> 156\u001b[0m     fig, ax \u001b[39m=\u001b[39m plt\u001b[39m.\u001b[39msubplots(\u001b[39m1\u001b[39m, \u001b[39m1\u001b[39m)\n\u001b[1;32m    157\u001b[0m     ax\u001b[39m.\u001b[39mplot(df\u001b[39m.\u001b[39mindex, df\u001b[39m.\u001b[39mtas, label\u001b[39m=\u001b[39m\u001b[39m\"\u001b[39m\u001b[39mtas\u001b[39m\u001b[39m\"\u001b[39m)\n\u001b[1;32m    158\u001b[0m     ax\u001b[39m.\u001b[39mlegend()\n",
      "\u001b[0;31mNameError\u001b[0m: name 'plt' is not defined"
     ]
    }
   ],
   "source": [
    "\n",
    "from utils.utils import plot_measurements_df\n",
    "plot_measurements_df(marshall_station.df)"
   ]
  },
  {
   "cell_type": "markdown",
   "metadata": {},
   "source": [
    "**Plot a few random timesteps of the weather station:**"
   ]
  },
  {
   "cell_type": "code",
   "execution_count": null,
   "metadata": {},
   "outputs": [],
   "source": [
    "random_timesteps = marshall_station.df.index"
   ]
  },
  {
   "cell_type": "code",
   "execution_count": null,
   "metadata": {},
   "outputs": [
    {
     "ename": "SyntaxError",
     "evalue": "positional argument follows keyword argument (804761686.py, line 1)",
     "output_type": "error",
     "traceback": [
      "\u001b[0;36m  Cell \u001b[0;32mIn[6], line 1\u001b[0;36m\u001b[0m\n\u001b[0;31m    training = TrainingExecuter(station=marshall_station, ProgressStatus())\u001b[0m\n\u001b[0m                                                                          ^\u001b[0m\n\u001b[0;31mSyntaxError\u001b[0m\u001b[0;31m:\u001b[0m positional argument follows keyword argument\n"
     ]
    }
   ],
   "source": [
    "\n",
    "training = TrainingExecuter(station=marshall_station, ProgressStatus())\n",
    "\n",
    "output_model_path = training.execute()\n",
    "marshall_data.add_model(output_model_path)\n",
    "\n"
   ]
  },
  {
   "cell_type": "code",
   "execution_count": null,
   "metadata": {},
   "outputs": [],
   "source": [
    "barbados_station = StationData(\"Barbados\", \"./measurements/Barbados/\")\n",
    "vienna_station = StationData(\"Vienna\", \"./measurements/Vienna/\")"
   ]
  }
 ],
 "metadata": {
  "kernelspec": {
   "display_name": "crai",
   "language": "python",
   "name": "python3"
  },
  "language_info": {
   "codemirror_mode": {
    "name": "ipython",
    "version": 3
   },
   "file_extension": ".py",
   "mimetype": "text/x-python",
   "name": "python",
   "nbconvert_exporter": "python",
   "pygments_lexer": "ipython3",
   "version": "3.10.13"
  }
 },
 "nbformat": 4,
 "nbformat_minor": 2
}
